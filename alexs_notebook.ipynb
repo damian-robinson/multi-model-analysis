{
 "cells": [
  {
   "cell_type": "code",
   "execution_count": 1,
   "id": "c4eeccd9-54f1-4c5f-be60-5e5b76e78335",
   "metadata": {},
   "outputs": [
    {
     "name": "stdout",
     "output_type": "stream",
     "text": [
      "['validation_report', 'glaciers_csv', 'glaciers_json', 'glacier-mass-balance_zip', 'glaciers']\n"
     ]
    }
   ],
   "source": [
    "import pandas as pd\n",
    "from datapackage import Package\n",
    "from pathlib import Path\n",
    "\n",
    "package = Package('https://datahub.io/core/glacier-mass-balance/datapackage.json')\n",
    "\n",
    "# print list of all resources:\n",
    "print(package.resource_names)\n",
    "\n",
    "# print processed tabular data (if exists any)\n",
    "for resource in package.resources:\n",
    "    if resource.descriptor['datahub']['type'] == 'derived/csv':\n",
    "        # Read the CSV data from the resource into a pandas DataFrame\n",
    "        glacier_mass_change_df = pd.read_csv(resource.descriptor['path'])\n"
   ]
  },
  {
   "cell_type": "code",
   "execution_count": 2,
   "id": "b49b9e96-8a31-4f8e-a186-37454e7a916e",
   "metadata": {},
   "outputs": [
    {
     "data": {
      "text/plain": [
       "Year                              int64\n",
       "Mean cumulative mass balance    float64\n",
       "Number of observations          float64\n",
       "dtype: object"
      ]
     },
     "execution_count": 2,
     "metadata": {},
     "output_type": "execute_result"
    }
   ],
   "source": [
    "glacier_mass_change_df.dtypes"
   ]
  },
  {
   "cell_type": "code",
   "execution_count": 3,
   "id": "073a57a8-e531-4df9-9181-7404380ee955",
   "metadata": {},
   "outputs": [
    {
     "name": "stdout",
     "output_type": "stream",
     "text": [
      "['validation_report', 'csiro_alt_gmsl_mo_2015_csv', 'csiro_alt_gmsl_yr_2015_csv', 'csiro_recons_gmsl_mo_2015_csv', 'csiro_recons_gmsl_yr_2015_csv', 'epa-sea-level_csv', 'csiro_alt_gmsl_mo_2015_json', 'csiro_alt_gmsl_yr_2015_json', 'csiro_recons_gmsl_mo_2015_json', 'csiro_recons_gmsl_yr_2015_json', 'epa-sea-level_json', 'sea-level-rise_zip', 'csiro_alt_gmsl_mo_2015', 'csiro_alt_gmsl_yr_2015', 'csiro_recons_gmsl_mo_2015', 'csiro_recons_gmsl_yr_2015', 'epa-sea-level']\n"
     ]
    }
   ],
   "source": [
    "sea_levels_package = Package('https://datahub.io/core/sea-level-rise/datapackage.json')\n",
    "\n",
    "# print list of all resources:\n",
    "print(sea_levels_package.resource_names)\n",
    "\n",
    "# print processed tabular data (if exists any)\n",
    "for resource in sea_levels_package.resources:\n",
    "    if resource.descriptor['datahub']['type'] == 'derived/csv':\n",
    "        # Read the CSV data from the resource into a pandas DataFrame\n",
    "        sea_level_change_df = pd.read_csv(resource.descriptor['path'])"
   ]
  },
  {
   "cell_type": "code",
   "execution_count": 4,
   "id": "784359d1-ecb3-4160-a4e9-14ed605b1516",
   "metadata": {},
   "outputs": [
    {
     "data": {
      "text/plain": [
       "Year                         object\n",
       "CSIRO Adjusted Sea Level    float64\n",
       "Lower Error Bound           float64\n",
       "Upper Error Bound           float64\n",
       "NOAA Adjusted Sea Level     float64\n",
       "dtype: object"
      ]
     },
     "execution_count": 4,
     "metadata": {},
     "output_type": "execute_result"
    }
   ],
   "source": [
    "sea_level_change_df.dtypes"
   ]
  },
  {
   "cell_type": "code",
   "execution_count": 5,
   "id": "a931e3f9-b658-42f2-9803-c97c50470a4f",
   "metadata": {},
   "outputs": [
    {
     "data": {
      "text/html": [
       "<div>\n",
       "<style scoped>\n",
       "    .dataframe tbody tr th:only-of-type {\n",
       "        vertical-align: middle;\n",
       "    }\n",
       "\n",
       "    .dataframe tbody tr th {\n",
       "        vertical-align: top;\n",
       "    }\n",
       "\n",
       "    .dataframe thead th {\n",
       "        text-align: right;\n",
       "    }\n",
       "</style>\n",
       "<table border=\"1\" class=\"dataframe\">\n",
       "  <thead>\n",
       "    <tr style=\"text-align: right;\">\n",
       "      <th></th>\n",
       "      <th>Year</th>\n",
       "      <th>CSIRO Adjusted Sea Level</th>\n",
       "      <th>Lower Error Bound</th>\n",
       "      <th>Upper Error Bound</th>\n",
       "      <th>NOAA Adjusted Sea Level</th>\n",
       "    </tr>\n",
       "  </thead>\n",
       "  <tbody>\n",
       "    <tr>\n",
       "      <th>0</th>\n",
       "      <td>1880</td>\n",
       "      <td>0.000000</td>\n",
       "      <td>-0.952756</td>\n",
       "      <td>0.952756</td>\n",
       "      <td>NaN</td>\n",
       "    </tr>\n",
       "    <tr>\n",
       "      <th>1</th>\n",
       "      <td>1881</td>\n",
       "      <td>0.220472</td>\n",
       "      <td>-0.732283</td>\n",
       "      <td>1.173228</td>\n",
       "      <td>NaN</td>\n",
       "    </tr>\n",
       "    <tr>\n",
       "      <th>2</th>\n",
       "      <td>1882</td>\n",
       "      <td>-0.440945</td>\n",
       "      <td>-1.346457</td>\n",
       "      <td>0.464567</td>\n",
       "      <td>NaN</td>\n",
       "    </tr>\n",
       "    <tr>\n",
       "      <th>3</th>\n",
       "      <td>1883</td>\n",
       "      <td>-0.232283</td>\n",
       "      <td>-1.129921</td>\n",
       "      <td>0.665354</td>\n",
       "      <td>NaN</td>\n",
       "    </tr>\n",
       "    <tr>\n",
       "      <th>4</th>\n",
       "      <td>1884</td>\n",
       "      <td>0.590551</td>\n",
       "      <td>-0.283465</td>\n",
       "      <td>1.464567</td>\n",
       "      <td>NaN</td>\n",
       "    </tr>\n",
       "    <tr>\n",
       "      <th>...</th>\n",
       "      <td>...</td>\n",
       "      <td>...</td>\n",
       "      <td>...</td>\n",
       "      <td>...</td>\n",
       "      <td>...</td>\n",
       "    </tr>\n",
       "    <tr>\n",
       "      <th>130</th>\n",
       "      <td>2010</td>\n",
       "      <td>8.901575</td>\n",
       "      <td>8.618110</td>\n",
       "      <td>9.185039</td>\n",
       "      <td>8.122973</td>\n",
       "    </tr>\n",
       "    <tr>\n",
       "      <th>131</th>\n",
       "      <td>2011</td>\n",
       "      <td>8.964567</td>\n",
       "      <td>8.661417</td>\n",
       "      <td>9.267717</td>\n",
       "      <td>8.053065</td>\n",
       "    </tr>\n",
       "    <tr>\n",
       "      <th>132</th>\n",
       "      <td>2012</td>\n",
       "      <td>9.326772</td>\n",
       "      <td>8.992126</td>\n",
       "      <td>9.661417</td>\n",
       "      <td>8.457058</td>\n",
       "    </tr>\n",
       "    <tr>\n",
       "      <th>133</th>\n",
       "      <td>2013</td>\n",
       "      <td>8.980315</td>\n",
       "      <td>8.622047</td>\n",
       "      <td>9.338583</td>\n",
       "      <td>8.546648</td>\n",
       "    </tr>\n",
       "    <tr>\n",
       "      <th>134</th>\n",
       "      <td>2014</td>\n",
       "      <td>NaN</td>\n",
       "      <td>NaN</td>\n",
       "      <td>NaN</td>\n",
       "      <td>8.663700</td>\n",
       "    </tr>\n",
       "  </tbody>\n",
       "</table>\n",
       "<p>135 rows × 5 columns</p>\n",
       "</div>"
      ],
      "text/plain": [
       "     Year  CSIRO Adjusted Sea Level  Lower Error Bound  Upper Error Bound  \\\n",
       "0    1880                  0.000000          -0.952756           0.952756   \n",
       "1    1881                  0.220472          -0.732283           1.173228   \n",
       "2    1882                 -0.440945          -1.346457           0.464567   \n",
       "3    1883                 -0.232283          -1.129921           0.665354   \n",
       "4    1884                  0.590551          -0.283465           1.464567   \n",
       "..    ...                       ...                ...                ...   \n",
       "130  2010                  8.901575           8.618110           9.185039   \n",
       "131  2011                  8.964567           8.661417           9.267717   \n",
       "132  2012                  9.326772           8.992126           9.661417   \n",
       "133  2013                  8.980315           8.622047           9.338583   \n",
       "134  2014                       NaN                NaN                NaN   \n",
       "\n",
       "     NOAA Adjusted Sea Level  \n",
       "0                        NaN  \n",
       "1                        NaN  \n",
       "2                        NaN  \n",
       "3                        NaN  \n",
       "4                        NaN  \n",
       "..                       ...  \n",
       "130                 8.122973  \n",
       "131                 8.053065  \n",
       "132                 8.457058  \n",
       "133                 8.546648  \n",
       "134                 8.663700  \n",
       "\n",
       "[135 rows x 5 columns]"
      ]
     },
     "execution_count": 5,
     "metadata": {},
     "output_type": "execute_result"
    }
   ],
   "source": [
    "# Convert the date_col column to a datetime data type\n",
    "sea_level_change_df['Year'] = pd.to_datetime(sea_level_change_df['Year'])\n",
    "\n",
    "# Drop the month and day and keep the year\n",
    "sea_level_change_df['Year'] = sea_level_change_df['Year'].dt.year\n",
    "\n",
    "# View updated DataFrame\n",
    "sea_level_change_df"
   ]
  },
  {
   "cell_type": "code",
   "execution_count": 6,
   "id": "25c66ca0-dbe4-4f68-93e4-9be960c71761",
   "metadata": {},
   "outputs": [
    {
     "data": {
      "text/plain": [
       "Year                          int64\n",
       "CSIRO Adjusted Sea Level    float64\n",
       "Lower Error Bound           float64\n",
       "Upper Error Bound           float64\n",
       "NOAA Adjusted Sea Level     float64\n",
       "dtype: object"
      ]
     },
     "execution_count": 6,
     "metadata": {},
     "output_type": "execute_result"
    }
   ],
   "source": [
    "sea_level_change_df.dtypes"
   ]
  },
  {
   "cell_type": "code",
   "execution_count": 7,
   "id": "f2724a2a-fb84-4aba-bd9a-e4b49c58620c",
   "metadata": {},
   "outputs": [],
   "source": [
    "# Use pd.to_datetime() to create a datetime index with the year column as the only component\n",
    "sea_level_change_df.index = pd.to_datetime(sea_level_change_df['Year'], format='%Y')\n",
    "\n",
    "# Drop the original year column\n",
    "sea_level_change_df.drop('Year', axis=1, inplace=True)"
   ]
  },
  {
   "cell_type": "code",
   "execution_count": 8,
   "id": "4fb5f86e-df79-48db-979d-251031bb4eb6",
   "metadata": {},
   "outputs": [],
   "source": [
    "sea_level_change_df.drop(columns = ['NOAA Adjusted Sea Level'], inplace=True)"
   ]
  },
  {
   "cell_type": "code",
   "execution_count": 9,
   "id": "03604142-6642-4814-9e0c-41abbebb4861",
   "metadata": {},
   "outputs": [
    {
     "data": {
      "text/html": [
       "<div>\n",
       "<style scoped>\n",
       "    .dataframe tbody tr th:only-of-type {\n",
       "        vertical-align: middle;\n",
       "    }\n",
       "\n",
       "    .dataframe tbody tr th {\n",
       "        vertical-align: top;\n",
       "    }\n",
       "\n",
       "    .dataframe thead th {\n",
       "        text-align: right;\n",
       "    }\n",
       "</style>\n",
       "<table border=\"1\" class=\"dataframe\">\n",
       "  <thead>\n",
       "    <tr style=\"text-align: right;\">\n",
       "      <th></th>\n",
       "      <th>Mean cumulative mass balance</th>\n",
       "      <th>Number of observations</th>\n",
       "    </tr>\n",
       "    <tr>\n",
       "      <th>Year</th>\n",
       "      <th></th>\n",
       "      <th></th>\n",
       "    </tr>\n",
       "  </thead>\n",
       "  <tbody>\n",
       "    <tr>\n",
       "      <th>1945-01-01</th>\n",
       "      <td>0.000</td>\n",
       "      <td>NaN</td>\n",
       "    </tr>\n",
       "    <tr>\n",
       "      <th>1946-01-01</th>\n",
       "      <td>-1.130</td>\n",
       "      <td>1.0</td>\n",
       "    </tr>\n",
       "    <tr>\n",
       "      <th>1947-01-01</th>\n",
       "      <td>-3.190</td>\n",
       "      <td>1.0</td>\n",
       "    </tr>\n",
       "    <tr>\n",
       "      <th>1948-01-01</th>\n",
       "      <td>-3.190</td>\n",
       "      <td>1.0</td>\n",
       "    </tr>\n",
       "    <tr>\n",
       "      <th>1949-01-01</th>\n",
       "      <td>-3.820</td>\n",
       "      <td>3.0</td>\n",
       "    </tr>\n",
       "    <tr>\n",
       "      <th>...</th>\n",
       "      <td>...</td>\n",
       "      <td>...</td>\n",
       "    </tr>\n",
       "    <tr>\n",
       "      <th>2010-01-01</th>\n",
       "      <td>-25.158</td>\n",
       "      <td>37.0</td>\n",
       "    </tr>\n",
       "    <tr>\n",
       "      <th>2011-01-01</th>\n",
       "      <td>-26.294</td>\n",
       "      <td>37.0</td>\n",
       "    </tr>\n",
       "    <tr>\n",
       "      <th>2012-01-01</th>\n",
       "      <td>-26.930</td>\n",
       "      <td>36.0</td>\n",
       "    </tr>\n",
       "    <tr>\n",
       "      <th>2013-01-01</th>\n",
       "      <td>-27.817</td>\n",
       "      <td>31.0</td>\n",
       "    </tr>\n",
       "    <tr>\n",
       "      <th>2014-01-01</th>\n",
       "      <td>-28.652</td>\n",
       "      <td>24.0</td>\n",
       "    </tr>\n",
       "  </tbody>\n",
       "</table>\n",
       "<p>70 rows × 2 columns</p>\n",
       "</div>"
      ],
      "text/plain": [
       "            Mean cumulative mass balance  Number of observations\n",
       "Year                                                            \n",
       "1945-01-01                         0.000                     NaN\n",
       "1946-01-01                        -1.130                     1.0\n",
       "1947-01-01                        -3.190                     1.0\n",
       "1948-01-01                        -3.190                     1.0\n",
       "1949-01-01                        -3.820                     3.0\n",
       "...                                  ...                     ...\n",
       "2010-01-01                       -25.158                    37.0\n",
       "2011-01-01                       -26.294                    37.0\n",
       "2012-01-01                       -26.930                    36.0\n",
       "2013-01-01                       -27.817                    31.0\n",
       "2014-01-01                       -28.652                    24.0\n",
       "\n",
       "[70 rows x 2 columns]"
      ]
     },
     "execution_count": 9,
     "metadata": {},
     "output_type": "execute_result"
    }
   ],
   "source": [
    "\n",
    "# Use pd.to_datetime() to create a datetime index with the year column as the only component\n",
    "glacier_mass_change_df.index = pd.to_datetime(glacier_mass_change_df['Year'], format='%Y')\n",
    "\n",
    "# Drop the original year column\n",
    "glacier_mass_change_df.drop('Year', axis=1, inplace=True)\n",
    "\n",
    "glacier_mass_change_df"
   ]
  },
  {
   "cell_type": "code",
   "execution_count": 10,
   "id": "b7b75884-80ca-4768-877a-7a3b4c111e1d",
   "metadata": {},
   "outputs": [
    {
     "data": {
      "text/plain": [
       "<bound method DataFrame.info of             Mean cumulative mass balance  Number of observations\n",
       "Year                                                            \n",
       "1945-01-01                         0.000                     NaN\n",
       "1946-01-01                        -1.130                     1.0\n",
       "1947-01-01                        -3.190                     1.0\n",
       "1948-01-01                        -3.190                     1.0\n",
       "1949-01-01                        -3.820                     3.0\n",
       "...                                  ...                     ...\n",
       "2010-01-01                       -25.158                    37.0\n",
       "2011-01-01                       -26.294                    37.0\n",
       "2012-01-01                       -26.930                    36.0\n",
       "2013-01-01                       -27.817                    31.0\n",
       "2014-01-01                       -28.652                    24.0\n",
       "\n",
       "[70 rows x 2 columns]>"
      ]
     },
     "execution_count": 10,
     "metadata": {},
     "output_type": "execute_result"
    }
   ],
   "source": [
    "glacier_mass_change_df.info"
   ]
  },
  {
   "cell_type": "code",
   "execution_count": 11,
   "id": "00f22ef0-65a3-416d-9154-9f42be13213f",
   "metadata": {},
   "outputs": [],
   "source": [
    "# Data Read-In of global_annual_mean_temp.csv\n",
    "annual_mean_temp_df = pd.read_csv('./data/global_annual_mean_temp.csv')"
   ]
  },
  {
   "cell_type": "code",
   "execution_count": 12,
   "id": "897febfa-be47-4450-a88b-81fa7a809a79",
   "metadata": {},
   "outputs": [
    {
     "data": {
      "text/html": [
       "<div>\n",
       "<style scoped>\n",
       "    .dataframe tbody tr th:only-of-type {\n",
       "        vertical-align: middle;\n",
       "    }\n",
       "\n",
       "    .dataframe tbody tr th {\n",
       "        vertical-align: top;\n",
       "    }\n",
       "\n",
       "    .dataframe thead th {\n",
       "        text-align: right;\n",
       "    }\n",
       "</style>\n",
       "<table border=\"1\" class=\"dataframe\">\n",
       "  <thead>\n",
       "    <tr style=\"text-align: right;\">\n",
       "      <th></th>\n",
       "      <th>Year</th>\n",
       "      <th>Temperature</th>\n",
       "    </tr>\n",
       "  </thead>\n",
       "  <tbody>\n",
       "    <tr>\n",
       "      <th>0</th>\n",
       "      <td>1880</td>\n",
       "      <td>-0.17</td>\n",
       "    </tr>\n",
       "    <tr>\n",
       "      <th>1</th>\n",
       "      <td>1881</td>\n",
       "      <td>-0.09</td>\n",
       "    </tr>\n",
       "    <tr>\n",
       "      <th>2</th>\n",
       "      <td>1882</td>\n",
       "      <td>-0.11</td>\n",
       "    </tr>\n",
       "    <tr>\n",
       "      <th>3</th>\n",
       "      <td>1883</td>\n",
       "      <td>-0.18</td>\n",
       "    </tr>\n",
       "    <tr>\n",
       "      <th>4</th>\n",
       "      <td>1884</td>\n",
       "      <td>-0.28</td>\n",
       "    </tr>\n",
       "  </tbody>\n",
       "</table>\n",
       "</div>"
      ],
      "text/plain": [
       "   Year  Temperature\n",
       "0  1880        -0.17\n",
       "1  1881        -0.09\n",
       "2  1882        -0.11\n",
       "3  1883        -0.18\n",
       "4  1884        -0.28"
      ]
     },
     "execution_count": 12,
     "metadata": {},
     "output_type": "execute_result"
    }
   ],
   "source": [
    "annual_mean_temp_df = annual_mean_temp_df.drop(columns=['Lowess(5)'])\n",
    "annual_mean_temp_df.columns = ['Year', 'Temperature']\n",
    "annual_mean_temp_df.head()"
   ]
  },
  {
   "cell_type": "code",
   "execution_count": 13,
   "id": "71012d72-6506-4e30-b70f-e1da427fc14b",
   "metadata": {},
   "outputs": [
    {
     "name": "stdout",
     "output_type": "stream",
     "text": [
      "            Emissions\n",
      "Year                 \n",
      "1750-01-01  9350528.0\n",
      "1751-01-01  9350528.0\n",
      "1752-01-01  9354192.0\n",
      "1753-01-01  9354192.0\n",
      "1754-01-01  9357856.0\n"
     ]
    }
   ],
   "source": [
    "# Read-in .csv file\n",
    "global_emissions_df = pd.read_csv('./data/co2-emissions.csv')\n",
    "\n",
    "# Convert 'Year' column to datetime object\n",
    "global_emissions_df['Year'] = pd.to_datetime(global_emissions_df['Year'], format='%Y')\n",
    "\n",
    "# Drop unnecessary column: Code\n",
    "global_emissions_df.drop(columns=['Code'], inplace=True)\n",
    "\n",
    "# Rename columns\n",
    "global_emissions_df.columns = ['Location', 'Year', 'Emissions']\n",
    "\n",
    "# Filter rows\n",
    "global_emissions_df = global_emissions_df.loc[global_emissions_df['Location'] == 'World']\n",
    "\n",
    "#Set Index\n",
    "global_emissions_df.set_index('Year', inplace=True)\n",
    "\n",
    "# Drop 'Location' column\n",
    "global_emissions_df.drop(columns=['Location'], inplace=True)\n",
    "\n",
    "\n",
    "# Print the updated DataFrame\n",
    "print(global_emissions_df.head())\n"
   ]
  },
  {
   "cell_type": "code",
   "execution_count": 14,
   "id": "d22b7be7-7650-49d9-98db-f9c98f7b6cb8",
   "metadata": {},
   "outputs": [
    {
     "data": {
      "text/plain": [
       "Emissions    float64\n",
       "dtype: object"
      ]
     },
     "execution_count": 14,
     "metadata": {},
     "output_type": "execute_result"
    }
   ],
   "source": [
    "global_emissions_df.dtypes"
   ]
  },
  {
   "cell_type": "code",
   "execution_count": 15,
   "id": "e0014961-a6e6-4bc6-ab27-e9ee8b067878",
   "metadata": {},
   "outputs": [
    {
     "data": {
      "text/html": [
       "<div>\n",
       "<style scoped>\n",
       "    .dataframe tbody tr th:only-of-type {\n",
       "        vertical-align: middle;\n",
       "    }\n",
       "\n",
       "    .dataframe tbody tr th {\n",
       "        vertical-align: top;\n",
       "    }\n",
       "\n",
       "    .dataframe thead th {\n",
       "        text-align: right;\n",
       "    }\n",
       "</style>\n",
       "<table border=\"1\" class=\"dataframe\">\n",
       "  <thead>\n",
       "    <tr style=\"text-align: right;\">\n",
       "      <th></th>\n",
       "      <th>Temperature</th>\n",
       "    </tr>\n",
       "    <tr>\n",
       "      <th>Year</th>\n",
       "      <th></th>\n",
       "    </tr>\n",
       "  </thead>\n",
       "  <tbody>\n",
       "    <tr>\n",
       "      <th>1880-01-01</th>\n",
       "      <td>-0.17</td>\n",
       "    </tr>\n",
       "    <tr>\n",
       "      <th>1881-01-01</th>\n",
       "      <td>-0.09</td>\n",
       "    </tr>\n",
       "    <tr>\n",
       "      <th>1882-01-01</th>\n",
       "      <td>-0.11</td>\n",
       "    </tr>\n",
       "    <tr>\n",
       "      <th>1883-01-01</th>\n",
       "      <td>-0.18</td>\n",
       "    </tr>\n",
       "    <tr>\n",
       "      <th>1884-01-01</th>\n",
       "      <td>-0.28</td>\n",
       "    </tr>\n",
       "    <tr>\n",
       "      <th>...</th>\n",
       "      <td>...</td>\n",
       "    </tr>\n",
       "    <tr>\n",
       "      <th>2018-01-01</th>\n",
       "      <td>0.85</td>\n",
       "    </tr>\n",
       "    <tr>\n",
       "      <th>2019-01-01</th>\n",
       "      <td>0.98</td>\n",
       "    </tr>\n",
       "    <tr>\n",
       "      <th>2020-01-01</th>\n",
       "      <td>1.02</td>\n",
       "    </tr>\n",
       "    <tr>\n",
       "      <th>2021-01-01</th>\n",
       "      <td>0.84</td>\n",
       "    </tr>\n",
       "    <tr>\n",
       "      <th>2022-01-01</th>\n",
       "      <td>0.89</td>\n",
       "    </tr>\n",
       "  </tbody>\n",
       "</table>\n",
       "<p>143 rows × 1 columns</p>\n",
       "</div>"
      ],
      "text/plain": [
       "            Temperature\n",
       "Year                   \n",
       "1880-01-01        -0.17\n",
       "1881-01-01        -0.09\n",
       "1882-01-01        -0.11\n",
       "1883-01-01        -0.18\n",
       "1884-01-01        -0.28\n",
       "...                 ...\n",
       "2018-01-01         0.85\n",
       "2019-01-01         0.98\n",
       "2020-01-01         1.02\n",
       "2021-01-01         0.84\n",
       "2022-01-01         0.89\n",
       "\n",
       "[143 rows x 1 columns]"
      ]
     },
     "execution_count": 15,
     "metadata": {},
     "output_type": "execute_result"
    }
   ],
   "source": [
    "annual_mean_temp_df.index = pd.to_datetime(annual_mean_temp_df['Year'], format='%Y')\n",
    "\n",
    "# Drop the original year column\n",
    "annual_mean_temp_df.drop('Year', axis=1, inplace=True)\n",
    "\n",
    "annual_mean_temp_df"
   ]
  },
  {
   "cell_type": "code",
   "execution_count": 16,
   "id": "88ad78ea-c87a-43ef-9cae-bb4f79b6eea1",
   "metadata": {},
   "outputs": [],
   "source": [
    "# Concatenate the DataFrames vertically with the index preserved\n",
    "combined_df = pd.concat([glacier_mass_change_df, sea_level_change_df, annual_mean_temp_df, global_emissions_df], axis=1)\n"
   ]
  },
  {
   "cell_type": "code",
   "execution_count": 17,
   "id": "4f91539c-c5eb-46d1-b682-5fe830fe3181",
   "metadata": {},
   "outputs": [
    {
     "data": {
      "text/html": [
       "<div>\n",
       "<style scoped>\n",
       "    .dataframe tbody tr th:only-of-type {\n",
       "        vertical-align: middle;\n",
       "    }\n",
       "\n",
       "    .dataframe tbody tr th {\n",
       "        vertical-align: top;\n",
       "    }\n",
       "\n",
       "    .dataframe thead th {\n",
       "        text-align: right;\n",
       "    }\n",
       "</style>\n",
       "<table border=\"1\" class=\"dataframe\">\n",
       "  <thead>\n",
       "    <tr style=\"text-align: right;\">\n",
       "      <th></th>\n",
       "      <th>Mean cumulative mass balance</th>\n",
       "      <th>Number of observations</th>\n",
       "      <th>CSIRO Adjusted Sea Level</th>\n",
       "      <th>Lower Error Bound</th>\n",
       "      <th>Upper Error Bound</th>\n",
       "      <th>Temperature</th>\n",
       "      <th>Emissions</th>\n",
       "    </tr>\n",
       "    <tr>\n",
       "      <th>Year</th>\n",
       "      <th></th>\n",
       "      <th></th>\n",
       "      <th></th>\n",
       "      <th></th>\n",
       "      <th></th>\n",
       "      <th></th>\n",
       "      <th></th>\n",
       "    </tr>\n",
       "  </thead>\n",
       "  <tbody>\n",
       "    <tr>\n",
       "      <th>1993-01-01</th>\n",
       "      <td>-14.695</td>\n",
       "      <td>37.0</td>\n",
       "      <td>6.291339</td>\n",
       "      <td>6.027559</td>\n",
       "      <td>6.555118</td>\n",
       "      <td>0.23</td>\n",
       "      <td>2.281290e+10</td>\n",
       "    </tr>\n",
       "    <tr>\n",
       "      <th>1994-01-01</th>\n",
       "      <td>-15.276</td>\n",
       "      <td>37.0</td>\n",
       "      <td>6.500000</td>\n",
       "      <td>6.236220</td>\n",
       "      <td>6.763780</td>\n",
       "      <td>0.32</td>\n",
       "      <td>2.296950e+10</td>\n",
       "    </tr>\n",
       "    <tr>\n",
       "      <th>1995-01-01</th>\n",
       "      <td>-15.486</td>\n",
       "      <td>37.0</td>\n",
       "      <td>6.618110</td>\n",
       "      <td>6.354331</td>\n",
       "      <td>6.881890</td>\n",
       "      <td>0.45</td>\n",
       "      <td>2.345871e+10</td>\n",
       "    </tr>\n",
       "    <tr>\n",
       "      <th>1996-01-01</th>\n",
       "      <td>-15.890</td>\n",
       "      <td>37.0</td>\n",
       "      <td>6.787402</td>\n",
       "      <td>6.523622</td>\n",
       "      <td>7.051181</td>\n",
       "      <td>0.33</td>\n",
       "      <td>2.415938e+10</td>\n",
       "    </tr>\n",
       "    <tr>\n",
       "      <th>1997-01-01</th>\n",
       "      <td>-16.487</td>\n",
       "      <td>37.0</td>\n",
       "      <td>7.066929</td>\n",
       "      <td>6.803150</td>\n",
       "      <td>7.330709</td>\n",
       "      <td>0.46</td>\n",
       "      <td>2.430258e+10</td>\n",
       "    </tr>\n",
       "    <tr>\n",
       "      <th>1998-01-01</th>\n",
       "      <td>-17.310</td>\n",
       "      <td>37.0</td>\n",
       "      <td>6.665354</td>\n",
       "      <td>6.393701</td>\n",
       "      <td>6.937008</td>\n",
       "      <td>0.61</td>\n",
       "      <td>2.421326e+10</td>\n",
       "    </tr>\n",
       "    <tr>\n",
       "      <th>1999-01-01</th>\n",
       "      <td>-17.697</td>\n",
       "      <td>37.0</td>\n",
       "      <td>7.011811</td>\n",
       "      <td>6.736220</td>\n",
       "      <td>7.287402</td>\n",
       "      <td>0.38</td>\n",
       "      <td>2.473239e+10</td>\n",
       "    </tr>\n",
       "    <tr>\n",
       "      <th>2000-01-01</th>\n",
       "      <td>-17.727</td>\n",
       "      <td>37.0</td>\n",
       "      <td>7.062992</td>\n",
       "      <td>6.791339</td>\n",
       "      <td>7.334646</td>\n",
       "      <td>0.39</td>\n",
       "      <td>2.545362e+10</td>\n",
       "    </tr>\n",
       "    <tr>\n",
       "      <th>2001-01-01</th>\n",
       "      <td>-18.032</td>\n",
       "      <td>37.0</td>\n",
       "      <td>7.287402</td>\n",
       "      <td>7.019685</td>\n",
       "      <td>7.555118</td>\n",
       "      <td>0.53</td>\n",
       "      <td>2.566805e+10</td>\n",
       "    </tr>\n",
       "    <tr>\n",
       "      <th>2002-01-01</th>\n",
       "      <td>-18.726</td>\n",
       "      <td>37.0</td>\n",
       "      <td>7.381890</td>\n",
       "      <td>7.110236</td>\n",
       "      <td>7.653543</td>\n",
       "      <td>0.63</td>\n",
       "      <td>2.628104e+10</td>\n",
       "    </tr>\n",
       "    <tr>\n",
       "      <th>2003-01-01</th>\n",
       "      <td>-19.984</td>\n",
       "      <td>37.0</td>\n",
       "      <td>7.759843</td>\n",
       "      <td>7.484252</td>\n",
       "      <td>8.035433</td>\n",
       "      <td>0.62</td>\n",
       "      <td>2.765160e+10</td>\n",
       "    </tr>\n",
       "    <tr>\n",
       "      <th>2004-01-01</th>\n",
       "      <td>-20.703</td>\n",
       "      <td>37.0</td>\n",
       "      <td>7.740157</td>\n",
       "      <td>7.464567</td>\n",
       "      <td>8.015748</td>\n",
       "      <td>0.53</td>\n",
       "      <td>2.863670e+10</td>\n",
       "    </tr>\n",
       "    <tr>\n",
       "      <th>2005-01-01</th>\n",
       "      <td>-21.405</td>\n",
       "      <td>37.0</td>\n",
       "      <td>7.744094</td>\n",
       "      <td>7.472441</td>\n",
       "      <td>8.015748</td>\n",
       "      <td>0.67</td>\n",
       "      <td>2.961460e+10</td>\n",
       "    </tr>\n",
       "    <tr>\n",
       "      <th>2006-01-01</th>\n",
       "      <td>-22.595</td>\n",
       "      <td>37.0</td>\n",
       "      <td>7.917323</td>\n",
       "      <td>7.645669</td>\n",
       "      <td>8.188976</td>\n",
       "      <td>0.63</td>\n",
       "      <td>3.059312e+10</td>\n",
       "    </tr>\n",
       "    <tr>\n",
       "      <th>2007-01-01</th>\n",
       "      <td>-23.255</td>\n",
       "      <td>37.0</td>\n",
       "      <td>7.996063</td>\n",
       "      <td>7.712598</td>\n",
       "      <td>8.279528</td>\n",
       "      <td>0.66</td>\n",
       "      <td>3.150679e+10</td>\n",
       "    </tr>\n",
       "    <tr>\n",
       "      <th>2008-01-01</th>\n",
       "      <td>-23.776</td>\n",
       "      <td>37.0</td>\n",
       "      <td>8.350394</td>\n",
       "      <td>8.078740</td>\n",
       "      <td>8.622047</td>\n",
       "      <td>0.54</td>\n",
       "      <td>3.208584e+10</td>\n",
       "    </tr>\n",
       "    <tr>\n",
       "      <th>2009-01-01</th>\n",
       "      <td>-24.459</td>\n",
       "      <td>37.0</td>\n",
       "      <td>8.586614</td>\n",
       "      <td>8.311024</td>\n",
       "      <td>8.862205</td>\n",
       "      <td>0.65</td>\n",
       "      <td>3.156403e+10</td>\n",
       "    </tr>\n",
       "    <tr>\n",
       "      <th>2010-01-01</th>\n",
       "      <td>-25.158</td>\n",
       "      <td>37.0</td>\n",
       "      <td>8.901575</td>\n",
       "      <td>8.618110</td>\n",
       "      <td>9.185039</td>\n",
       "      <td>0.72</td>\n",
       "      <td>3.336435e+10</td>\n",
       "    </tr>\n",
       "    <tr>\n",
       "      <th>2011-01-01</th>\n",
       "      <td>-26.294</td>\n",
       "      <td>37.0</td>\n",
       "      <td>8.964567</td>\n",
       "      <td>8.661417</td>\n",
       "      <td>9.267717</td>\n",
       "      <td>0.61</td>\n",
       "      <td>3.448701e+10</td>\n",
       "    </tr>\n",
       "    <tr>\n",
       "      <th>2012-01-01</th>\n",
       "      <td>-26.930</td>\n",
       "      <td>36.0</td>\n",
       "      <td>9.326772</td>\n",
       "      <td>8.992126</td>\n",
       "      <td>9.661417</td>\n",
       "      <td>0.65</td>\n",
       "      <td>3.500627e+10</td>\n",
       "    </tr>\n",
       "    <tr>\n",
       "      <th>2013-01-01</th>\n",
       "      <td>-27.817</td>\n",
       "      <td>31.0</td>\n",
       "      <td>8.980315</td>\n",
       "      <td>8.622047</td>\n",
       "      <td>9.338583</td>\n",
       "      <td>0.67</td>\n",
       "      <td>3.531920e+10</td>\n",
       "    </tr>\n",
       "    <tr>\n",
       "      <th>2014-01-01</th>\n",
       "      <td>-28.652</td>\n",
       "      <td>24.0</td>\n",
       "      <td>NaN</td>\n",
       "      <td>NaN</td>\n",
       "      <td>NaN</td>\n",
       "      <td>0.74</td>\n",
       "      <td>3.557754e+10</td>\n",
       "    </tr>\n",
       "    <tr>\n",
       "      <th>2015-01-01</th>\n",
       "      <td>NaN</td>\n",
       "      <td>NaN</td>\n",
       "      <td>NaN</td>\n",
       "      <td>NaN</td>\n",
       "      <td>NaN</td>\n",
       "      <td>0.89</td>\n",
       "      <td>3.555857e+10</td>\n",
       "    </tr>\n",
       "    <tr>\n",
       "      <th>2016-01-01</th>\n",
       "      <td>NaN</td>\n",
       "      <td>NaN</td>\n",
       "      <td>NaN</td>\n",
       "      <td>NaN</td>\n",
       "      <td>NaN</td>\n",
       "      <td>1.01</td>\n",
       "      <td>3.552419e+10</td>\n",
       "    </tr>\n",
       "    <tr>\n",
       "      <th>2017-01-01</th>\n",
       "      <td>NaN</td>\n",
       "      <td>NaN</td>\n",
       "      <td>NaN</td>\n",
       "      <td>NaN</td>\n",
       "      <td>NaN</td>\n",
       "      <td>0.92</td>\n",
       "      <td>3.609674e+10</td>\n",
       "    </tr>\n",
       "    <tr>\n",
       "      <th>2018-01-01</th>\n",
       "      <td>NaN</td>\n",
       "      <td>NaN</td>\n",
       "      <td>NaN</td>\n",
       "      <td>NaN</td>\n",
       "      <td>NaN</td>\n",
       "      <td>0.85</td>\n",
       "      <td>3.682651e+10</td>\n",
       "    </tr>\n",
       "    <tr>\n",
       "      <th>2019-01-01</th>\n",
       "      <td>NaN</td>\n",
       "      <td>NaN</td>\n",
       "      <td>NaN</td>\n",
       "      <td>NaN</td>\n",
       "      <td>NaN</td>\n",
       "      <td>0.98</td>\n",
       "      <td>3.708256e+10</td>\n",
       "    </tr>\n",
       "    <tr>\n",
       "      <th>2020-01-01</th>\n",
       "      <td>NaN</td>\n",
       "      <td>NaN</td>\n",
       "      <td>NaN</td>\n",
       "      <td>NaN</td>\n",
       "      <td>NaN</td>\n",
       "      <td>1.02</td>\n",
       "      <td>3.526409e+10</td>\n",
       "    </tr>\n",
       "    <tr>\n",
       "      <th>2021-01-01</th>\n",
       "      <td>NaN</td>\n",
       "      <td>NaN</td>\n",
       "      <td>NaN</td>\n",
       "      <td>NaN</td>\n",
       "      <td>NaN</td>\n",
       "      <td>0.84</td>\n",
       "      <td>3.712385e+10</td>\n",
       "    </tr>\n",
       "    <tr>\n",
       "      <th>2022-01-01</th>\n",
       "      <td>NaN</td>\n",
       "      <td>NaN</td>\n",
       "      <td>NaN</td>\n",
       "      <td>NaN</td>\n",
       "      <td>NaN</td>\n",
       "      <td>0.89</td>\n",
       "      <td>NaN</td>\n",
       "    </tr>\n",
       "  </tbody>\n",
       "</table>\n",
       "</div>"
      ],
      "text/plain": [
       "            Mean cumulative mass balance  Number of observations  \\\n",
       "Year                                                               \n",
       "1993-01-01                       -14.695                    37.0   \n",
       "1994-01-01                       -15.276                    37.0   \n",
       "1995-01-01                       -15.486                    37.0   \n",
       "1996-01-01                       -15.890                    37.0   \n",
       "1997-01-01                       -16.487                    37.0   \n",
       "1998-01-01                       -17.310                    37.0   \n",
       "1999-01-01                       -17.697                    37.0   \n",
       "2000-01-01                       -17.727                    37.0   \n",
       "2001-01-01                       -18.032                    37.0   \n",
       "2002-01-01                       -18.726                    37.0   \n",
       "2003-01-01                       -19.984                    37.0   \n",
       "2004-01-01                       -20.703                    37.0   \n",
       "2005-01-01                       -21.405                    37.0   \n",
       "2006-01-01                       -22.595                    37.0   \n",
       "2007-01-01                       -23.255                    37.0   \n",
       "2008-01-01                       -23.776                    37.0   \n",
       "2009-01-01                       -24.459                    37.0   \n",
       "2010-01-01                       -25.158                    37.0   \n",
       "2011-01-01                       -26.294                    37.0   \n",
       "2012-01-01                       -26.930                    36.0   \n",
       "2013-01-01                       -27.817                    31.0   \n",
       "2014-01-01                       -28.652                    24.0   \n",
       "2015-01-01                           NaN                     NaN   \n",
       "2016-01-01                           NaN                     NaN   \n",
       "2017-01-01                           NaN                     NaN   \n",
       "2018-01-01                           NaN                     NaN   \n",
       "2019-01-01                           NaN                     NaN   \n",
       "2020-01-01                           NaN                     NaN   \n",
       "2021-01-01                           NaN                     NaN   \n",
       "2022-01-01                           NaN                     NaN   \n",
       "\n",
       "            CSIRO Adjusted Sea Level  Lower Error Bound  Upper Error Bound  \\\n",
       "Year                                                                         \n",
       "1993-01-01                  6.291339           6.027559           6.555118   \n",
       "1994-01-01                  6.500000           6.236220           6.763780   \n",
       "1995-01-01                  6.618110           6.354331           6.881890   \n",
       "1996-01-01                  6.787402           6.523622           7.051181   \n",
       "1997-01-01                  7.066929           6.803150           7.330709   \n",
       "1998-01-01                  6.665354           6.393701           6.937008   \n",
       "1999-01-01                  7.011811           6.736220           7.287402   \n",
       "2000-01-01                  7.062992           6.791339           7.334646   \n",
       "2001-01-01                  7.287402           7.019685           7.555118   \n",
       "2002-01-01                  7.381890           7.110236           7.653543   \n",
       "2003-01-01                  7.759843           7.484252           8.035433   \n",
       "2004-01-01                  7.740157           7.464567           8.015748   \n",
       "2005-01-01                  7.744094           7.472441           8.015748   \n",
       "2006-01-01                  7.917323           7.645669           8.188976   \n",
       "2007-01-01                  7.996063           7.712598           8.279528   \n",
       "2008-01-01                  8.350394           8.078740           8.622047   \n",
       "2009-01-01                  8.586614           8.311024           8.862205   \n",
       "2010-01-01                  8.901575           8.618110           9.185039   \n",
       "2011-01-01                  8.964567           8.661417           9.267717   \n",
       "2012-01-01                  9.326772           8.992126           9.661417   \n",
       "2013-01-01                  8.980315           8.622047           9.338583   \n",
       "2014-01-01                       NaN                NaN                NaN   \n",
       "2015-01-01                       NaN                NaN                NaN   \n",
       "2016-01-01                       NaN                NaN                NaN   \n",
       "2017-01-01                       NaN                NaN                NaN   \n",
       "2018-01-01                       NaN                NaN                NaN   \n",
       "2019-01-01                       NaN                NaN                NaN   \n",
       "2020-01-01                       NaN                NaN                NaN   \n",
       "2021-01-01                       NaN                NaN                NaN   \n",
       "2022-01-01                       NaN                NaN                NaN   \n",
       "\n",
       "            Temperature     Emissions  \n",
       "Year                                   \n",
       "1993-01-01         0.23  2.281290e+10  \n",
       "1994-01-01         0.32  2.296950e+10  \n",
       "1995-01-01         0.45  2.345871e+10  \n",
       "1996-01-01         0.33  2.415938e+10  \n",
       "1997-01-01         0.46  2.430258e+10  \n",
       "1998-01-01         0.61  2.421326e+10  \n",
       "1999-01-01         0.38  2.473239e+10  \n",
       "2000-01-01         0.39  2.545362e+10  \n",
       "2001-01-01         0.53  2.566805e+10  \n",
       "2002-01-01         0.63  2.628104e+10  \n",
       "2003-01-01         0.62  2.765160e+10  \n",
       "2004-01-01         0.53  2.863670e+10  \n",
       "2005-01-01         0.67  2.961460e+10  \n",
       "2006-01-01         0.63  3.059312e+10  \n",
       "2007-01-01         0.66  3.150679e+10  \n",
       "2008-01-01         0.54  3.208584e+10  \n",
       "2009-01-01         0.65  3.156403e+10  \n",
       "2010-01-01         0.72  3.336435e+10  \n",
       "2011-01-01         0.61  3.448701e+10  \n",
       "2012-01-01         0.65  3.500627e+10  \n",
       "2013-01-01         0.67  3.531920e+10  \n",
       "2014-01-01         0.74  3.557754e+10  \n",
       "2015-01-01         0.89  3.555857e+10  \n",
       "2016-01-01         1.01  3.552419e+10  \n",
       "2017-01-01         0.92  3.609674e+10  \n",
       "2018-01-01         0.85  3.682651e+10  \n",
       "2019-01-01         0.98  3.708256e+10  \n",
       "2020-01-01         1.02  3.526409e+10  \n",
       "2021-01-01         0.84  3.712385e+10  \n",
       "2022-01-01         0.89           NaN  "
      ]
     },
     "execution_count": 17,
     "metadata": {},
     "output_type": "execute_result"
    }
   ],
   "source": [
    "# Print the resulting DataFrame\n",
    "combined_df.tail(30)"
   ]
  },
  {
   "cell_type": "code",
   "execution_count": 18,
   "id": "66877f47-3af4-47cc-85ae-ab2e8f5fdaf9",
   "metadata": {},
   "outputs": [
    {
     "data": {
      "text/html": [
       "<div>\n",
       "<style scoped>\n",
       "    .dataframe tbody tr th:only-of-type {\n",
       "        vertical-align: middle;\n",
       "    }\n",
       "\n",
       "    .dataframe tbody tr th {\n",
       "        vertical-align: top;\n",
       "    }\n",
       "\n",
       "    .dataframe thead th {\n",
       "        text-align: right;\n",
       "    }\n",
       "</style>\n",
       "<table border=\"1\" class=\"dataframe\">\n",
       "  <thead>\n",
       "    <tr style=\"text-align: right;\">\n",
       "      <th></th>\n",
       "      <th>Mean cumulative mass balance</th>\n",
       "      <th>Number of observations</th>\n",
       "      <th>CSIRO Adjusted Sea Level</th>\n",
       "      <th>Lower Error Bound</th>\n",
       "      <th>Upper Error Bound</th>\n",
       "      <th>Temperature</th>\n",
       "      <th>Emissions</th>\n",
       "    </tr>\n",
       "    <tr>\n",
       "      <th>Year</th>\n",
       "      <th></th>\n",
       "      <th></th>\n",
       "      <th></th>\n",
       "      <th></th>\n",
       "      <th></th>\n",
       "      <th></th>\n",
       "      <th></th>\n",
       "    </tr>\n",
       "  </thead>\n",
       "  <tbody>\n",
       "    <tr>\n",
       "      <th>1946-01-01</th>\n",
       "      <td>-1.130</td>\n",
       "      <td>1.0</td>\n",
       "      <td>3.251969</td>\n",
       "      <td>2.834646</td>\n",
       "      <td>3.669291</td>\n",
       "      <td>-0.07</td>\n",
       "      <td>4.638339e+09</td>\n",
       "    </tr>\n",
       "    <tr>\n",
       "      <th>1947-01-01</th>\n",
       "      <td>-3.190</td>\n",
       "      <td>1.0</td>\n",
       "      <td>3.374016</td>\n",
       "      <td>2.996063</td>\n",
       "      <td>3.751968</td>\n",
       "      <td>-0.02</td>\n",
       "      <td>5.138490e+09</td>\n",
       "    </tr>\n",
       "    <tr>\n",
       "      <th>1948-01-01</th>\n",
       "      <td>-3.190</td>\n",
       "      <td>1.0</td>\n",
       "      <td>3.562992</td>\n",
       "      <td>3.196850</td>\n",
       "      <td>3.929134</td>\n",
       "      <td>-0.10</td>\n",
       "      <td>5.415710e+09</td>\n",
       "    </tr>\n",
       "    <tr>\n",
       "      <th>1949-01-01</th>\n",
       "      <td>-3.820</td>\n",
       "      <td>3.0</td>\n",
       "      <td>3.511811</td>\n",
       "      <td>3.181102</td>\n",
       "      <td>3.842520</td>\n",
       "      <td>-0.11</td>\n",
       "      <td>5.245849e+09</td>\n",
       "    </tr>\n",
       "    <tr>\n",
       "      <th>1950-01-01</th>\n",
       "      <td>-4.887</td>\n",
       "      <td>3.0</td>\n",
       "      <td>3.598425</td>\n",
       "      <td>3.287402</td>\n",
       "      <td>3.909449</td>\n",
       "      <td>-0.17</td>\n",
       "      <td>6.003272e+09</td>\n",
       "    </tr>\n",
       "    <tr>\n",
       "      <th>...</th>\n",
       "      <td>...</td>\n",
       "      <td>...</td>\n",
       "      <td>...</td>\n",
       "      <td>...</td>\n",
       "      <td>...</td>\n",
       "      <td>...</td>\n",
       "      <td>...</td>\n",
       "    </tr>\n",
       "    <tr>\n",
       "      <th>2009-01-01</th>\n",
       "      <td>-24.459</td>\n",
       "      <td>37.0</td>\n",
       "      <td>8.586614</td>\n",
       "      <td>8.311024</td>\n",
       "      <td>8.862205</td>\n",
       "      <td>0.65</td>\n",
       "      <td>3.156403e+10</td>\n",
       "    </tr>\n",
       "    <tr>\n",
       "      <th>2010-01-01</th>\n",
       "      <td>-25.158</td>\n",
       "      <td>37.0</td>\n",
       "      <td>8.901575</td>\n",
       "      <td>8.618110</td>\n",
       "      <td>9.185039</td>\n",
       "      <td>0.72</td>\n",
       "      <td>3.336435e+10</td>\n",
       "    </tr>\n",
       "    <tr>\n",
       "      <th>2011-01-01</th>\n",
       "      <td>-26.294</td>\n",
       "      <td>37.0</td>\n",
       "      <td>8.964567</td>\n",
       "      <td>8.661417</td>\n",
       "      <td>9.267717</td>\n",
       "      <td>0.61</td>\n",
       "      <td>3.448701e+10</td>\n",
       "    </tr>\n",
       "    <tr>\n",
       "      <th>2012-01-01</th>\n",
       "      <td>-26.930</td>\n",
       "      <td>36.0</td>\n",
       "      <td>9.326772</td>\n",
       "      <td>8.992126</td>\n",
       "      <td>9.661417</td>\n",
       "      <td>0.65</td>\n",
       "      <td>3.500627e+10</td>\n",
       "    </tr>\n",
       "    <tr>\n",
       "      <th>2013-01-01</th>\n",
       "      <td>-27.817</td>\n",
       "      <td>31.0</td>\n",
       "      <td>8.980315</td>\n",
       "      <td>8.622047</td>\n",
       "      <td>9.338583</td>\n",
       "      <td>0.67</td>\n",
       "      <td>3.531920e+10</td>\n",
       "    </tr>\n",
       "  </tbody>\n",
       "</table>\n",
       "<p>68 rows × 7 columns</p>\n",
       "</div>"
      ],
      "text/plain": [
       "            Mean cumulative mass balance  Number of observations  \\\n",
       "Year                                                               \n",
       "1946-01-01                        -1.130                     1.0   \n",
       "1947-01-01                        -3.190                     1.0   \n",
       "1948-01-01                        -3.190                     1.0   \n",
       "1949-01-01                        -3.820                     3.0   \n",
       "1950-01-01                        -4.887                     3.0   \n",
       "...                                  ...                     ...   \n",
       "2009-01-01                       -24.459                    37.0   \n",
       "2010-01-01                       -25.158                    37.0   \n",
       "2011-01-01                       -26.294                    37.0   \n",
       "2012-01-01                       -26.930                    36.0   \n",
       "2013-01-01                       -27.817                    31.0   \n",
       "\n",
       "            CSIRO Adjusted Sea Level  Lower Error Bound  Upper Error Bound  \\\n",
       "Year                                                                         \n",
       "1946-01-01                  3.251969           2.834646           3.669291   \n",
       "1947-01-01                  3.374016           2.996063           3.751968   \n",
       "1948-01-01                  3.562992           3.196850           3.929134   \n",
       "1949-01-01                  3.511811           3.181102           3.842520   \n",
       "1950-01-01                  3.598425           3.287402           3.909449   \n",
       "...                              ...                ...                ...   \n",
       "2009-01-01                  8.586614           8.311024           8.862205   \n",
       "2010-01-01                  8.901575           8.618110           9.185039   \n",
       "2011-01-01                  8.964567           8.661417           9.267717   \n",
       "2012-01-01                  9.326772           8.992126           9.661417   \n",
       "2013-01-01                  8.980315           8.622047           9.338583   \n",
       "\n",
       "            Temperature     Emissions  \n",
       "Year                                   \n",
       "1946-01-01        -0.07  4.638339e+09  \n",
       "1947-01-01        -0.02  5.138490e+09  \n",
       "1948-01-01        -0.10  5.415710e+09  \n",
       "1949-01-01        -0.11  5.245849e+09  \n",
       "1950-01-01        -0.17  6.003272e+09  \n",
       "...                 ...           ...  \n",
       "2009-01-01         0.65  3.156403e+10  \n",
       "2010-01-01         0.72  3.336435e+10  \n",
       "2011-01-01         0.61  3.448701e+10  \n",
       "2012-01-01         0.65  3.500627e+10  \n",
       "2013-01-01         0.67  3.531920e+10  \n",
       "\n",
       "[68 rows x 7 columns]"
      ]
     },
     "execution_count": 18,
     "metadata": {},
     "output_type": "execute_result"
    }
   ],
   "source": [
    "# Drop null values\n",
    "combined_df = combined_df.dropna()\n",
    "combined_df"
   ]
  },
  {
   "cell_type": "code",
   "execution_count": 19,
   "id": "527b2596-f232-4cc8-ad8c-d6e73ed7d824",
   "metadata": {},
   "outputs": [],
   "source": [
    "# combined_df = combined_df.drop(columns = ['Number of observations', 'Lower Error Bound', 'Upper Error Bound'])\n",
    "# combined_df"
   ]
  },
  {
   "cell_type": "code",
   "execution_count": 20,
   "id": "e514a6d4-72ff-439e-9304-d6cea9b73270",
   "metadata": {},
   "outputs": [],
   "source": [
    "combined_df['Mean cumulative mass balance'] = combined_df['Mean cumulative mass balance'].abs()"
   ]
  },
  {
   "cell_type": "code",
   "execution_count": 21,
   "id": "759c9735-7bca-4a91-800e-32b61c50d6d6",
   "metadata": {},
   "outputs": [
    {
     "data": {
      "text/html": [
       "<div>\n",
       "<style scoped>\n",
       "    .dataframe tbody tr th:only-of-type {\n",
       "        vertical-align: middle;\n",
       "    }\n",
       "\n",
       "    .dataframe tbody tr th {\n",
       "        vertical-align: top;\n",
       "    }\n",
       "\n",
       "    .dataframe thead th {\n",
       "        text-align: right;\n",
       "    }\n",
       "</style>\n",
       "<table border=\"1\" class=\"dataframe\">\n",
       "  <thead>\n",
       "    <tr style=\"text-align: right;\">\n",
       "      <th></th>\n",
       "      <th>Mean cumulative mass balance</th>\n",
       "      <th>Number of observations</th>\n",
       "      <th>CSIRO Adjusted Sea Level</th>\n",
       "      <th>Lower Error Bound</th>\n",
       "      <th>Upper Error Bound</th>\n",
       "      <th>Temperature</th>\n",
       "      <th>Emissions</th>\n",
       "    </tr>\n",
       "    <tr>\n",
       "      <th>Year</th>\n",
       "      <th></th>\n",
       "      <th></th>\n",
       "      <th></th>\n",
       "      <th></th>\n",
       "      <th></th>\n",
       "      <th></th>\n",
       "      <th></th>\n",
       "    </tr>\n",
       "  </thead>\n",
       "  <tbody>\n",
       "    <tr>\n",
       "      <th>1946-01-01</th>\n",
       "      <td>1.130</td>\n",
       "      <td>1.0</td>\n",
       "      <td>3.251969</td>\n",
       "      <td>2.834646</td>\n",
       "      <td>3.669291</td>\n",
       "      <td>-0.07</td>\n",
       "      <td>4.638339e+09</td>\n",
       "    </tr>\n",
       "    <tr>\n",
       "      <th>1947-01-01</th>\n",
       "      <td>3.190</td>\n",
       "      <td>1.0</td>\n",
       "      <td>3.374016</td>\n",
       "      <td>2.996063</td>\n",
       "      <td>3.751968</td>\n",
       "      <td>-0.02</td>\n",
       "      <td>5.138490e+09</td>\n",
       "    </tr>\n",
       "    <tr>\n",
       "      <th>1948-01-01</th>\n",
       "      <td>3.190</td>\n",
       "      <td>1.0</td>\n",
       "      <td>3.562992</td>\n",
       "      <td>3.196850</td>\n",
       "      <td>3.929134</td>\n",
       "      <td>-0.10</td>\n",
       "      <td>5.415710e+09</td>\n",
       "    </tr>\n",
       "    <tr>\n",
       "      <th>1949-01-01</th>\n",
       "      <td>3.820</td>\n",
       "      <td>3.0</td>\n",
       "      <td>3.511811</td>\n",
       "      <td>3.181102</td>\n",
       "      <td>3.842520</td>\n",
       "      <td>-0.11</td>\n",
       "      <td>5.245849e+09</td>\n",
       "    </tr>\n",
       "    <tr>\n",
       "      <th>1950-01-01</th>\n",
       "      <td>4.887</td>\n",
       "      <td>3.0</td>\n",
       "      <td>3.598425</td>\n",
       "      <td>3.287402</td>\n",
       "      <td>3.909449</td>\n",
       "      <td>-0.17</td>\n",
       "      <td>6.003272e+09</td>\n",
       "    </tr>\n",
       "    <tr>\n",
       "      <th>1951-01-01</th>\n",
       "      <td>5.217</td>\n",
       "      <td>3.0</td>\n",
       "      <td>3.972441</td>\n",
       "      <td>3.665354</td>\n",
       "      <td>4.279528</td>\n",
       "      <td>-0.07</td>\n",
       "      <td>6.379796e+09</td>\n",
       "    </tr>\n",
       "    <tr>\n",
       "      <th>1952-01-01</th>\n",
       "      <td>5.707</td>\n",
       "      <td>3.0</td>\n",
       "      <td>3.870079</td>\n",
       "      <td>3.566929</td>\n",
       "      <td>4.173228</td>\n",
       "      <td>0.01</td>\n",
       "      <td>6.465727e+09</td>\n",
       "    </tr>\n",
       "    <tr>\n",
       "      <th>1953-01-01</th>\n",
       "      <td>6.341</td>\n",
       "      <td>7.0</td>\n",
       "      <td>4.043307</td>\n",
       "      <td>3.748031</td>\n",
       "      <td>4.338583</td>\n",
       "      <td>0.08</td>\n",
       "      <td>6.647763e+09</td>\n",
       "    </tr>\n",
       "    <tr>\n",
       "      <th>1954-01-01</th>\n",
       "      <td>6.825</td>\n",
       "      <td>6.0</td>\n",
       "      <td>3.929134</td>\n",
       "      <td>3.641732</td>\n",
       "      <td>4.216535</td>\n",
       "      <td>-0.13</td>\n",
       "      <td>6.789969e+09</td>\n",
       "    </tr>\n",
       "    <tr>\n",
       "      <th>1955-01-01</th>\n",
       "      <td>6.575</td>\n",
       "      <td>7.0</td>\n",
       "      <td>3.964567</td>\n",
       "      <td>3.685039</td>\n",
       "      <td>4.244094</td>\n",
       "      <td>-0.14</td>\n",
       "      <td>7.443244e+09</td>\n",
       "    </tr>\n",
       "    <tr>\n",
       "      <th>1956-01-01</th>\n",
       "      <td>6.814</td>\n",
       "      <td>7.0</td>\n",
       "      <td>3.763780</td>\n",
       "      <td>3.488189</td>\n",
       "      <td>4.039370</td>\n",
       "      <td>-0.19</td>\n",
       "      <td>7.924253e+09</td>\n",
       "    </tr>\n",
       "    <tr>\n",
       "      <th>1957-01-01</th>\n",
       "      <td>6.989</td>\n",
       "      <td>9.0</td>\n",
       "      <td>4.291339</td>\n",
       "      <td>4.019685</td>\n",
       "      <td>4.562992</td>\n",
       "      <td>0.05</td>\n",
       "      <td>8.185547e+09</td>\n",
       "    </tr>\n",
       "    <tr>\n",
       "      <th>1958-01-01</th>\n",
       "      <td>7.693</td>\n",
       "      <td>9.0</td>\n",
       "      <td>4.346457</td>\n",
       "      <td>4.086614</td>\n",
       "      <td>4.606299</td>\n",
       "      <td>0.06</td>\n",
       "      <td>8.417624e+09</td>\n",
       "    </tr>\n",
       "    <tr>\n",
       "      <th>1959-01-01</th>\n",
       "      <td>8.325</td>\n",
       "      <td>11.0</td>\n",
       "      <td>4.358268</td>\n",
       "      <td>4.102362</td>\n",
       "      <td>4.614173</td>\n",
       "      <td>0.03</td>\n",
       "      <td>8.856221e+09</td>\n",
       "    </tr>\n",
       "    <tr>\n",
       "      <th>1960-01-01</th>\n",
       "      <td>8.688</td>\n",
       "      <td>14.0</td>\n",
       "      <td>4.503937</td>\n",
       "      <td>4.244094</td>\n",
       "      <td>4.763780</td>\n",
       "      <td>-0.03</td>\n",
       "      <td>9.387668e+09</td>\n",
       "    </tr>\n",
       "    <tr>\n",
       "      <th>1961-01-01</th>\n",
       "      <td>8.935</td>\n",
       "      <td>15.0</td>\n",
       "      <td>4.748031</td>\n",
       "      <td>4.488189</td>\n",
       "      <td>5.007874</td>\n",
       "      <td>0.06</td>\n",
       "      <td>9.418460e+09</td>\n",
       "    </tr>\n",
       "    <tr>\n",
       "      <th>1962-01-01</th>\n",
       "      <td>9.109</td>\n",
       "      <td>20.0</td>\n",
       "      <td>4.543307</td>\n",
       "      <td>4.283465</td>\n",
       "      <td>4.803150</td>\n",
       "      <td>0.03</td>\n",
       "      <td>9.751059e+09</td>\n",
       "    </tr>\n",
       "    <tr>\n",
       "      <th>1963-01-01</th>\n",
       "      <td>9.567</td>\n",
       "      <td>22.0</td>\n",
       "      <td>4.480315</td>\n",
       "      <td>4.220472</td>\n",
       "      <td>4.740157</td>\n",
       "      <td>0.05</td>\n",
       "      <td>1.027166e+10</td>\n",
       "    </tr>\n",
       "    <tr>\n",
       "      <th>1964-01-01</th>\n",
       "      <td>9.699</td>\n",
       "      <td>22.0</td>\n",
       "      <td>4.169291</td>\n",
       "      <td>3.905512</td>\n",
       "      <td>4.433071</td>\n",
       "      <td>-0.20</td>\n",
       "      <td>1.082961e+10</td>\n",
       "    </tr>\n",
       "    <tr>\n",
       "      <th>1965-01-01</th>\n",
       "      <td>9.298</td>\n",
       "      <td>24.0</td>\n",
       "      <td>4.610236</td>\n",
       "      <td>4.346457</td>\n",
       "      <td>4.874016</td>\n",
       "      <td>-0.11</td>\n",
       "      <td>1.131760e+10</td>\n",
       "    </tr>\n",
       "    <tr>\n",
       "      <th>1966-01-01</th>\n",
       "      <td>9.436</td>\n",
       "      <td>27.0</td>\n",
       "      <td>4.397638</td>\n",
       "      <td>4.137795</td>\n",
       "      <td>4.657480</td>\n",
       "      <td>-0.06</td>\n",
       "      <td>1.186693e+10</td>\n",
       "    </tr>\n",
       "    <tr>\n",
       "      <th>1967-01-01</th>\n",
       "      <td>9.303</td>\n",
       "      <td>29.0</td>\n",
       "      <td>4.452756</td>\n",
       "      <td>4.196850</td>\n",
       "      <td>4.708661</td>\n",
       "      <td>-0.02</td>\n",
       "      <td>1.224403e+10</td>\n",
       "    </tr>\n",
       "    <tr>\n",
       "      <th>1968-01-01</th>\n",
       "      <td>9.219</td>\n",
       "      <td>31.0</td>\n",
       "      <td>4.484252</td>\n",
       "      <td>4.220472</td>\n",
       "      <td>4.748031</td>\n",
       "      <td>-0.08</td>\n",
       "      <td>1.291089e+10</td>\n",
       "    </tr>\n",
       "    <tr>\n",
       "      <th>1969-01-01</th>\n",
       "      <td>9.732</td>\n",
       "      <td>31.0</td>\n",
       "      <td>4.751968</td>\n",
       "      <td>4.476378</td>\n",
       "      <td>5.027559</td>\n",
       "      <td>0.05</td>\n",
       "      <td>1.376740e+10</td>\n",
       "    </tr>\n",
       "    <tr>\n",
       "      <th>1970-01-01</th>\n",
       "      <td>10.128</td>\n",
       "      <td>32.0</td>\n",
       "      <td>4.677165</td>\n",
       "      <td>4.401575</td>\n",
       "      <td>4.952756</td>\n",
       "      <td>0.02</td>\n",
       "      <td>1.489872e+10</td>\n",
       "    </tr>\n",
       "    <tr>\n",
       "      <th>1971-01-01</th>\n",
       "      <td>10.288</td>\n",
       "      <td>32.0</td>\n",
       "      <td>4.881890</td>\n",
       "      <td>4.610236</td>\n",
       "      <td>5.153543</td>\n",
       "      <td>-0.08</td>\n",
       "      <td>1.550550e+10</td>\n",
       "    </tr>\n",
       "    <tr>\n",
       "      <th>1972-01-01</th>\n",
       "      <td>10.441</td>\n",
       "      <td>32.0</td>\n",
       "      <td>5.240157</td>\n",
       "      <td>4.968504</td>\n",
       "      <td>5.511811</td>\n",
       "      <td>0.01</td>\n",
       "      <td>1.622873e+10</td>\n",
       "    </tr>\n",
       "    <tr>\n",
       "      <th>1973-01-01</th>\n",
       "      <td>10.538</td>\n",
       "      <td>32.0</td>\n",
       "      <td>5.003937</td>\n",
       "      <td>4.736220</td>\n",
       "      <td>5.271654</td>\n",
       "      <td>0.16</td>\n",
       "      <td>1.708619e+10</td>\n",
       "    </tr>\n",
       "    <tr>\n",
       "      <th>1974-01-01</th>\n",
       "      <td>10.613</td>\n",
       "      <td>32.0</td>\n",
       "      <td>5.472441</td>\n",
       "      <td>5.204724</td>\n",
       "      <td>5.740157</td>\n",
       "      <td>-0.07</td>\n",
       "      <td>1.701748e+10</td>\n",
       "    </tr>\n",
       "    <tr>\n",
       "      <th>1975-01-01</th>\n",
       "      <td>10.534</td>\n",
       "      <td>33.0</td>\n",
       "      <td>5.409449</td>\n",
       "      <td>5.145669</td>\n",
       "      <td>5.673228</td>\n",
       "      <td>-0.01</td>\n",
       "      <td>1.705463e+10</td>\n",
       "    </tr>\n",
       "    <tr>\n",
       "      <th>1976-01-01</th>\n",
       "      <td>10.633</td>\n",
       "      <td>35.0</td>\n",
       "      <td>5.370079</td>\n",
       "      <td>5.102362</td>\n",
       "      <td>5.637795</td>\n",
       "      <td>-0.10</td>\n",
       "      <td>1.799189e+10</td>\n",
       "    </tr>\n",
       "    <tr>\n",
       "      <th>1977-01-01</th>\n",
       "      <td>10.682</td>\n",
       "      <td>37.0</td>\n",
       "      <td>5.303150</td>\n",
       "      <td>5.043307</td>\n",
       "      <td>5.562992</td>\n",
       "      <td>0.18</td>\n",
       "      <td>1.850285e+10</td>\n",
       "    </tr>\n",
       "    <tr>\n",
       "      <th>1978-01-01</th>\n",
       "      <td>10.754</td>\n",
       "      <td>37.0</td>\n",
       "      <td>5.555118</td>\n",
       "      <td>5.291339</td>\n",
       "      <td>5.818898</td>\n",
       "      <td>0.07</td>\n",
       "      <td>1.907719e+10</td>\n",
       "    </tr>\n",
       "    <tr>\n",
       "      <th>1979-01-01</th>\n",
       "      <td>11.127</td>\n",
       "      <td>37.0</td>\n",
       "      <td>5.362205</td>\n",
       "      <td>5.098425</td>\n",
       "      <td>5.625984</td>\n",
       "      <td>0.16</td>\n",
       "      <td>1.961846e+10</td>\n",
       "    </tr>\n",
       "    <tr>\n",
       "      <th>1980-01-01</th>\n",
       "      <td>11.318</td>\n",
       "      <td>36.0</td>\n",
       "      <td>5.598425</td>\n",
       "      <td>5.342520</td>\n",
       "      <td>5.854331</td>\n",
       "      <td>0.26</td>\n",
       "      <td>1.950126e+10</td>\n",
       "    </tr>\n",
       "    <tr>\n",
       "      <th>1981-01-01</th>\n",
       "      <td>11.394</td>\n",
       "      <td>35.0</td>\n",
       "      <td>6.086614</td>\n",
       "      <td>5.830709</td>\n",
       "      <td>6.342520</td>\n",
       "      <td>0.32</td>\n",
       "      <td>1.903612e+10</td>\n",
       "    </tr>\n",
       "    <tr>\n",
       "      <th>1982-01-01</th>\n",
       "      <td>11.849</td>\n",
       "      <td>36.0</td>\n",
       "      <td>5.858268</td>\n",
       "      <td>5.610236</td>\n",
       "      <td>6.106299</td>\n",
       "      <td>0.14</td>\n",
       "      <td>1.888449e+10</td>\n",
       "    </tr>\n",
       "    <tr>\n",
       "      <th>1983-01-01</th>\n",
       "      <td>11.846</td>\n",
       "      <td>37.0</td>\n",
       "      <td>6.188976</td>\n",
       "      <td>5.933071</td>\n",
       "      <td>6.444882</td>\n",
       "      <td>0.31</td>\n",
       "      <td>1.900654e+10</td>\n",
       "    </tr>\n",
       "    <tr>\n",
       "      <th>1984-01-01</th>\n",
       "      <td>11.902</td>\n",
       "      <td>37.0</td>\n",
       "      <td>6.153543</td>\n",
       "      <td>5.905512</td>\n",
       "      <td>6.401575</td>\n",
       "      <td>0.16</td>\n",
       "      <td>1.966476e+10</td>\n",
       "    </tr>\n",
       "    <tr>\n",
       "      <th>1985-01-01</th>\n",
       "      <td>12.238</td>\n",
       "      <td>37.0</td>\n",
       "      <td>5.748031</td>\n",
       "      <td>5.500000</td>\n",
       "      <td>5.996063</td>\n",
       "      <td>0.12</td>\n",
       "      <td>2.032549e+10</td>\n",
       "    </tr>\n",
       "    <tr>\n",
       "      <th>1986-01-01</th>\n",
       "      <td>12.782</td>\n",
       "      <td>37.0</td>\n",
       "      <td>5.771654</td>\n",
       "      <td>5.523622</td>\n",
       "      <td>6.019685</td>\n",
       "      <td>0.18</td>\n",
       "      <td>2.062736e+10</td>\n",
       "    </tr>\n",
       "    <tr>\n",
       "      <th>1987-01-01</th>\n",
       "      <td>12.795</td>\n",
       "      <td>37.0</td>\n",
       "      <td>5.795276</td>\n",
       "      <td>5.551181</td>\n",
       "      <td>6.039370</td>\n",
       "      <td>0.32</td>\n",
       "      <td>2.127390e+10</td>\n",
       "    </tr>\n",
       "    <tr>\n",
       "      <th>1988-01-01</th>\n",
       "      <td>13.260</td>\n",
       "      <td>37.0</td>\n",
       "      <td>5.980315</td>\n",
       "      <td>5.732283</td>\n",
       "      <td>6.228346</td>\n",
       "      <td>0.39</td>\n",
       "      <td>2.210780e+10</td>\n",
       "    </tr>\n",
       "    <tr>\n",
       "      <th>1989-01-01</th>\n",
       "      <td>13.343</td>\n",
       "      <td>37.0</td>\n",
       "      <td>6.157480</td>\n",
       "      <td>5.905512</td>\n",
       "      <td>6.409449</td>\n",
       "      <td>0.27</td>\n",
       "      <td>2.241040e+10</td>\n",
       "    </tr>\n",
       "    <tr>\n",
       "      <th>1990-01-01</th>\n",
       "      <td>13.687</td>\n",
       "      <td>37.0</td>\n",
       "      <td>6.232283</td>\n",
       "      <td>5.972441</td>\n",
       "      <td>6.492126</td>\n",
       "      <td>0.45</td>\n",
       "      <td>2.275748e+10</td>\n",
       "    </tr>\n",
       "    <tr>\n",
       "      <th>1991-01-01</th>\n",
       "      <td>14.255</td>\n",
       "      <td>37.0</td>\n",
       "      <td>6.334646</td>\n",
       "      <td>6.074803</td>\n",
       "      <td>6.594488</td>\n",
       "      <td>0.40</td>\n",
       "      <td>2.324481e+10</td>\n",
       "    </tr>\n",
       "    <tr>\n",
       "      <th>1992-01-01</th>\n",
       "      <td>14.501</td>\n",
       "      <td>36.0</td>\n",
       "      <td>6.358268</td>\n",
       "      <td>6.094488</td>\n",
       "      <td>6.622047</td>\n",
       "      <td>0.22</td>\n",
       "      <td>2.258002e+10</td>\n",
       "    </tr>\n",
       "    <tr>\n",
       "      <th>1993-01-01</th>\n",
       "      <td>14.695</td>\n",
       "      <td>37.0</td>\n",
       "      <td>6.291339</td>\n",
       "      <td>6.027559</td>\n",
       "      <td>6.555118</td>\n",
       "      <td>0.23</td>\n",
       "      <td>2.281290e+10</td>\n",
       "    </tr>\n",
       "    <tr>\n",
       "      <th>1994-01-01</th>\n",
       "      <td>15.276</td>\n",
       "      <td>37.0</td>\n",
       "      <td>6.500000</td>\n",
       "      <td>6.236220</td>\n",
       "      <td>6.763780</td>\n",
       "      <td>0.32</td>\n",
       "      <td>2.296950e+10</td>\n",
       "    </tr>\n",
       "    <tr>\n",
       "      <th>1995-01-01</th>\n",
       "      <td>15.486</td>\n",
       "      <td>37.0</td>\n",
       "      <td>6.618110</td>\n",
       "      <td>6.354331</td>\n",
       "      <td>6.881890</td>\n",
       "      <td>0.45</td>\n",
       "      <td>2.345871e+10</td>\n",
       "    </tr>\n",
       "    <tr>\n",
       "      <th>1996-01-01</th>\n",
       "      <td>15.890</td>\n",
       "      <td>37.0</td>\n",
       "      <td>6.787402</td>\n",
       "      <td>6.523622</td>\n",
       "      <td>7.051181</td>\n",
       "      <td>0.33</td>\n",
       "      <td>2.415938e+10</td>\n",
       "    </tr>\n",
       "    <tr>\n",
       "      <th>1997-01-01</th>\n",
       "      <td>16.487</td>\n",
       "      <td>37.0</td>\n",
       "      <td>7.066929</td>\n",
       "      <td>6.803150</td>\n",
       "      <td>7.330709</td>\n",
       "      <td>0.46</td>\n",
       "      <td>2.430258e+10</td>\n",
       "    </tr>\n",
       "    <tr>\n",
       "      <th>1998-01-01</th>\n",
       "      <td>17.310</td>\n",
       "      <td>37.0</td>\n",
       "      <td>6.665354</td>\n",
       "      <td>6.393701</td>\n",
       "      <td>6.937008</td>\n",
       "      <td>0.61</td>\n",
       "      <td>2.421326e+10</td>\n",
       "    </tr>\n",
       "    <tr>\n",
       "      <th>1999-01-01</th>\n",
       "      <td>17.697</td>\n",
       "      <td>37.0</td>\n",
       "      <td>7.011811</td>\n",
       "      <td>6.736220</td>\n",
       "      <td>7.287402</td>\n",
       "      <td>0.38</td>\n",
       "      <td>2.473239e+10</td>\n",
       "    </tr>\n",
       "    <tr>\n",
       "      <th>2000-01-01</th>\n",
       "      <td>17.727</td>\n",
       "      <td>37.0</td>\n",
       "      <td>7.062992</td>\n",
       "      <td>6.791339</td>\n",
       "      <td>7.334646</td>\n",
       "      <td>0.39</td>\n",
       "      <td>2.545362e+10</td>\n",
       "    </tr>\n",
       "    <tr>\n",
       "      <th>2001-01-01</th>\n",
       "      <td>18.032</td>\n",
       "      <td>37.0</td>\n",
       "      <td>7.287402</td>\n",
       "      <td>7.019685</td>\n",
       "      <td>7.555118</td>\n",
       "      <td>0.53</td>\n",
       "      <td>2.566805e+10</td>\n",
       "    </tr>\n",
       "    <tr>\n",
       "      <th>2002-01-01</th>\n",
       "      <td>18.726</td>\n",
       "      <td>37.0</td>\n",
       "      <td>7.381890</td>\n",
       "      <td>7.110236</td>\n",
       "      <td>7.653543</td>\n",
       "      <td>0.63</td>\n",
       "      <td>2.628104e+10</td>\n",
       "    </tr>\n",
       "    <tr>\n",
       "      <th>2003-01-01</th>\n",
       "      <td>19.984</td>\n",
       "      <td>37.0</td>\n",
       "      <td>7.759843</td>\n",
       "      <td>7.484252</td>\n",
       "      <td>8.035433</td>\n",
       "      <td>0.62</td>\n",
       "      <td>2.765160e+10</td>\n",
       "    </tr>\n",
       "    <tr>\n",
       "      <th>2004-01-01</th>\n",
       "      <td>20.703</td>\n",
       "      <td>37.0</td>\n",
       "      <td>7.740157</td>\n",
       "      <td>7.464567</td>\n",
       "      <td>8.015748</td>\n",
       "      <td>0.53</td>\n",
       "      <td>2.863670e+10</td>\n",
       "    </tr>\n",
       "    <tr>\n",
       "      <th>2005-01-01</th>\n",
       "      <td>21.405</td>\n",
       "      <td>37.0</td>\n",
       "      <td>7.744094</td>\n",
       "      <td>7.472441</td>\n",
       "      <td>8.015748</td>\n",
       "      <td>0.67</td>\n",
       "      <td>2.961460e+10</td>\n",
       "    </tr>\n",
       "    <tr>\n",
       "      <th>2006-01-01</th>\n",
       "      <td>22.595</td>\n",
       "      <td>37.0</td>\n",
       "      <td>7.917323</td>\n",
       "      <td>7.645669</td>\n",
       "      <td>8.188976</td>\n",
       "      <td>0.63</td>\n",
       "      <td>3.059312e+10</td>\n",
       "    </tr>\n",
       "    <tr>\n",
       "      <th>2007-01-01</th>\n",
       "      <td>23.255</td>\n",
       "      <td>37.0</td>\n",
       "      <td>7.996063</td>\n",
       "      <td>7.712598</td>\n",
       "      <td>8.279528</td>\n",
       "      <td>0.66</td>\n",
       "      <td>3.150679e+10</td>\n",
       "    </tr>\n",
       "    <tr>\n",
       "      <th>2008-01-01</th>\n",
       "      <td>23.776</td>\n",
       "      <td>37.0</td>\n",
       "      <td>8.350394</td>\n",
       "      <td>8.078740</td>\n",
       "      <td>8.622047</td>\n",
       "      <td>0.54</td>\n",
       "      <td>3.208584e+10</td>\n",
       "    </tr>\n",
       "    <tr>\n",
       "      <th>2009-01-01</th>\n",
       "      <td>24.459</td>\n",
       "      <td>37.0</td>\n",
       "      <td>8.586614</td>\n",
       "      <td>8.311024</td>\n",
       "      <td>8.862205</td>\n",
       "      <td>0.65</td>\n",
       "      <td>3.156403e+10</td>\n",
       "    </tr>\n",
       "    <tr>\n",
       "      <th>2010-01-01</th>\n",
       "      <td>25.158</td>\n",
       "      <td>37.0</td>\n",
       "      <td>8.901575</td>\n",
       "      <td>8.618110</td>\n",
       "      <td>9.185039</td>\n",
       "      <td>0.72</td>\n",
       "      <td>3.336435e+10</td>\n",
       "    </tr>\n",
       "    <tr>\n",
       "      <th>2011-01-01</th>\n",
       "      <td>26.294</td>\n",
       "      <td>37.0</td>\n",
       "      <td>8.964567</td>\n",
       "      <td>8.661417</td>\n",
       "      <td>9.267717</td>\n",
       "      <td>0.61</td>\n",
       "      <td>3.448701e+10</td>\n",
       "    </tr>\n",
       "    <tr>\n",
       "      <th>2012-01-01</th>\n",
       "      <td>26.930</td>\n",
       "      <td>36.0</td>\n",
       "      <td>9.326772</td>\n",
       "      <td>8.992126</td>\n",
       "      <td>9.661417</td>\n",
       "      <td>0.65</td>\n",
       "      <td>3.500627e+10</td>\n",
       "    </tr>\n",
       "    <tr>\n",
       "      <th>2013-01-01</th>\n",
       "      <td>27.817</td>\n",
       "      <td>31.0</td>\n",
       "      <td>8.980315</td>\n",
       "      <td>8.622047</td>\n",
       "      <td>9.338583</td>\n",
       "      <td>0.67</td>\n",
       "      <td>3.531920e+10</td>\n",
       "    </tr>\n",
       "  </tbody>\n",
       "</table>\n",
       "</div>"
      ],
      "text/plain": [
       "            Mean cumulative mass balance  Number of observations  \\\n",
       "Year                                                               \n",
       "1946-01-01                         1.130                     1.0   \n",
       "1947-01-01                         3.190                     1.0   \n",
       "1948-01-01                         3.190                     1.0   \n",
       "1949-01-01                         3.820                     3.0   \n",
       "1950-01-01                         4.887                     3.0   \n",
       "1951-01-01                         5.217                     3.0   \n",
       "1952-01-01                         5.707                     3.0   \n",
       "1953-01-01                         6.341                     7.0   \n",
       "1954-01-01                         6.825                     6.0   \n",
       "1955-01-01                         6.575                     7.0   \n",
       "1956-01-01                         6.814                     7.0   \n",
       "1957-01-01                         6.989                     9.0   \n",
       "1958-01-01                         7.693                     9.0   \n",
       "1959-01-01                         8.325                    11.0   \n",
       "1960-01-01                         8.688                    14.0   \n",
       "1961-01-01                         8.935                    15.0   \n",
       "1962-01-01                         9.109                    20.0   \n",
       "1963-01-01                         9.567                    22.0   \n",
       "1964-01-01                         9.699                    22.0   \n",
       "1965-01-01                         9.298                    24.0   \n",
       "1966-01-01                         9.436                    27.0   \n",
       "1967-01-01                         9.303                    29.0   \n",
       "1968-01-01                         9.219                    31.0   \n",
       "1969-01-01                         9.732                    31.0   \n",
       "1970-01-01                        10.128                    32.0   \n",
       "1971-01-01                        10.288                    32.0   \n",
       "1972-01-01                        10.441                    32.0   \n",
       "1973-01-01                        10.538                    32.0   \n",
       "1974-01-01                        10.613                    32.0   \n",
       "1975-01-01                        10.534                    33.0   \n",
       "1976-01-01                        10.633                    35.0   \n",
       "1977-01-01                        10.682                    37.0   \n",
       "1978-01-01                        10.754                    37.0   \n",
       "1979-01-01                        11.127                    37.0   \n",
       "1980-01-01                        11.318                    36.0   \n",
       "1981-01-01                        11.394                    35.0   \n",
       "1982-01-01                        11.849                    36.0   \n",
       "1983-01-01                        11.846                    37.0   \n",
       "1984-01-01                        11.902                    37.0   \n",
       "1985-01-01                        12.238                    37.0   \n",
       "1986-01-01                        12.782                    37.0   \n",
       "1987-01-01                        12.795                    37.0   \n",
       "1988-01-01                        13.260                    37.0   \n",
       "1989-01-01                        13.343                    37.0   \n",
       "1990-01-01                        13.687                    37.0   \n",
       "1991-01-01                        14.255                    37.0   \n",
       "1992-01-01                        14.501                    36.0   \n",
       "1993-01-01                        14.695                    37.0   \n",
       "1994-01-01                        15.276                    37.0   \n",
       "1995-01-01                        15.486                    37.0   \n",
       "1996-01-01                        15.890                    37.0   \n",
       "1997-01-01                        16.487                    37.0   \n",
       "1998-01-01                        17.310                    37.0   \n",
       "1999-01-01                        17.697                    37.0   \n",
       "2000-01-01                        17.727                    37.0   \n",
       "2001-01-01                        18.032                    37.0   \n",
       "2002-01-01                        18.726                    37.0   \n",
       "2003-01-01                        19.984                    37.0   \n",
       "2004-01-01                        20.703                    37.0   \n",
       "2005-01-01                        21.405                    37.0   \n",
       "2006-01-01                        22.595                    37.0   \n",
       "2007-01-01                        23.255                    37.0   \n",
       "2008-01-01                        23.776                    37.0   \n",
       "2009-01-01                        24.459                    37.0   \n",
       "2010-01-01                        25.158                    37.0   \n",
       "2011-01-01                        26.294                    37.0   \n",
       "2012-01-01                        26.930                    36.0   \n",
       "2013-01-01                        27.817                    31.0   \n",
       "\n",
       "            CSIRO Adjusted Sea Level  Lower Error Bound  Upper Error Bound  \\\n",
       "Year                                                                         \n",
       "1946-01-01                  3.251969           2.834646           3.669291   \n",
       "1947-01-01                  3.374016           2.996063           3.751968   \n",
       "1948-01-01                  3.562992           3.196850           3.929134   \n",
       "1949-01-01                  3.511811           3.181102           3.842520   \n",
       "1950-01-01                  3.598425           3.287402           3.909449   \n",
       "1951-01-01                  3.972441           3.665354           4.279528   \n",
       "1952-01-01                  3.870079           3.566929           4.173228   \n",
       "1953-01-01                  4.043307           3.748031           4.338583   \n",
       "1954-01-01                  3.929134           3.641732           4.216535   \n",
       "1955-01-01                  3.964567           3.685039           4.244094   \n",
       "1956-01-01                  3.763780           3.488189           4.039370   \n",
       "1957-01-01                  4.291339           4.019685           4.562992   \n",
       "1958-01-01                  4.346457           4.086614           4.606299   \n",
       "1959-01-01                  4.358268           4.102362           4.614173   \n",
       "1960-01-01                  4.503937           4.244094           4.763780   \n",
       "1961-01-01                  4.748031           4.488189           5.007874   \n",
       "1962-01-01                  4.543307           4.283465           4.803150   \n",
       "1963-01-01                  4.480315           4.220472           4.740157   \n",
       "1964-01-01                  4.169291           3.905512           4.433071   \n",
       "1965-01-01                  4.610236           4.346457           4.874016   \n",
       "1966-01-01                  4.397638           4.137795           4.657480   \n",
       "1967-01-01                  4.452756           4.196850           4.708661   \n",
       "1968-01-01                  4.484252           4.220472           4.748031   \n",
       "1969-01-01                  4.751968           4.476378           5.027559   \n",
       "1970-01-01                  4.677165           4.401575           4.952756   \n",
       "1971-01-01                  4.881890           4.610236           5.153543   \n",
       "1972-01-01                  5.240157           4.968504           5.511811   \n",
       "1973-01-01                  5.003937           4.736220           5.271654   \n",
       "1974-01-01                  5.472441           5.204724           5.740157   \n",
       "1975-01-01                  5.409449           5.145669           5.673228   \n",
       "1976-01-01                  5.370079           5.102362           5.637795   \n",
       "1977-01-01                  5.303150           5.043307           5.562992   \n",
       "1978-01-01                  5.555118           5.291339           5.818898   \n",
       "1979-01-01                  5.362205           5.098425           5.625984   \n",
       "1980-01-01                  5.598425           5.342520           5.854331   \n",
       "1981-01-01                  6.086614           5.830709           6.342520   \n",
       "1982-01-01                  5.858268           5.610236           6.106299   \n",
       "1983-01-01                  6.188976           5.933071           6.444882   \n",
       "1984-01-01                  6.153543           5.905512           6.401575   \n",
       "1985-01-01                  5.748031           5.500000           5.996063   \n",
       "1986-01-01                  5.771654           5.523622           6.019685   \n",
       "1987-01-01                  5.795276           5.551181           6.039370   \n",
       "1988-01-01                  5.980315           5.732283           6.228346   \n",
       "1989-01-01                  6.157480           5.905512           6.409449   \n",
       "1990-01-01                  6.232283           5.972441           6.492126   \n",
       "1991-01-01                  6.334646           6.074803           6.594488   \n",
       "1992-01-01                  6.358268           6.094488           6.622047   \n",
       "1993-01-01                  6.291339           6.027559           6.555118   \n",
       "1994-01-01                  6.500000           6.236220           6.763780   \n",
       "1995-01-01                  6.618110           6.354331           6.881890   \n",
       "1996-01-01                  6.787402           6.523622           7.051181   \n",
       "1997-01-01                  7.066929           6.803150           7.330709   \n",
       "1998-01-01                  6.665354           6.393701           6.937008   \n",
       "1999-01-01                  7.011811           6.736220           7.287402   \n",
       "2000-01-01                  7.062992           6.791339           7.334646   \n",
       "2001-01-01                  7.287402           7.019685           7.555118   \n",
       "2002-01-01                  7.381890           7.110236           7.653543   \n",
       "2003-01-01                  7.759843           7.484252           8.035433   \n",
       "2004-01-01                  7.740157           7.464567           8.015748   \n",
       "2005-01-01                  7.744094           7.472441           8.015748   \n",
       "2006-01-01                  7.917323           7.645669           8.188976   \n",
       "2007-01-01                  7.996063           7.712598           8.279528   \n",
       "2008-01-01                  8.350394           8.078740           8.622047   \n",
       "2009-01-01                  8.586614           8.311024           8.862205   \n",
       "2010-01-01                  8.901575           8.618110           9.185039   \n",
       "2011-01-01                  8.964567           8.661417           9.267717   \n",
       "2012-01-01                  9.326772           8.992126           9.661417   \n",
       "2013-01-01                  8.980315           8.622047           9.338583   \n",
       "\n",
       "            Temperature     Emissions  \n",
       "Year                                   \n",
       "1946-01-01        -0.07  4.638339e+09  \n",
       "1947-01-01        -0.02  5.138490e+09  \n",
       "1948-01-01        -0.10  5.415710e+09  \n",
       "1949-01-01        -0.11  5.245849e+09  \n",
       "1950-01-01        -0.17  6.003272e+09  \n",
       "1951-01-01        -0.07  6.379796e+09  \n",
       "1952-01-01         0.01  6.465727e+09  \n",
       "1953-01-01         0.08  6.647763e+09  \n",
       "1954-01-01        -0.13  6.789969e+09  \n",
       "1955-01-01        -0.14  7.443244e+09  \n",
       "1956-01-01        -0.19  7.924253e+09  \n",
       "1957-01-01         0.05  8.185547e+09  \n",
       "1958-01-01         0.06  8.417624e+09  \n",
       "1959-01-01         0.03  8.856221e+09  \n",
       "1960-01-01        -0.03  9.387668e+09  \n",
       "1961-01-01         0.06  9.418460e+09  \n",
       "1962-01-01         0.03  9.751059e+09  \n",
       "1963-01-01         0.05  1.027166e+10  \n",
       "1964-01-01        -0.20  1.082961e+10  \n",
       "1965-01-01        -0.11  1.131760e+10  \n",
       "1966-01-01        -0.06  1.186693e+10  \n",
       "1967-01-01        -0.02  1.224403e+10  \n",
       "1968-01-01        -0.08  1.291089e+10  \n",
       "1969-01-01         0.05  1.376740e+10  \n",
       "1970-01-01         0.02  1.489872e+10  \n",
       "1971-01-01        -0.08  1.550550e+10  \n",
       "1972-01-01         0.01  1.622873e+10  \n",
       "1973-01-01         0.16  1.708619e+10  \n",
       "1974-01-01        -0.07  1.701748e+10  \n",
       "1975-01-01        -0.01  1.705463e+10  \n",
       "1976-01-01        -0.10  1.799189e+10  \n",
       "1977-01-01         0.18  1.850285e+10  \n",
       "1978-01-01         0.07  1.907719e+10  \n",
       "1979-01-01         0.16  1.961846e+10  \n",
       "1980-01-01         0.26  1.950126e+10  \n",
       "1981-01-01         0.32  1.903612e+10  \n",
       "1982-01-01         0.14  1.888449e+10  \n",
       "1983-01-01         0.31  1.900654e+10  \n",
       "1984-01-01         0.16  1.966476e+10  \n",
       "1985-01-01         0.12  2.032549e+10  \n",
       "1986-01-01         0.18  2.062736e+10  \n",
       "1987-01-01         0.32  2.127390e+10  \n",
       "1988-01-01         0.39  2.210780e+10  \n",
       "1989-01-01         0.27  2.241040e+10  \n",
       "1990-01-01         0.45  2.275748e+10  \n",
       "1991-01-01         0.40  2.324481e+10  \n",
       "1992-01-01         0.22  2.258002e+10  \n",
       "1993-01-01         0.23  2.281290e+10  \n",
       "1994-01-01         0.32  2.296950e+10  \n",
       "1995-01-01         0.45  2.345871e+10  \n",
       "1996-01-01         0.33  2.415938e+10  \n",
       "1997-01-01         0.46  2.430258e+10  \n",
       "1998-01-01         0.61  2.421326e+10  \n",
       "1999-01-01         0.38  2.473239e+10  \n",
       "2000-01-01         0.39  2.545362e+10  \n",
       "2001-01-01         0.53  2.566805e+10  \n",
       "2002-01-01         0.63  2.628104e+10  \n",
       "2003-01-01         0.62  2.765160e+10  \n",
       "2004-01-01         0.53  2.863670e+10  \n",
       "2005-01-01         0.67  2.961460e+10  \n",
       "2006-01-01         0.63  3.059312e+10  \n",
       "2007-01-01         0.66  3.150679e+10  \n",
       "2008-01-01         0.54  3.208584e+10  \n",
       "2009-01-01         0.65  3.156403e+10  \n",
       "2010-01-01         0.72  3.336435e+10  \n",
       "2011-01-01         0.61  3.448701e+10  \n",
       "2012-01-01         0.65  3.500627e+10  \n",
       "2013-01-01         0.67  3.531920e+10  "
      ]
     },
     "execution_count": 21,
     "metadata": {},
     "output_type": "execute_result"
    }
   ],
   "source": [
    "# Set the display option to show all rows\n",
    "pd.set_option('display.max_rows', None)\n",
    "\n",
    "combined_df"
   ]
  },
  {
   "cell_type": "code",
   "execution_count": 22,
   "id": "88b6cf86-bf09-4e7b-b43e-71fd7c4b94db",
   "metadata": {},
   "outputs": [
    {
     "data": {
      "image/png": "[encoded data removed]",
      "text/plain": [
       "<Figure size 1000x800 with 2 Axes>"
      ]
     },
     "metadata": {},
     "output_type": "display_data"
    }
   ],
   "source": [
    "import pandas as pd\n",
    "import numpy as np\n",
    "import seaborn as sns\n",
    "import matplotlib.pyplot as plt\n",
    "\n",
    "# Assuming your DataFrame is called combined_df\n",
    "\n",
    "# Calculate the correlation matrix\n",
    "corr_matrix = combined_df.corr()\n",
    "\n",
    "# Create a heatmap\n",
    "plt.figure(figsize=(10, 8))\n",
    "sns.heatmap(corr_matrix, annot=True, cmap='coolwarm', linewidths=0.5, fmt='.2f')\n",
    "plt.title(\"Correlation Heatmap\")\n",
    "plt.show()\n"
   ]
  },
  {
   "cell_type": "code",
   "execution_count": null,
   "id": "8d3480ae-992f-4c12-9bd4-9cc38d2087b1",
   "metadata": {},
   "outputs": [],
   "source": []
  },
  {
   "cell_type": "code",
   "execution_count": 52,
   "id": "604ccff4-e429-47fc-b857-4c4ec8524519",
   "metadata": {
    "tags": []
   },
   "outputs": [],
   "source": [
    "import pandas as pd\n",
    "import numpy as np\n",
    "from tensorflow.keras.models import Sequential\n",
    "from tensorflow.keras.layers import Dense\n",
    "from sklearn.preprocessing import StandardScaler\n",
    "from sklearn.metrics import mean_squared_error, r2_score\n",
    "import matplotlib.pyplot as plt\n",
    "\n",
    "# Rename combined_df\n",
    "data = combined_df"
   ]
  },
  {
   "cell_type": "code",
   "execution_count": 53,
   "id": "24a2fd9b-3a90-44d2-9028-ba922b10295d",
   "metadata": {},
   "outputs": [],
   "source": [
    "# Preprocessing\n",
    "features = ['Mean cumulative mass balance', 'Number of observations', 'Lower Error Bound', 'Upper Error Bound', 'Temperature', 'Emissions']\n",
    "target = 'CSIRO Adjusted Sea Level'\n",
    "\n",
    "feature_scaler = StandardScaler()\n",
    "target_scaler = StandardScaler()\n",
    "\n",
    "scaled_features = feature_scaler.fit_transform(data[features])\n",
    "scaled_target = target_scaler.fit_transform(data[[target]])\n",
    "\n",
    "scaled_data = pd.DataFrame(scaled_features, columns=features, index=data.index)\n",
    "scaled_data[target] = scaled_target\n"
   ]
  },
  {
   "cell_type": "code",
   "execution_count": 54,
   "id": "142c25ce-e993-465e-9ed5-94c1372cc9e6",
   "metadata": {},
   "outputs": [],
   "source": [
    "# Prepare training data\n",
    "X_train = scaled_data.drop(target, axis=1)\n",
    "y_train = scaled_data[[target]]\n"
   ]
  },
  {
   "cell_type": "code",
   "execution_count": 55,
   "id": "15c3a06f-f9b9-416b-8c0b-01e500913aa0",
   "metadata": {},
   "outputs": [],
   "source": [
    "# Create neural network model\n",
    "model = Sequential()\n",
    "model.add(Dense(64, input_dim=X_train.shape[1], activation='relu'))\n",
    "model.add(Dense(32, activation='relu'))\n",
    "model.add(Dense(y_train.shape[1]))\n",
    "model.compile(loss='mean_squared_error', optimizer='adam')"
   ]
  },
  {
   "cell_type": "code",
   "execution_count": 56,
   "id": "d7102b85-2e5d-4687-8a05-4332338a2a0b",
   "metadata": {
    "collapsed": true,
    "jupyter": {
     "outputs_hidden": true
    },
    "tags": []
   },
   "outputs": [
    {
     "name": "stdout",
     "output_type": "stream",
     "text": [
      "Epoch 1/300\n",
      "3/3 [==============================] - 0s 2ms/step - loss: 0.5731\n",
      "Epoch 2/300\n",
      "3/3 [==============================] - 0s 2ms/step - loss: 0.3668\n",
      "Epoch 3/300\n",
      "3/3 [==============================] - 0s 3ms/step - loss: 0.2312\n",
      "Epoch 4/300\n",
      "3/3 [==============================] - 0s 2ms/step - loss: 0.1387\n",
      "Epoch 5/300\n",
      "3/3 [==============================] - 0s 2ms/step - loss: 0.0929\n",
      "Epoch 6/300\n",
      "3/3 [==============================] - 0s 3ms/step - loss: 0.0718\n",
      "Epoch 7/300\n",
      "3/3 [==============================] - 0s 2ms/step - loss: 0.0540\n",
      "Epoch 8/300\n",
      "3/3 [==============================] - 0s 3ms/step - loss: 0.0389\n",
      "Epoch 9/300\n",
      "3/3 [==============================] - 0s 3ms/step - loss: 0.0290\n",
      "Epoch 10/300\n",
      "3/3 [==============================] - 0s 2ms/step - loss: 0.0236\n",
      "Epoch 11/300\n",
      "3/3 [==============================] - 0s 3ms/step - loss: 0.0224\n",
      "Epoch 12/300\n",
      "3/3 [==============================] - 0s 2ms/step - loss: 0.0210\n",
      "Epoch 13/300\n",
      "3/3 [==============================] - 0s 2ms/step - loss: 0.0181\n",
      "Epoch 14/300\n",
      "3/3 [==============================] - 0s 3ms/step - loss: 0.0155\n",
      "Epoch 15/300\n",
      "3/3 [==============================] - 0s 3ms/step - loss: 0.0142\n",
      "Epoch 16/300\n",
      "3/3 [==============================] - 0s 2ms/step - loss: 0.0137\n",
      "Epoch 17/300\n",
      "3/3 [==============================] - 0s 3ms/step - loss: 0.0126\n",
      "Epoch 18/300\n",
      "3/3 [==============================] - 0s 2ms/step - loss: 0.0111\n",
      "Epoch 19/300\n",
      "3/3 [==============================] - 0s 3ms/step - loss: 0.0101\n",
      "Epoch 20/300\n",
      "3/3 [==============================] - 0s 2ms/step - loss: 0.0094\n",
      "Epoch 21/300\n",
      "3/3 [==============================] - 0s 2ms/step - loss: 0.0087\n",
      "Epoch 22/300\n",
      "3/3 [==============================] - 0s 3ms/step - loss: 0.0082\n",
      "Epoch 23/300\n",
      "3/3 [==============================] - 0s 2ms/step - loss: 0.0078\n",
      "Epoch 24/300\n",
      "3/3 [==============================] - 0s 2ms/step - loss: 0.0072\n",
      "Epoch 25/300\n",
      "3/3 [==============================] - 0s 2ms/step - loss: 0.0068\n",
      "Epoch 26/300\n",
      "3/3 [==============================] - 0s 2ms/step - loss: 0.0066\n",
      "Epoch 27/300\n",
      "3/3 [==============================] - 0s 2ms/step - loss: 0.0064\n",
      "Epoch 28/300\n",
      "3/3 [==============================] - 0s 3ms/step - loss: 0.0061\n",
      "Epoch 29/300\n",
      "3/3 [==============================] - 0s 2ms/step - loss: 0.0056\n",
      "Epoch 30/300\n",
      "3/3 [==============================] - 0s 2ms/step - loss: 0.0053\n",
      "Epoch 31/300\n",
      "3/3 [==============================] - 0s 2ms/step - loss: 0.0053\n",
      "Epoch 32/300\n",
      "3/3 [==============================] - 0s 2ms/step - loss: 0.0051\n",
      "Epoch 33/300\n",
      "3/3 [==============================] - 0s 3ms/step - loss: 0.0045\n",
      "Epoch 34/300\n",
      "3/3 [==============================] - 0s 2ms/step - loss: 0.0046\n",
      "Epoch 35/300\n",
      "3/3 [==============================] - 0s 2ms/step - loss: 0.0046\n",
      "Epoch 36/300\n",
      "3/3 [==============================] - 0s 2ms/step - loss: 0.0040\n",
      "Epoch 37/300\n",
      "3/3 [==============================] - 0s 2ms/step - loss: 0.0037\n",
      "Epoch 38/300\n",
      "3/3 [==============================] - 0s 2ms/step - loss: 0.0036\n",
      "Epoch 39/300\n",
      "3/3 [==============================] - 0s 1ms/step - loss: 0.0035\n",
      "Epoch 40/300\n",
      "3/3 [==============================] - 0s 2ms/step - loss: 0.0035\n",
      "Epoch 41/300\n",
      "3/3 [==============================] - 0s 3ms/step - loss: 0.0037\n",
      "Epoch 42/300\n",
      "3/3 [==============================] - 0s 2ms/step - loss: 0.0031\n",
      "Epoch 43/300\n",
      "3/3 [==============================] - 0s 3ms/step - loss: 0.0030\n",
      "Epoch 44/300\n",
      "3/3 [==============================] - 0s 2ms/step - loss: 0.0031\n",
      "Epoch 45/300\n",
      "3/3 [==============================] - 0s 2ms/step - loss: 0.0030\n",
      "Epoch 46/300\n",
      "3/3 [==============================] - 0s 1ms/step - loss: 0.0027\n",
      "Epoch 47/300\n",
      "3/3 [==============================] - 0s 2ms/step - loss: 0.0025\n",
      "Epoch 48/300\n",
      "3/3 [==============================] - 0s 2ms/step - loss: 0.0023\n",
      "Epoch 49/300\n",
      "3/3 [==============================] - 0s 2ms/step - loss: 0.0023\n",
      "Epoch 50/300\n",
      "3/3 [==============================] - 0s 2ms/step - loss: 0.0022\n",
      "Epoch 51/300\n",
      "3/3 [==============================] - 0s 2ms/step - loss: 0.0020\n",
      "Epoch 52/300\n",
      "3/3 [==============================] - 0s 2ms/step - loss: 0.0020\n",
      "Epoch 53/300\n",
      "3/3 [==============================] - 0s 3ms/step - loss: 0.0019\n",
      "Epoch 54/300\n",
      "3/3 [==============================] - 0s 2ms/step - loss: 0.0018\n",
      "Epoch 55/300\n",
      "3/3 [==============================] - 0s 2ms/step - loss: 0.0018\n",
      "Epoch 56/300\n",
      "3/3 [==============================] - 0s 2ms/step - loss: 0.0018\n",
      "Epoch 57/300\n",
      "3/3 [==============================] - 0s 2ms/step - loss: 0.0018\n",
      "Epoch 58/300\n",
      "3/3 [==============================] - 0s 2ms/step - loss: 0.0016\n",
      "Epoch 59/300\n",
      "3/3 [==============================] - 0s 3ms/step - loss: 0.0015\n",
      "Epoch 60/300\n",
      "3/3 [==============================] - 0s 2ms/step - loss: 0.0015\n",
      "Epoch 61/300\n",
      "3/3 [==============================] - 0s 1ms/step - loss: 0.0017\n",
      "Epoch 62/300\n",
      "3/3 [==============================] - 0s 3ms/step - loss: 0.0015\n",
      "Epoch 63/300\n",
      "3/3 [==============================] - 0s 2ms/step - loss: 0.0014\n",
      "Epoch 64/300\n",
      "3/3 [==============================] - 0s 2ms/step - loss: 0.0014\n",
      "Epoch 65/300\n",
      "3/3 [==============================] - 0s 2ms/step - loss: 0.0013\n",
      "Epoch 66/300\n",
      "3/3 [==============================] - 0s 2ms/step - loss: 0.0013\n",
      "Epoch 67/300\n",
      "3/3 [==============================] - 0s 2ms/step - loss: 0.0012\n",
      "Epoch 68/300\n",
      "3/3 [==============================] - 0s 2ms/step - loss: 0.0011\n",
      "Epoch 69/300\n",
      "3/3 [==============================] - 0s 2ms/step - loss: 0.0011\n",
      "Epoch 70/300\n",
      "3/3 [==============================] - 0s 2ms/step - loss: 0.0011\n",
      "Epoch 71/300\n",
      "3/3 [==============================] - 0s 2ms/step - loss: 0.0010\n",
      "Epoch 72/300\n",
      "3/3 [==============================] - 0s 3ms/step - loss: 9.7074e-04\n",
      "Epoch 73/300\n",
      "3/3 [==============================] - 0s 2ms/step - loss: 9.1661e-04\n",
      "Epoch 74/300\n",
      "3/3 [==============================] - 0s 2ms/step - loss: 9.4425e-04\n",
      "Epoch 75/300\n",
      "3/3 [==============================] - 0s 3ms/step - loss: 8.9673e-04\n",
      "Epoch 76/300\n",
      "3/3 [==============================] - 0s 2ms/step - loss: 8.8917e-04\n",
      "Epoch 77/300\n",
      "3/3 [==============================] - 0s 2ms/step - loss: 9.7360e-04\n",
      "Epoch 78/300\n",
      "3/3 [==============================] - 0s 2ms/step - loss: 9.0897e-04\n",
      "Epoch 79/300\n",
      "3/3 [==============================] - 0s 2ms/step - loss: 7.6732e-04\n",
      "Epoch 80/300\n",
      "3/3 [==============================] - 0s 2ms/step - loss: 7.2368e-04\n",
      "Epoch 81/300\n",
      "3/3 [==============================] - 0s 3ms/step - loss: 7.2415e-04\n",
      "Epoch 82/300\n",
      "3/3 [==============================] - 0s 2ms/step - loss: 6.9346e-04\n",
      "Epoch 83/300\n",
      "3/3 [==============================] - 0s 2ms/step - loss: 6.7960e-04\n",
      "Epoch 84/300\n",
      "3/3 [==============================] - 0s 2ms/step - loss: 7.7497e-04\n",
      "Epoch 85/300\n",
      "3/3 [==============================] - 0s 2ms/step - loss: 7.0193e-04\n",
      "Epoch 86/300\n",
      "3/3 [==============================] - 0s 2ms/step - loss: 5.9577e-04\n",
      "Epoch 87/300\n",
      "3/3 [==============================] - 0s 3ms/step - loss: 5.9348e-04\n",
      "Epoch 88/300\n",
      "3/3 [==============================] - 0s 2ms/step - loss: 5.8634e-04\n",
      "Epoch 89/300\n",
      "3/3 [==============================] - 0s 2ms/step - loss: 5.4962e-04\n",
      "Epoch 90/300\n",
      "3/3 [==============================] - 0s 3ms/step - loss: 5.2319e-04\n",
      "Epoch 91/300\n",
      "3/3 [==============================] - 0s 2ms/step - loss: 5.1609e-04\n",
      "Epoch 92/300\n",
      "3/3 [==============================] - 0s 2ms/step - loss: 5.0722e-04\n",
      "Epoch 93/300\n",
      "3/3 [==============================] - 0s 3ms/step - loss: 5.1160e-04\n",
      "Epoch 94/300\n",
      "3/3 [==============================] - 0s 2ms/step - loss: 4.8917e-04\n",
      "Epoch 95/300\n",
      "3/3 [==============================] - 0s 2ms/step - loss: 4.7669e-04\n",
      "Epoch 96/300\n",
      "3/3 [==============================] - 0s 2ms/step - loss: 4.7457e-04\n",
      "Epoch 97/300\n",
      "3/3 [==============================] - 0s 3ms/step - loss: 4.5825e-04\n",
      "Epoch 98/300\n",
      "3/3 [==============================] - 0s 3ms/step - loss: 4.4922e-04\n",
      "Epoch 99/300\n",
      "3/3 [==============================] - 0s 2ms/step - loss: 4.1780e-04\n",
      "Epoch 100/300\n",
      "3/3 [==============================] - 0s 3ms/step - loss: 4.2244e-04\n",
      "Epoch 101/300\n",
      "3/3 [==============================] - 0s 2ms/step - loss: 4.1889e-04\n",
      "Epoch 102/300\n",
      "3/3 [==============================] - 0s 2ms/step - loss: 4.1266e-04\n",
      "Epoch 103/300\n",
      "3/3 [==============================] - 0s 2ms/step - loss: 3.9451e-04\n",
      "Epoch 104/300\n",
      "3/3 [==============================] - 0s 3ms/step - loss: 3.7627e-04\n",
      "Epoch 105/300\n",
      "3/3 [==============================] - 0s 2ms/step - loss: 3.7331e-04\n",
      "Epoch 106/300\n",
      "3/3 [==============================] - 0s 2ms/step - loss: 3.6955e-04\n",
      "Epoch 107/300\n",
      "3/3 [==============================] - 0s 3ms/step - loss: 3.7453e-04\n",
      "Epoch 108/300\n",
      "3/3 [==============================] - 0s 2ms/step - loss: 3.3742e-04\n",
      "Epoch 109/300\n",
      "3/3 [==============================] - 0s 2ms/step - loss: 3.5353e-04\n",
      "Epoch 110/300\n",
      "3/3 [==============================] - 0s 2ms/step - loss: 3.4402e-04\n",
      "Epoch 111/300\n",
      "3/3 [==============================] - 0s 3ms/step - loss: 3.2627e-04\n",
      "Epoch 112/300\n",
      "3/3 [==============================] - 0s 2ms/step - loss: 3.4359e-04\n",
      "Epoch 113/300\n",
      "3/3 [==============================] - 0s 2ms/step - loss: 3.0972e-04\n",
      "Epoch 114/300\n",
      "3/3 [==============================] - 0s 3ms/step - loss: 3.4030e-04\n",
      "Epoch 115/300\n",
      "3/3 [==============================] - 0s 2ms/step - loss: 3.1334e-04\n",
      "Epoch 116/300\n",
      "3/3 [==============================] - 0s 2ms/step - loss: 2.9783e-04\n",
      "Epoch 117/300\n",
      "3/3 [==============================] - 0s 2ms/step - loss: 3.6493e-04\n",
      "Epoch 118/300\n",
      "3/3 [==============================] - 0s 2ms/step - loss: 3.5169e-04\n",
      "Epoch 119/300\n",
      "3/3 [==============================] - 0s 1ms/step - loss: 2.7579e-04\n",
      "Epoch 120/300\n",
      "3/3 [==============================] - 0s 2ms/step - loss: 3.2812e-04\n",
      "Epoch 121/300\n",
      "3/3 [==============================] - 0s 3ms/step - loss: 3.1787e-04\n",
      "Epoch 122/300\n",
      "3/3 [==============================] - 0s 2ms/step - loss: 2.6632e-04\n",
      "Epoch 123/300\n",
      "3/3 [==============================] - 0s 2ms/step - loss: 2.6195e-04\n",
      "Epoch 124/300\n",
      "3/3 [==============================] - 0s 2ms/step - loss: 2.4591e-04\n",
      "Epoch 125/300\n",
      "3/3 [==============================] - 0s 2ms/step - loss: 2.8676e-04\n",
      "Epoch 126/300\n",
      "3/3 [==============================] - 0s 2ms/step - loss: 2.7220e-04\n",
      "Epoch 127/300\n",
      "3/3 [==============================] - 0s 2ms/step - loss: 2.3285e-04\n",
      "Epoch 128/300\n",
      "3/3 [==============================] - 0s 3ms/step - loss: 3.7717e-04\n",
      "Epoch 129/300\n",
      "3/3 [==============================] - 0s 2ms/step - loss: 3.5430e-04\n",
      "Epoch 130/300\n",
      "3/3 [==============================] - 0s 2ms/step - loss: 2.1667e-04\n",
      "Epoch 131/300\n",
      "3/3 [==============================] - 0s 2ms/step - loss: 2.9403e-04\n",
      "Epoch 132/300\n",
      "3/3 [==============================] - 0s 2ms/step - loss: 2.4676e-04\n",
      "Epoch 133/300\n",
      "3/3 [==============================] - 0s 2ms/step - loss: 2.5717e-04\n",
      "Epoch 134/300\n",
      "3/3 [==============================] - 0s 2ms/step - loss: 2.2108e-04\n",
      "Epoch 135/300\n",
      "3/3 [==============================] - 0s 2ms/step - loss: 2.2074e-04\n",
      "Epoch 136/300\n",
      "3/3 [==============================] - 0s 3ms/step - loss: 2.8925e-04\n",
      "Epoch 137/300\n",
      "3/3 [==============================] - 0s 3ms/step - loss: 2.5709e-04\n",
      "Epoch 138/300\n",
      "3/3 [==============================] - 0s 2ms/step - loss: 2.1453e-04\n",
      "Epoch 139/300\n",
      "3/3 [==============================] - 0s 2ms/step - loss: 2.2109e-04\n",
      "Epoch 140/300\n",
      "3/3 [==============================] - 0s 3ms/step - loss: 2.3101e-04\n",
      "Epoch 141/300\n",
      "3/3 [==============================] - 0s 2ms/step - loss: 2.0352e-04\n",
      "Epoch 142/300\n",
      "3/3 [==============================] - 0s 2ms/step - loss: 2.0153e-04\n",
      "Epoch 143/300\n",
      "3/3 [==============================] - 0s 2ms/step - loss: 2.1429e-04\n",
      "Epoch 144/300\n",
      "3/3 [==============================] - 0s 3ms/step - loss: 2.0037e-04\n",
      "Epoch 145/300\n",
      "3/3 [==============================] - 0s 1ms/step - loss: 1.9008e-04\n",
      "Epoch 146/300\n",
      "3/3 [==============================] - 0s 1ms/step - loss: 2.2510e-04\n",
      "Epoch 147/300\n",
      "3/3 [==============================] - 0s 2ms/step - loss: 1.7074e-04\n",
      "Epoch 148/300\n",
      "3/3 [==============================] - 0s 2ms/step - loss: 2.0844e-04\n",
      "Epoch 149/300\n",
      "3/3 [==============================] - 0s 2ms/step - loss: 2.3164e-04\n",
      "Epoch 150/300\n",
      "3/3 [==============================] - 0s 2ms/step - loss: 1.6994e-04\n",
      "Epoch 151/300\n",
      "3/3 [==============================] - 0s 1ms/step - loss: 2.1121e-04\n",
      "Epoch 152/300\n",
      "3/3 [==============================] - 0s 2ms/step - loss: 2.2856e-04\n",
      "Epoch 153/300\n",
      "3/3 [==============================] - 0s 2ms/step - loss: 1.6104e-04\n",
      "Epoch 154/300\n",
      "3/3 [==============================] - 0s 2ms/step - loss: 2.2030e-04\n",
      "Epoch 155/300\n",
      "3/3 [==============================] - 0s 2ms/step - loss: 2.4985e-04\n",
      "Epoch 156/300\n",
      "3/3 [==============================] - 0s 2ms/step - loss: 1.7335e-04\n",
      "Epoch 157/300\n",
      "3/3 [==============================] - 0s 3ms/step - loss: 1.9675e-04\n",
      "Epoch 158/300\n",
      "3/3 [==============================] - 0s 2ms/step - loss: 1.8049e-04\n",
      "Epoch 159/300\n",
      "3/3 [==============================] - 0s 2ms/step - loss: 1.6629e-04\n",
      "Epoch 160/300\n",
      "3/3 [==============================] - 0s 2ms/step - loss: 1.6564e-04\n",
      "Epoch 161/300\n",
      "3/3 [==============================] - 0s 3ms/step - loss: 1.5885e-04\n",
      "Epoch 162/300\n",
      "3/3 [==============================] - 0s 2ms/step - loss: 1.5324e-04\n",
      "Epoch 163/300\n",
      "3/3 [==============================] - 0s 2ms/step - loss: 1.8638e-04\n",
      "Epoch 164/300\n",
      "3/3 [==============================] - 0s 2ms/step - loss: 1.5173e-04\n",
      "Epoch 165/300\n",
      "3/3 [==============================] - 0s 3ms/step - loss: 1.5105e-04\n",
      "Epoch 166/300\n",
      "3/3 [==============================] - 0s 2ms/step - loss: 1.8242e-04\n",
      "Epoch 167/300\n",
      "3/3 [==============================] - 0s 1ms/step - loss: 1.5702e-04\n",
      "Epoch 168/300\n",
      "3/3 [==============================] - 0s 2ms/step - loss: 1.3643e-04\n",
      "Epoch 169/300\n",
      "3/3 [==============================] - 0s 3ms/step - loss: 1.4285e-04\n",
      "Epoch 170/300\n",
      "3/3 [==============================] - 0s 2ms/step - loss: 1.3950e-04\n",
      "Epoch 171/300\n",
      "3/3 [==============================] - 0s 2ms/step - loss: 1.3597e-04\n",
      "Epoch 172/300\n",
      "3/3 [==============================] - 0s 2ms/step - loss: 1.6859e-04\n",
      "Epoch 173/300\n",
      "3/3 [==============================] - 0s 2ms/step - loss: 1.8198e-04\n",
      "Epoch 174/300\n",
      "3/3 [==============================] - 0s 2ms/step - loss: 1.2801e-04\n",
      "Epoch 175/300\n",
      "3/3 [==============================] - 0s 2ms/step - loss: 1.4493e-04\n",
      "Epoch 176/300\n",
      "3/3 [==============================] - 0s 2ms/step - loss: 1.9313e-04\n",
      "Epoch 177/300\n",
      "3/3 [==============================] - 0s 2ms/step - loss: 1.3382e-04\n",
      "Epoch 178/300\n",
      "3/3 [==============================] - 0s 2ms/step - loss: 2.3042e-04\n",
      "Epoch 179/300\n",
      "3/3 [==============================] - 0s 1ms/step - loss: 2.1505e-04\n",
      "Epoch 180/300\n",
      "3/3 [==============================] - 0s 2ms/step - loss: 1.1535e-04\n",
      "Epoch 181/300\n",
      "3/3 [==============================] - 0s 2ms/step - loss: 1.7863e-04\n",
      "Epoch 182/300\n",
      "3/3 [==============================] - 0s 3ms/step - loss: 1.4523e-04\n",
      "Epoch 183/300\n",
      "3/3 [==============================] - 0s 1ms/step - loss: 1.3047e-04\n",
      "Epoch 184/300\n",
      "3/3 [==============================] - 0s 2ms/step - loss: 1.7951e-04\n",
      "Epoch 185/300\n",
      "3/3 [==============================] - 0s 2ms/step - loss: 1.2852e-04\n",
      "Epoch 186/300\n",
      "3/3 [==============================] - 0s 3ms/step - loss: 1.9066e-04\n",
      "Epoch 187/300\n",
      "3/3 [==============================] - 0s 2ms/step - loss: 1.8611e-04\n",
      "Epoch 188/300\n",
      "3/3 [==============================] - 0s 1ms/step - loss: 1.2124e-04\n",
      "Epoch 189/300\n",
      "3/3 [==============================] - 0s 2ms/step - loss: 1.4419e-04\n",
      "Epoch 190/300\n",
      "3/3 [==============================] - 0s 2ms/step - loss: 1.0925e-04\n",
      "Epoch 191/300\n",
      "3/3 [==============================] - 0s 2ms/step - loss: 1.4547e-04\n",
      "Epoch 192/300\n",
      "3/3 [==============================] - 0s 3ms/step - loss: 1.2079e-04\n",
      "Epoch 193/300\n",
      "3/3 [==============================] - 0s 2ms/step - loss: 1.3032e-04\n",
      "Epoch 194/300\n",
      "3/3 [==============================] - 0s 2ms/step - loss: 1.1896e-04\n",
      "Epoch 195/300\n",
      "3/3 [==============================] - 0s 1ms/step - loss: 1.0545e-04\n",
      "Epoch 196/300\n",
      "3/3 [==============================] - 0s 2ms/step - loss: 1.0217e-04\n",
      "Epoch 197/300\n",
      "3/3 [==============================] - 0s 2ms/step - loss: 1.0308e-04\n",
      "Epoch 198/300\n",
      "3/3 [==============================] - 0s 2ms/step - loss: 9.8359e-05\n",
      "Epoch 199/300\n",
      "3/3 [==============================] - 0s 7ms/step - loss: 9.6745e-05\n",
      "Epoch 200/300\n",
      "3/3 [==============================] - 0s 4ms/step - loss: 1.1578e-04\n",
      "Epoch 201/300\n",
      "3/3 [==============================] - 0s 3ms/step - loss: 1.1790e-04\n",
      "Epoch 202/300\n",
      "3/3 [==============================] - 0s 2ms/step - loss: 1.0054e-04\n",
      "Epoch 203/300\n",
      "3/3 [==============================] - 0s 3ms/step - loss: 1.1056e-04\n",
      "Epoch 204/300\n",
      "3/3 [==============================] - 0s 2ms/step - loss: 1.1450e-04\n",
      "Epoch 205/300\n",
      "3/3 [==============================] - 0s 2ms/step - loss: 1.0942e-04\n",
      "Epoch 206/300\n",
      "3/3 [==============================] - 0s 2ms/step - loss: 9.3840e-05\n",
      "Epoch 207/300\n",
      "3/3 [==============================] - 0s 2ms/step - loss: 1.3040e-04\n",
      "Epoch 208/300\n",
      "3/3 [==============================] - 0s 2ms/step - loss: 1.1990e-04\n",
      "Epoch 209/300\n",
      "3/3 [==============================] - 0s 2ms/step - loss: 8.5631e-05\n",
      "Epoch 210/300\n",
      "3/3 [==============================] - 0s 2ms/step - loss: 1.0342e-04\n",
      "Epoch 211/300\n",
      "3/3 [==============================] - 0s 2ms/step - loss: 9.0482e-05\n",
      "Epoch 212/300\n",
      "3/3 [==============================] - 0s 2ms/step - loss: 8.6900e-05\n",
      "Epoch 213/300\n",
      "3/3 [==============================] - 0s 3ms/step - loss: 1.0371e-04\n",
      "Epoch 214/300\n",
      "3/3 [==============================] - 0s 2ms/step - loss: 9.0294e-05\n",
      "Epoch 215/300\n",
      "3/3 [==============================] - 0s 3ms/step - loss: 9.1135e-05\n",
      "Epoch 216/300\n",
      "3/3 [==============================] - 0s 2ms/step - loss: 1.3159e-04\n",
      "Epoch 217/300\n",
      "3/3 [==============================] - 0s 2ms/step - loss: 9.1286e-05\n",
      "Epoch 218/300\n",
      "3/3 [==============================] - 0s 2ms/step - loss: 1.5263e-04\n",
      "Epoch 219/300\n",
      "3/3 [==============================] - 0s 2ms/step - loss: 9.4822e-05\n",
      "Epoch 220/300\n",
      "3/3 [==============================] - 0s 2ms/step - loss: 1.3070e-04\n",
      "Epoch 221/300\n",
      "3/3 [==============================] - 0s 3ms/step - loss: 7.6054e-05\n",
      "Epoch 222/300\n",
      "3/3 [==============================] - 0s 2ms/step - loss: 1.1968e-04\n",
      "Epoch 223/300\n",
      "3/3 [==============================] - 0s 2ms/step - loss: 1.4801e-04\n",
      "Epoch 224/300\n",
      "3/3 [==============================] - 0s 1ms/step - loss: 7.7158e-05\n",
      "Epoch 225/300\n",
      "3/3 [==============================] - 0s 2ms/step - loss: 1.0457e-04\n",
      "Epoch 226/300\n",
      "3/3 [==============================] - 0s 2ms/step - loss: 8.3831e-05\n",
      "Epoch 227/300\n",
      "3/3 [==============================] - 0s 2ms/step - loss: 9.5226e-05\n",
      "Epoch 228/300\n",
      "3/3 [==============================] - 0s 2ms/step - loss: 1.3582e-04\n",
      "Epoch 229/300\n",
      "3/3 [==============================] - 0s 2ms/step - loss: 8.0672e-05\n",
      "Epoch 230/300\n",
      "3/3 [==============================] - 0s 2ms/step - loss: 1.1230e-04\n",
      "Epoch 231/300\n",
      "3/3 [==============================] - 0s 2ms/step - loss: 1.2400e-04\n",
      "Epoch 232/300\n",
      "3/3 [==============================] - 0s 2ms/step - loss: 9.1308e-05\n",
      "Epoch 233/300\n",
      "3/3 [==============================] - 0s 2ms/step - loss: 1.6423e-04\n",
      "Epoch 234/300\n",
      "3/3 [==============================] - 0s 2ms/step - loss: 7.6413e-05\n",
      "Epoch 235/300\n",
      "3/3 [==============================] - 0s 2ms/step - loss: 1.5434e-04\n",
      "Epoch 236/300\n",
      "3/3 [==============================] - 0s 3ms/step - loss: 1.2885e-04\n",
      "Epoch 237/300\n",
      "3/3 [==============================] - 0s 2ms/step - loss: 6.5046e-05\n",
      "Epoch 238/300\n",
      "3/3 [==============================] - 0s 2ms/step - loss: 8.1880e-05\n",
      "Epoch 239/300\n",
      "3/3 [==============================] - 0s 2ms/step - loss: 6.6463e-05\n",
      "Epoch 240/300\n",
      "3/3 [==============================] - 0s 2ms/step - loss: 6.8700e-05\n",
      "Epoch 241/300\n",
      "3/3 [==============================] - 0s 2ms/step - loss: 6.7937e-05\n",
      "Epoch 242/300\n",
      "3/3 [==============================] - 0s 2ms/step - loss: 6.0442e-05\n",
      "Epoch 243/300\n",
      "3/3 [==============================] - 0s 3ms/step - loss: 7.0215e-05\n",
      "Epoch 244/300\n",
      "3/3 [==============================] - 0s 2ms/step - loss: 6.5385e-05\n",
      "Epoch 245/300\n",
      "3/3 [==============================] - 0s 2ms/step - loss: 6.0721e-05\n",
      "Epoch 246/300\n",
      "3/3 [==============================] - 0s 1ms/step - loss: 5.9827e-05\n",
      "Epoch 247/300\n",
      "3/3 [==============================] - 0s 2ms/step - loss: 6.9851e-05\n",
      "Epoch 248/300\n",
      "3/3 [==============================] - 0s 3ms/step - loss: 8.7806e-05\n",
      "Epoch 249/300\n",
      "3/3 [==============================] - 0s 2ms/step - loss: 9.0229e-05\n",
      "Epoch 250/300\n",
      "3/3 [==============================] - 0s 1ms/step - loss: 7.3387e-05\n",
      "Epoch 251/300\n",
      "3/3 [==============================] - 0s 2ms/step - loss: 6.3482e-05\n",
      "Epoch 252/300\n",
      "3/3 [==============================] - 0s 2ms/step - loss: 1.0677e-04\n",
      "Epoch 253/300\n",
      "3/3 [==============================] - 0s 3ms/step - loss: 6.8161e-05\n",
      "Epoch 254/300\n",
      "3/3 [==============================] - 0s 2ms/step - loss: 7.3637e-05\n",
      "Epoch 255/300\n",
      "3/3 [==============================] - 0s 1ms/step - loss: 6.2411e-05\n",
      "Epoch 256/300\n",
      "3/3 [==============================] - 0s 1ms/step - loss: 5.6185e-05\n",
      "Epoch 257/300\n",
      "3/3 [==============================] - 0s 2ms/step - loss: 6.1679e-05\n",
      "Epoch 258/300\n",
      "3/3 [==============================] - 0s 2ms/step - loss: 5.2109e-05\n",
      "Epoch 259/300\n",
      "3/3 [==============================] - 0s 2ms/step - loss: 5.8478e-05\n",
      "Epoch 260/300\n",
      "3/3 [==============================] - 0s 2ms/step - loss: 5.6752e-05\n",
      "Epoch 261/300\n",
      "3/3 [==============================] - 0s 2ms/step - loss: 4.9833e-05\n",
      "Epoch 262/300\n",
      "3/3 [==============================] - 0s 2ms/step - loss: 5.7099e-05\n",
      "Epoch 263/300\n",
      "3/3 [==============================] - 0s 2ms/step - loss: 5.3794e-05\n",
      "Epoch 264/300\n",
      "3/3 [==============================] - 0s 2ms/step - loss: 5.3876e-05\n",
      "Epoch 265/300\n",
      "3/3 [==============================] - 0s 2ms/step - loss: 4.5663e-05\n",
      "Epoch 266/300\n",
      "3/3 [==============================] - 0s 1ms/step - loss: 5.5466e-05\n",
      "Epoch 267/300\n",
      "3/3 [==============================] - 0s 2ms/step - loss: 4.9619e-05\n",
      "Epoch 268/300\n",
      "3/3 [==============================] - 0s 2ms/step - loss: 5.5155e-05\n",
      "Epoch 269/300\n",
      "3/3 [==============================] - 0s 2ms/step - loss: 5.0076e-05\n",
      "Epoch 270/300\n",
      "3/3 [==============================] - 0s 2ms/step - loss: 6.2478e-05\n",
      "Epoch 271/300\n",
      "3/3 [==============================] - 0s 2ms/step - loss: 9.0368e-05\n",
      "Epoch 272/300\n",
      "3/3 [==============================] - 0s 3ms/step - loss: 4.6604e-05\n",
      "Epoch 273/300\n",
      "3/3 [==============================] - 0s 3ms/step - loss: 5.1994e-05\n",
      "Epoch 274/300\n",
      "3/3 [==============================] - 0s 2ms/step - loss: 4.7650e-05\n",
      "Epoch 275/300\n",
      "3/3 [==============================] - 0s 3ms/step - loss: 4.2498e-05\n",
      "Epoch 276/300\n",
      "3/3 [==============================] - 0s 2ms/step - loss: 4.2752e-05\n",
      "Epoch 277/300\n",
      "3/3 [==============================] - 0s 2ms/step - loss: 4.4574e-05\n",
      "Epoch 278/300\n",
      "3/3 [==============================] - 0s 2ms/step - loss: 4.6202e-05\n",
      "Epoch 279/300\n",
      "3/3 [==============================] - 0s 3ms/step - loss: 4.5949e-05\n",
      "Epoch 280/300\n",
      "3/3 [==============================] - 0s 2ms/step - loss: 4.3133e-05\n",
      "Epoch 281/300\n",
      "3/3 [==============================] - 0s 2ms/step - loss: 4.2314e-05\n",
      "Epoch 282/300\n",
      "3/3 [==============================] - 0s 2ms/step - loss: 4.1705e-05\n",
      "Epoch 283/300\n",
      "3/3 [==============================] - 0s 2ms/step - loss: 6.5169e-05\n",
      "Epoch 284/300\n",
      "3/3 [==============================] - 0s 2ms/step - loss: 6.2767e-05\n",
      "Epoch 285/300\n",
      "3/3 [==============================] - 0s 2ms/step - loss: 3.9813e-05\n",
      "Epoch 286/300\n",
      "3/3 [==============================] - 0s 2ms/step - loss: 4.0254e-05\n",
      "Epoch 287/300\n",
      "3/3 [==============================] - 0s 2ms/step - loss: 4.4515e-05\n",
      "Epoch 288/300\n",
      "3/3 [==============================] - 0s 2ms/step - loss: 4.0388e-05\n",
      "Epoch 289/300\n",
      "3/3 [==============================] - 0s 1ms/step - loss: 4.1393e-05\n",
      "Epoch 290/300\n",
      "3/3 [==============================] - 0s 2ms/step - loss: 4.0683e-05\n",
      "Epoch 291/300\n",
      "3/3 [==============================] - 0s 2ms/step - loss: 5.3658e-05\n",
      "Epoch 292/300\n",
      "3/3 [==============================] - 0s 2ms/step - loss: 3.6912e-05\n",
      "Epoch 293/300\n",
      "3/3 [==============================] - 0s 1ms/step - loss: 4.2759e-05\n",
      "Epoch 294/300\n",
      "3/3 [==============================] - 0s 2ms/step - loss: 3.9255e-05\n",
      "Epoch 295/300\n",
      "3/3 [==============================] - 0s 2ms/step - loss: 4.4239e-05\n",
      "Epoch 296/300\n",
      "3/3 [==============================] - 0s 1ms/step - loss: 4.6007e-05\n",
      "Epoch 297/300\n",
      "3/3 [==============================] - 0s 1ms/step - loss: 3.6637e-05\n",
      "Epoch 298/300\n",
      "3/3 [==============================] - 0s 1ms/step - loss: 4.2556e-05\n",
      "Epoch 299/300\n",
      "3/3 [==============================] - 0s 3ms/step - loss: 3.4653e-05\n",
      "Epoch 300/300\n",
      "3/3 [==============================] - 0s 1ms/step - loss: 3.8805e-05\n"
     ]
    },
    {
     "data": {
      "text/plain": [
       "<keras.callbacks.History at 0x1a551568a88>"
      ]
     },
     "execution_count": 56,
     "metadata": {},
     "output_type": "execute_result"
    }
   ],
   "source": [
    "# Train model\n",
    "model.fit(X_train, y_train, epochs=300, verbose=1)"
   ]
  },
  {
   "cell_type": "code",
   "execution_count": 57,
   "id": "0800d9f6-e563-4106-8387-bd61f0d9ec0e",
   "metadata": {},
   "outputs": [],
   "source": [
    "# Prepare prediction data\n",
    "future_years = pd.date_range('2014-01-01', '2050-01-01', freq='AS')\n",
    "future_data = pd.DataFrame({'Year': future_years})\n",
    "future_data.set_index('Year', inplace=True)\n"
   ]
  },
  {
   "cell_type": "code",
   "execution_count": 58,
   "id": "cab31ad4-408c-4d42-8792-267baa190987",
   "metadata": {},
   "outputs": [],
   "source": [
    "# Generate future feature data based on trends\n",
    "for feature in features:\n",
    "    slope, intercept = np.polyfit(data.index.year, data[feature], 1)\n",
    "    future_data[feature] = slope * future_data.index.year + intercept\n"
   ]
  },
  {
   "cell_type": "code",
   "execution_count": 59,
   "id": "43b71c09-c39c-4ef9-8eba-d1b10e1c36ad",
   "metadata": {},
   "outputs": [],
   "source": [
    "# Add target column with placeholder values\n",
    "future_data[target] = 0\n",
    "\n",
    "# Scale future data\n",
    "scaled_future_features = feature_scaler.transform(future_data[features])\n",
    "scaled_future_data = pd.DataFrame(scaled_future_features, columns=features, index=future_data.index)\n",
    "scaled_future_data[target] = 0"
   ]
  },
  {
   "cell_type": "code",
   "execution_count": 60,
   "id": "7f3e083a-8fd9-4728-91b7-dae1d1ad697c",
   "metadata": {},
   "outputs": [
    {
     "name": "stdout",
     "output_type": "stream",
     "text": [
      "2/2 [==============================] - 0s 2ms/step\n"
     ]
    }
   ],
   "source": [
    "# Make predictions\n",
    "X_future = scaled_future_data.drop(target, axis=1)\n",
    "y_future = model.predict(X_future)\n"
   ]
  },
  {
   "cell_type": "code",
   "execution_count": 61,
   "id": "35b1423d-e281-4b86-84fd-9b1d44010955",
   "metadata": {},
   "outputs": [],
   "source": [
    "# Inverse transform the predictions\n",
    "scaled_future_data_with_target = scaled_future_data.copy()\n",
    "scaled_future_data_with_target[target] = y_future[:, 0]\n",
    "future_data[target] = target_scaler.inverse_transform(scaled_future_data_with_target[[target]])\n"
   ]
  },
  {
   "cell_type": "code",
   "execution_count": 62,
   "id": "12be51ad-0952-4dbb-b0b4-47049ebd4df1",
   "metadata": {},
   "outputs": [
    {
     "name": "stdout",
     "output_type": "stream",
     "text": [
      "3/3 [==============================] - 0s 2ms/step\n",
      "Mean Squared Error: 9.27389753891493e-05\n",
      "R-squared: 0.9999621615700727\n"
     ]
    }
   ],
   "source": [
    "# Performance metrics\n",
    "y_train_pred = model.predict(X_train)\n",
    "train_pred = np.hstack([scaled_data.drop(target, axis=1), y_train_pred])[:, -1]\n",
    "train_pred = target_scaler.inverse_transform(train_pred.reshape(-1, 1)).flatten()\n",
    "mse = mean_squared_error(data[target], train_pred)\n",
    "r2 = r2_score(data[target], train_pred)\n",
    "print(f'Mean Squared Error: {mse}')\n",
    "print(f'R-squared: {r2}')\n"
   ]
  },
  {
   "cell_type": "code",
   "execution_count": 67,
   "id": "04bc0359-920f-4983-83ea-cd1b839af1f3",
   "metadata": {},
   "outputs": [
    {
     "data": {
      "image/png": "[encoded data removed]",
      "text/plain": [
       "<Figure size 1200x600 with 1 Axes>"
      ]
     },
     "metadata": {},
     "output_type": "display_data"
    }
   ],
   "source": [
    "# Plot results\n",
    "plt.figure(figsize=(12, 6))\n",
    "plt.plot(data.index, data[target], label='Historical Data', marker='o')\n",
    "plt.plot(future_data.index, future_data[target], label='Predicted Data', marker='o')\n",
    "plt.xlabel('Year')\n",
    "plt.ylabel('CSIRO Adjusted Sea Level')\n",
    "plt.title('Sea Level Change Prediction (1946-2050)')\n",
    "plt.legend()\n",
    "plt.show()\n"
   ]
  },
  {
   "cell_type": "code",
   "execution_count": 71,
   "id": "416e0aa5-49d5-4ef3-ae67-c82d803b172a",
   "metadata": {},
   "outputs": [
    {
     "data": {
      "application/vnd.plotly.v1+json": {
       "config": {
        "plotlyServerURL": "https://plot.ly"
       },
       "data": [
        {
         "marker": {
          "size": 8,
          "symbol": "circle-open"
         },
         "mode": "markers",
         "name": "Historical Data",
         "type": "scatter",
         "x": [
          "1946-01-01T00:00:00",
          "1947-01-01T00:00:00",
          "1948-01-01T00:00:00",
          "1949-01-01T00:00:00",
          "1950-01-01T00:00:00",
          "1951-01-01T00:00:00",
          "1952-01-01T00:00:00",
          "1953-01-01T00:00:00",
          "1954-01-01T00:00:00",
          "1955-01-01T00:00:00",
          "1956-01-01T00:00:00",
          "1957-01-01T00:00:00",
          "1958-01-01T00:00:00",
          "1959-01-01T00:00:00",
          "1960-01-01T00:00:00",
          "1961-01-01T00:00:00",
          "1962-01-01T00:00:00",
          "1963-01-01T00:00:00",
          "1964-01-01T00:00:00",
          "1965-01-01T00:00:00",
          "1966-01-01T00:00:00",
          "1967-01-01T00:00:00",
          "1968-01-01T00:00:00",
          "1969-01-01T00:00:00",
          "1970-01-01T00:00:00",
          "1971-01-01T00:00:00",
          "1972-01-01T00:00:00",
          "1973-01-01T00:00:00",
          "1974-01-01T00:00:00",
          "1975-01-01T00:00:00",
          "1976-01-01T00:00:00",
          "1977-01-01T00:00:00",
          "1978-01-01T00:00:00",
          "1979-01-01T00:00:00",
          "1980-01-01T00:00:00",
          "1981-01-01T00:00:00",
          "1982-01-01T00:00:00",
          "1983-01-01T00:00:00",
          "1984-01-01T00:00:00",
          "1985-01-01T00:00:00",
          "1986-01-01T00:00:00",
          "1987-01-01T00:00:00",
          "1988-01-01T00:00:00",
          "1989-01-01T00:00:00",
          "1990-01-01T00:00:00",
          "1991-01-01T00:00:00",
          "1992-01-01T00:00:00",
          "1993-01-01T00:00:00",
          "1994-01-01T00:00:00",
          "1995-01-01T00:00:00",
          "1996-01-01T00:00:00",
          "1997-01-01T00:00:00",
          "1998-01-01T00:00:00",
          "1999-01-01T00:00:00",
          "2000-01-01T00:00:00",
          "2001-01-01T00:00:00",
          "2002-01-01T00:00:00",
          "2003-01-01T00:00:00",
          "2004-01-01T00:00:00",
          "2005-01-01T00:00:00",
          "2006-01-01T00:00:00",
          "2007-01-01T00:00:00",
          "2008-01-01T00:00:00",
          "2009-01-01T00:00:00",
          "2010-01-01T00:00:00",
          "2011-01-01T00:00:00",
          "2012-01-01T00:00:00",
          "2013-01-01T00:00:00"
         ],
         "y": [
          3.251968501,
          3.374015745,
          3.562992122,
          3.51181102,
          3.598425193,
          3.972440941,
          3.870078736,
          4.043307082,
          3.929133854,
          3.964566925,
          3.763779524,
          4.291338578,
          4.346456688,
          4.358267712,
          4.503937003,
          4.748031491,
          4.543307082,
          4.480314956,
          4.169291334,
          4.610236216,
          4.397637791,
          4.452755901,
          4.484251964,
          4.751968499,
          4.67716535,
          4.881889759,
          5.240157475,
          5.003937003,
          5.472440939,
          5.409448813,
          5.370078735,
          5.303149601,
          5.555118105,
          5.362204719,
          5.598425191,
          6.086614167,
          5.858267711,
          6.188976372,
          6.153543301,
          5.74803149,
          5.771653537,
          5.795275585,
          5.980314955,
          6.157480309,
          6.232283458,
          6.334645663,
          6.35826771,
          6.291338576,
          6.499999993,
          6.618110229,
          6.787401568,
          7.066929127,
          6.665354324,
          7.011811016,
          7.062992119,
          7.287401567,
          7.381889756,
          7.759842512,
          7.740157472,
          7.74409448,
          7.917322827,
          7.996062984,
          8.350393692,
          8.586614164,
          8.901574794,
          8.96456692,
          9.326771644,
          8.980314951
         ]
        },
        {
         "marker": {
          "size": 8,
          "symbol": "circle"
         },
         "mode": "markers",
         "name": "Predicted Data",
         "type": "scatter",
         "x": [
          "2014-01-01T00:00:00",
          "2015-01-01T00:00:00",
          "2016-01-01T00:00:00",
          "2017-01-01T00:00:00",
          "2018-01-01T00:00:00",
          "2019-01-01T00:00:00",
          "2020-01-01T00:00:00",
          "2021-01-01T00:00:00",
          "2022-01-01T00:00:00",
          "2023-01-01T00:00:00",
          "2024-01-01T00:00:00",
          "2025-01-01T00:00:00",
          "2026-01-01T00:00:00",
          "2027-01-01T00:00:00",
          "2028-01-01T00:00:00",
          "2029-01-01T00:00:00",
          "2030-01-01T00:00:00",
          "2031-01-01T00:00:00",
          "2032-01-01T00:00:00",
          "2033-01-01T00:00:00",
          "2034-01-01T00:00:00",
          "2035-01-01T00:00:00",
          "2036-01-01T00:00:00",
          "2037-01-01T00:00:00",
          "2038-01-01T00:00:00",
          "2039-01-01T00:00:00",
          "2040-01-01T00:00:00",
          "2041-01-01T00:00:00",
          "2042-01-01T00:00:00",
          "2043-01-01T00:00:00",
          "2044-01-01T00:00:00",
          "2045-01-01T00:00:00",
          "2046-01-01T00:00:00",
          "2047-01-01T00:00:00",
          "2048-01-01T00:00:00",
          "2049-01-01T00:00:00",
          "2050-01-01T00:00:00"
         ],
         "y": [
          8.364787101745605,
          8.439334869384766,
          8.513882637023926,
          8.588431358337402,
          8.662979125976562,
          8.737526893615723,
          8.812074661254883,
          8.886622428894043,
          8.961170196533203,
          9.03571891784668,
          9.11026668548584,
          9.184814453125,
          9.25936222076416,
          9.33390998840332,
          9.40845775604248,
          9.483006477355957,
          9.557554244995117,
          9.632101058959961,
          9.706648826599121,
          9.781195640563965,
          9.855743408203125,
          9.930291175842285,
          10.004837989807129,
          10.079385757446289,
          10.153932571411133,
          10.228480339050293,
          10.303028106689453,
          10.377574920654297,
          10.45212173461914,
          10.526670455932617,
          10.601217269897461,
          10.675765037536621,
          10.750312805175781,
          10.824860572814941,
          10.899529457092285,
          10.974237442016602,
          11.048945426940918
         ]
        }
       ],
       "layout": {
        "autosize": true,
        "hovermode": "closest",
        "legend": {
         "x": 0,
         "y": 1
        },
        "template": {
         "data": {
          "bar": [
           {
            "error_x": {
             "color": "#2a3f5f"
            },
            "error_y": {
             "color": "#2a3f5f"
            },
            "marker": {
             "line": {
              "color": "#E5ECF6",
              "width": 0.5
             },
             "pattern": {
              "fillmode": "overlay",
              "size": 10,
              "solidity": 0.2
             }
            },
            "type": "bar"
           }
          ],
          "barpolar": [
           {
            "marker": {
             "line": {
              "color": "#E5ECF6",
              "width": 0.5
             },
             "pattern": {
              "fillmode": "overlay",
              "size": 10,
              "solidity": 0.2
             }
            },
            "type": "barpolar"
           }
          ],
          "carpet": [
           {
            "aaxis": {
             "endlinecolor": "#2a3f5f",
             "gridcolor": "white",
             "linecolor": "white",
             "minorgridcolor": "white",
             "startlinecolor": "#2a3f5f"
            },
            "baxis": {
             "endlinecolor": "#2a3f5f",
             "gridcolor": "white",
             "linecolor": "white",
             "minorgridcolor": "white",
             "startlinecolor": "#2a3f5f"
            },
            "type": "carpet"
           }
          ],
          "choropleth": [
           {
            "colorbar": {
             "outlinewidth": 0,
             "ticks": ""
            },
            "type": "choropleth"
           }
          ],
          "contour": [
           {
            "colorbar": {
             "outlinewidth": 0,
             "ticks": ""
            },
            "colorscale": [
             [
              0,
              "#0d0887"
             ],
             [
              0.1111111111111111,
              "#46039f"
             ],
             [
              0.2222222222222222,
              "#7201a8"
             ],
             [
              0.3333333333333333,
              "#9c179e"
             ],
             [
              0.4444444444444444,
              "#bd3786"
             ],
             [
              0.5555555555555556,
              "#d8576b"
             ],
             [
              0.6666666666666666,
              "#ed7953"
             ],
             [
              0.7777777777777778,
              "#fb9f3a"
             ],
             [
              0.8888888888888888,
              "#fdca26"
             ],
             [
              1,
              "#f0f921"
             ]
            ],
            "type": "contour"
           }
          ],
          "contourcarpet": [
           {
            "colorbar": {
             "outlinewidth": 0,
             "ticks": ""
            },
            "type": "contourcarpet"
           }
          ],
          "heatmap": [
           {
            "colorbar": {
             "outlinewidth": 0,
             "ticks": ""
            },
            "colorscale": [
             [
              0,
              "#0d0887"
             ],
             [
              0.1111111111111111,
              "#46039f"
             ],
             [
              0.2222222222222222,
              "#7201a8"
             ],
             [
              0.3333333333333333,
              "#9c179e"
             ],
             [
              0.4444444444444444,
              "#bd3786"
             ],
             [
              0.5555555555555556,
              "#d8576b"
             ],
             [
              0.6666666666666666,
              "#ed7953"
             ],
             [
              0.7777777777777778,
              "#fb9f3a"
             ],
             [
              0.8888888888888888,
              "#fdca26"
             ],
             [
              1,
              "#f0f921"
             ]
            ],
            "type": "heatmap"
           }
          ],
          "heatmapgl": [
           {
            "colorbar": {
             "outlinewidth": 0,
             "ticks": ""
            },
            "colorscale": [
             [
              0,
              "#0d0887"
             ],
             [
              0.1111111111111111,
              "#46039f"
             ],
             [
              0.2222222222222222,
              "#7201a8"
             ],
             [
              0.3333333333333333,
              "#9c179e"
             ],
             [
              0.4444444444444444,
              "#bd3786"
             ],
             [
              0.5555555555555556,
              "#d8576b"
             ],
             [
              0.6666666666666666,
              "#ed7953"
             ],
             [
              0.7777777777777778,
              "#fb9f3a"
             ],
             [
              0.8888888888888888,
              "#fdca26"
             ],
             [
              1,
              "#f0f921"
             ]
            ],
            "type": "heatmapgl"
           }
          ],
          "histogram": [
           {
            "marker": {
             "pattern": {
              "fillmode": "overlay",
              "size": 10,
              "solidity": 0.2
             }
            },
            "type": "histogram"
           }
          ],
          "histogram2d": [
           {
            "colorbar": {
             "outlinewidth": 0,
             "ticks": ""
            },
            "colorscale": [
             [
              0,
              "#0d0887"
             ],
             [
              0.1111111111111111,
              "#46039f"
             ],
             [
              0.2222222222222222,
              "#7201a8"
             ],
             [
              0.3333333333333333,
              "#9c179e"
             ],
             [
              0.4444444444444444,
              "#bd3786"
             ],
             [
              0.5555555555555556,
              "#d8576b"
             ],
             [
              0.6666666666666666,
              "#ed7953"
             ],
             [
              0.7777777777777778,
              "#fb9f3a"
             ],
             [
              0.8888888888888888,
              "#fdca26"
             ],
             [
              1,
              "#f0f921"
             ]
            ],
            "type": "histogram2d"
           }
          ],
          "histogram2dcontour": [
           {
            "colorbar": {
             "outlinewidth": 0,
             "ticks": ""
            },
            "colorscale": [
             [
              0,
              "#0d0887"
             ],
             [
              0.1111111111111111,
              "#46039f"
             ],
             [
              0.2222222222222222,
              "#7201a8"
             ],
             [
              0.3333333333333333,
              "#9c179e"
             ],
             [
              0.4444444444444444,
              "#bd3786"
             ],
             [
              0.5555555555555556,
              "#d8576b"
             ],
             [
              0.6666666666666666,
              "#ed7953"
             ],
             [
              0.7777777777777778,
              "#fb9f3a"
             ],
             [
              0.8888888888888888,
              "#fdca26"
             ],
             [
              1,
              "#f0f921"
             ]
            ],
            "type": "histogram2dcontour"
           }
          ],
          "mesh3d": [
           {
            "colorbar": {
             "outlinewidth": 0,
             "ticks": ""
            },
            "type": "mesh3d"
           }
          ],
          "parcoords": [
           {
            "line": {
             "colorbar": {
              "outlinewidth": 0,
              "ticks": ""
             }
            },
            "type": "parcoords"
           }
          ],
          "pie": [
           {
            "automargin": true,
            "type": "pie"
           }
          ],
          "scatter": [
           {
            "fillpattern": {
             "fillmode": "overlay",
             "size": 10,
             "solidity": 0.2
            },
            "type": "scatter"
           }
          ],
          "scatter3d": [
           {
            "line": {
             "colorbar": {
              "outlinewidth": 0,
              "ticks": ""
             }
            },
            "marker": {
             "colorbar": {
              "outlinewidth": 0,
              "ticks": ""
             }
            },
            "type": "scatter3d"
           }
          ],
          "scattercarpet": [
           {
            "marker": {
             "colorbar": {
              "outlinewidth": 0,
              "ticks": ""
             }
            },
            "type": "scattercarpet"
           }
          ],
          "scattergeo": [
           {
            "marker": {
             "colorbar": {
              "outlinewidth": 0,
              "ticks": ""
             }
            },
            "type": "scattergeo"
           }
          ],
          "scattergl": [
           {
            "marker": {
             "colorbar": {
              "outlinewidth": 0,
              "ticks": ""
             }
            },
            "type": "scattergl"
           }
          ],
          "scattermapbox": [
           {
            "marker": {
             "colorbar": {
              "outlinewidth": 0,
              "ticks": ""
             }
            },
            "type": "scattermapbox"
           }
          ],
          "scatterpolar": [
           {
            "marker": {
             "colorbar": {
              "outlinewidth": 0,
              "ticks": ""
             }
            },
            "type": "scatterpolar"
           }
          ],
          "scatterpolargl": [
           {
            "marker": {
             "colorbar": {
              "outlinewidth": 0,
              "ticks": ""
             }
            },
            "type": "scatterpolargl"
           }
          ],
          "scatterternary": [
           {
            "marker": {
             "colorbar": {
              "outlinewidth": 0,
              "ticks": ""
             }
            },
            "type": "scatterternary"
           }
          ],
          "surface": [
           {
            "colorbar": {
             "outlinewidth": 0,
             "ticks": ""
            },
            "colorscale": [
             [
              0,
              "#0d0887"
             ],
             [
              0.1111111111111111,
              "#46039f"
             ],
             [
              0.2222222222222222,
              "#7201a8"
             ],
             [
              0.3333333333333333,
              "#9c179e"
             ],
             [
              0.4444444444444444,
              "#bd3786"
             ],
             [
              0.5555555555555556,
              "#d8576b"
             ],
             [
              0.6666666666666666,
              "#ed7953"
             ],
             [
              0.7777777777777778,
              "#fb9f3a"
             ],
             [
              0.8888888888888888,
              "#fdca26"
             ],
             [
              1,
              "#f0f921"
             ]
            ],
            "type": "surface"
           }
          ],
          "table": [
           {
            "cells": {
             "fill": {
              "color": "#EBF0F8"
             },
             "line": {
              "color": "white"
             }
            },
            "header": {
             "fill": {
              "color": "#C8D4E3"
             },
             "line": {
              "color": "white"
             }
            },
            "type": "table"
           }
          ]
         },
         "layout": {
          "annotationdefaults": {
           "arrowcolor": "#2a3f5f",
           "arrowhead": 0,
           "arrowwidth": 1
          },
          "autotypenumbers": "strict",
          "coloraxis": {
           "colorbar": {
            "outlinewidth": 0,
            "ticks": ""
           }
          },
          "colorscale": {
           "diverging": [
            [
             0,
             "#8e0152"
            ],
            [
             0.1,
             "#c51b7d"
            ],
            [
             0.2,
             "#de77ae"
            ],
            [
             0.3,
             "#f1b6da"
            ],
            [
             0.4,
             "#fde0ef"
            ],
            [
             0.5,
             "#f7f7f7"
            ],
            [
             0.6,
             "#e6f5d0"
            ],
            [
             0.7,
             "#b8e186"
            ],
            [
             0.8,
             "#7fbc41"
            ],
            [
             0.9,
             "#4d9221"
            ],
            [
             1,
             "#276419"
            ]
           ],
           "sequential": [
            [
             0,
             "#0d0887"
            ],
            [
             0.1111111111111111,
             "#46039f"
            ],
            [
             0.2222222222222222,
             "#7201a8"
            ],
            [
             0.3333333333333333,
             "#9c179e"
            ],
            [
             0.4444444444444444,
             "#bd3786"
            ],
            [
             0.5555555555555556,
             "#d8576b"
            ],
            [
             0.6666666666666666,
             "#ed7953"
            ],
            [
             0.7777777777777778,
             "#fb9f3a"
            ],
            [
             0.8888888888888888,
             "#fdca26"
            ],
            [
             1,
             "#f0f921"
            ]
           ],
           "sequentialminus": [
            [
             0,
             "#0d0887"
            ],
            [
             0.1111111111111111,
             "#46039f"
            ],
            [
             0.2222222222222222,
             "#7201a8"
            ],
            [
             0.3333333333333333,
             "#9c179e"
            ],
            [
             0.4444444444444444,
             "#bd3786"
            ],
            [
             0.5555555555555556,
             "#d8576b"
            ],
            [
             0.6666666666666666,
             "#ed7953"
            ],
            [
             0.7777777777777778,
             "#fb9f3a"
            ],
            [
             0.8888888888888888,
             "#fdca26"
            ],
            [
             1,
             "#f0f921"
            ]
           ]
          },
          "colorway": [
           "#636efa",
           "#EF553B",
           "#00cc96",
           "#ab63fa",
           "#FFA15A",
           "#19d3f3",
           "#FF6692",
           "#B6E880",
           "#FF97FF",
           "#FECB52"
          ],
          "font": {
           "color": "#2a3f5f"
          },
          "geo": {
           "bgcolor": "white",
           "lakecolor": "white",
           "landcolor": "#E5ECF6",
           "showlakes": true,
           "showland": true,
           "subunitcolor": "white"
          },
          "hoverlabel": {
           "align": "left"
          },
          "hovermode": "closest",
          "mapbox": {
           "style": "light"
          },
          "paper_bgcolor": "white",
          "plot_bgcolor": "#E5ECF6",
          "polar": {
           "angularaxis": {
            "gridcolor": "white",
            "linecolor": "white",
            "ticks": ""
           },
           "bgcolor": "#E5ECF6",
           "radialaxis": {
            "gridcolor": "white",
            "linecolor": "white",
            "ticks": ""
           }
          },
          "scene": {
           "xaxis": {
            "backgroundcolor": "#E5ECF6",
            "gridcolor": "white",
            "gridwidth": 2,
            "linecolor": "white",
            "showbackground": true,
            "ticks": "",
            "zerolinecolor": "white"
           },
           "yaxis": {
            "backgroundcolor": "#E5ECF6",
            "gridcolor": "white",
            "gridwidth": 2,
            "linecolor": "white",
            "showbackground": true,
            "ticks": "",
            "zerolinecolor": "white"
           },
           "zaxis": {
            "backgroundcolor": "#E5ECF6",
            "gridcolor": "white",
            "gridwidth": 2,
            "linecolor": "white",
            "showbackground": true,
            "ticks": "",
            "zerolinecolor": "white"
           }
          },
          "shapedefaults": {
           "line": {
            "color": "#2a3f5f"
           }
          },
          "ternary": {
           "aaxis": {
            "gridcolor": "white",
            "linecolor": "white",
            "ticks": ""
           },
           "baxis": {
            "gridcolor": "white",
            "linecolor": "white",
            "ticks": ""
           },
           "bgcolor": "#E5ECF6",
           "caxis": {
            "gridcolor": "white",
            "linecolor": "white",
            "ticks": ""
           }
          },
          "title": {
           "x": 0.05
          },
          "xaxis": {
           "automargin": true,
           "gridcolor": "white",
           "linecolor": "white",
           "ticks": "",
           "title": {
            "standoff": 15
           },
           "zerolinecolor": "white",
           "zerolinewidth": 2
          },
          "yaxis": {
           "automargin": true,
           "gridcolor": "white",
           "linecolor": "white",
           "ticks": "",
           "title": {
            "standoff": 15
           },
           "zerolinecolor": "white",
           "zerolinewidth": 2
          }
         }
        },
        "title": {
         "text": "Sea Level Change Prediction (1946-2050)"
        },
        "xaxis": {
         "autorange": true,
         "range": [
          "1939-08-19 07:59:45.2383",
          "2056-05-15 16:00:14.7617"
         ],
         "title": {
          "text": "Year"
         },
         "type": "date"
        },
        "yaxis": {
         "autorange": true,
         "range": [
          2.5338258894001786,
          11.76708803854074
         ],
         "title": {
          "text": "CSIRO Adjusted Sea Level"
         },
         "type": "linear"
        }
       }
      },
      "image/png": "[encoded data removed]",
      "text/html": [
       "<div>                            <div id=\"14202dd2-344b-4799-8def-851e76be4b10\" class=\"plotly-graph-div\" style=\"height:525px; width:100%;\"></div>            <script type=\"text/javascript\">                require([\"plotly\"], function(Plotly) {                    window.PLOTLYENV=window.PLOTLYENV || {};                                    if (document.getElementById(\"14202dd2-344b-4799-8def-851e76be4b10\")) {                    Plotly.newPlot(                        \"14202dd2-344b-4799-8def-851e76be4b10\",                        [{\"marker\":{\"size\":8,\"symbol\":\"circle-open\"},\"mode\":\"markers\",\"name\":\"Historical Data\",\"x\":[\"1946-01-01T00:00:00\",\"1947-01-01T00:00:00\",\"1948-01-01T00:00:00\",\"1949-01-01T00:00:00\",\"1950-01-01T00:00:00\",\"1951-01-01T00:00:00\",\"1952-01-01T00:00:00\",\"1953-01-01T00:00:00\",\"1954-01-01T00:00:00\",\"1955-01-01T00:00:00\",\"1956-01-01T00:00:00\",\"1957-01-01T00:00:00\",\"1958-01-01T00:00:00\",\"1959-01-01T00:00:00\",\"1960-01-01T00:00:00\",\"1961-01-01T00:00:00\",\"1962-01-01T00:00:00\",\"1963-01-01T00:00:00\",\"1964-01-01T00:00:00\",\"1965-01-01T00:00:00\",\"1966-01-01T00:00:00\",\"1967-01-01T00:00:00\",\"1968-01-01T00:00:00\",\"1969-01-01T00:00:00\",\"1970-01-01T00:00:00\",\"1971-01-01T00:00:00\",\"1972-01-01T00:00:00\",\"1973-01-01T00:00:00\",\"1974-01-01T00:00:00\",\"1975-01-01T00:00:00\",\"1976-01-01T00:00:00\",\"1977-01-01T00:00:00\",\"1978-01-01T00:00:00\",\"1979-01-01T00:00:00\",\"1980-01-01T00:00:00\",\"1981-01-01T00:00:00\",\"1982-01-01T00:00:00\",\"1983-01-01T00:00:00\",\"1984-01-01T00:00:00\",\"1985-01-01T00:00:00\",\"1986-01-01T00:00:00\",\"1987-01-01T00:00:00\",\"1988-01-01T00:00:00\",\"1989-01-01T00:00:00\",\"1990-01-01T00:00:00\",\"1991-01-01T00:00:00\",\"1992-01-01T00:00:00\",\"1993-01-01T00:00:00\",\"1994-01-01T00:00:00\",\"1995-01-01T00:00:00\",\"1996-01-01T00:00:00\",\"1997-01-01T00:00:00\",\"1998-01-01T00:00:00\",\"1999-01-01T00:00:00\",\"2000-01-01T00:00:00\",\"2001-01-01T00:00:00\",\"2002-01-01T00:00:00\",\"2003-01-01T00:00:00\",\"2004-01-01T00:00:00\",\"2005-01-01T00:00:00\",\"2006-01-01T00:00:00\",\"2007-01-01T00:00:00\",\"2008-01-01T00:00:00\",\"2009-01-01T00:00:00\",\"2010-01-01T00:00:00\",\"2011-01-01T00:00:00\",\"2012-01-01T00:00:00\",\"2013-01-01T00:00:00\"],\"y\":[3.251968501,3.374015745,3.562992122,3.51181102,3.598425193,3.972440941,3.870078736,4.043307082,3.929133854,3.964566925,3.763779524,4.291338578,4.346456688,4.358267712,4.503937003,4.748031491,4.543307082,4.480314956,4.169291334,4.610236216,4.397637791,4.452755901,4.484251964,4.751968499,4.67716535,4.881889759,5.240157475,5.003937003,5.472440939,5.409448813,5.370078735,5.303149601,5.555118105,5.362204719,5.598425191,6.086614167,5.858267711,6.188976372,6.153543301,5.74803149,5.771653537,5.795275585,5.980314955,6.157480309,6.232283458,6.334645663,6.35826771,6.291338576,6.499999993,6.618110229,6.787401568,7.066929127,6.665354324,7.011811016,7.062992119,7.287401567,7.381889756,7.759842512,7.740157472,7.74409448,7.917322827,7.996062984,8.350393692,8.586614164,8.901574794,8.96456692,9.326771644,8.980314951],\"type\":\"scatter\"},{\"marker\":{\"size\":8,\"symbol\":\"circle\"},\"mode\":\"markers\",\"name\":\"Predicted Data\",\"x\":[\"2014-01-01T00:00:00\",\"2015-01-01T00:00:00\",\"2016-01-01T00:00:00\",\"2017-01-01T00:00:00\",\"2018-01-01T00:00:00\",\"2019-01-01T00:00:00\",\"2020-01-01T00:00:00\",\"2021-01-01T00:00:00\",\"2022-01-01T00:00:00\",\"2023-01-01T00:00:00\",\"2024-01-01T00:00:00\",\"2025-01-01T00:00:00\",\"2026-01-01T00:00:00\",\"2027-01-01T00:00:00\",\"2028-01-01T00:00:00\",\"2029-01-01T00:00:00\",\"2030-01-01T00:00:00\",\"2031-01-01T00:00:00\",\"2032-01-01T00:00:00\",\"2033-01-01T00:00:00\",\"2034-01-01T00:00:00\",\"2035-01-01T00:00:00\",\"2036-01-01T00:00:00\",\"2037-01-01T00:00:00\",\"2038-01-01T00:00:00\",\"2039-01-01T00:00:00\",\"2040-01-01T00:00:00\",\"2041-01-01T00:00:00\",\"2042-01-01T00:00:00\",\"2043-01-01T00:00:00\",\"2044-01-01T00:00:00\",\"2045-01-01T00:00:00\",\"2046-01-01T00:00:00\",\"2047-01-01T00:00:00\",\"2048-01-01T00:00:00\",\"2049-01-01T00:00:00\",\"2050-01-01T00:00:00\"],\"y\":[8.364787101745605,8.439334869384766,8.513882637023926,8.588431358337402,8.662979125976562,8.737526893615723,8.812074661254883,8.886622428894043,8.961170196533203,9.03571891784668,9.11026668548584,9.184814453125,9.25936222076416,9.33390998840332,9.40845775604248,9.483006477355957,9.557554244995117,9.632101058959961,9.706648826599121,9.781195640563965,9.855743408203125,9.930291175842285,10.004837989807129,10.079385757446289,10.153932571411133,10.228480339050293,10.303028106689453,10.377574920654297,10.45212173461914,10.526670455932617,10.601217269897461,10.675765037536621,10.750312805175781,10.824860572814941,10.899529457092285,10.974237442016602,11.048945426940918],\"type\":\"scatter\"}],                        {\"template\":{\"data\":{\"histogram2dcontour\":[{\"type\":\"histogram2dcontour\",\"colorbar\":{\"outlinewidth\":0,\"ticks\":\"\"},\"colorscale\":[[0.0,\"#0d0887\"],[0.1111111111111111,\"#46039f\"],[0.2222222222222222,\"#7201a8\"],[0.3333333333333333,\"#9c179e\"],[0.4444444444444444,\"#bd3786\"],[0.5555555555555556,\"#d8576b\"],[0.6666666666666666,\"#ed7953\"],[0.7777777777777778,\"#fb9f3a\"],[0.8888888888888888,\"#fdca26\"],[1.0,\"#f0f921\"]]}],\"choropleth\":[{\"type\":\"choropleth\",\"colorbar\":{\"outlinewidth\":0,\"ticks\":\"\"}}],\"histogram2d\":[{\"type\":\"histogram2d\",\"colorbar\":{\"outlinewidth\":0,\"ticks\":\"\"},\"colorscale\":[[0.0,\"#0d0887\"],[0.1111111111111111,\"#46039f\"],[0.2222222222222222,\"#7201a8\"],[0.3333333333333333,\"#9c179e\"],[0.4444444444444444,\"#bd3786\"],[0.5555555555555556,\"#d8576b\"],[0.6666666666666666,\"#ed7953\"],[0.7777777777777778,\"#fb9f3a\"],[0.8888888888888888,\"#fdca26\"],[1.0,\"#f0f921\"]]}],\"heatmap\":[{\"type\":\"heatmap\",\"colorbar\":{\"outlinewidth\":0,\"ticks\":\"\"},\"colorscale\":[[0.0,\"#0d0887\"],[0.1111111111111111,\"#46039f\"],[0.2222222222222222,\"#7201a8\"],[0.3333333333333333,\"#9c179e\"],[0.4444444444444444,\"#bd3786\"],[0.5555555555555556,\"#d8576b\"],[0.6666666666666666,\"#ed7953\"],[0.7777777777777778,\"#fb9f3a\"],[0.8888888888888888,\"#fdca26\"],[1.0,\"#f0f921\"]]}],\"heatmapgl\":[{\"type\":\"heatmapgl\",\"colorbar\":{\"outlinewidth\":0,\"ticks\":\"\"},\"colorscale\":[[0.0,\"#0d0887\"],[0.1111111111111111,\"#46039f\"],[0.2222222222222222,\"#7201a8\"],[0.3333333333333333,\"#9c179e\"],[0.4444444444444444,\"#bd3786\"],[0.5555555555555556,\"#d8576b\"],[0.6666666666666666,\"#ed7953\"],[0.7777777777777778,\"#fb9f3a\"],[0.8888888888888888,\"#fdca26\"],[1.0,\"#f0f921\"]]}],\"contourcarpet\":[{\"type\":\"contourcarpet\",\"colorbar\":{\"outlinewidth\":0,\"ticks\":\"\"}}],\"contour\":[{\"type\":\"contour\",\"colorbar\":{\"outlinewidth\":0,\"ticks\":\"\"},\"colorscale\":[[0.0,\"#0d0887\"],[0.1111111111111111,\"#46039f\"],[0.2222222222222222,\"#7201a8\"],[0.3333333333333333,\"#9c179e\"],[0.4444444444444444,\"#bd3786\"],[0.5555555555555556,\"#d8576b\"],[0.6666666666666666,\"#ed7953\"],[0.7777777777777778,\"#fb9f3a\"],[0.8888888888888888,\"#fdca26\"],[1.0,\"#f0f921\"]]}],\"surface\":[{\"type\":\"surface\",\"colorbar\":{\"outlinewidth\":0,\"ticks\":\"\"},\"colorscale\":[[0.0,\"#0d0887\"],[0.1111111111111111,\"#46039f\"],[0.2222222222222222,\"#7201a8\"],[0.3333333333333333,\"#9c179e\"],[0.4444444444444444,\"#bd3786\"],[0.5555555555555556,\"#d8576b\"],[0.6666666666666666,\"#ed7953\"],[0.7777777777777778,\"#fb9f3a\"],[0.8888888888888888,\"#fdca26\"],[1.0,\"#f0f921\"]]}],\"mesh3d\":[{\"type\":\"mesh3d\",\"colorbar\":{\"outlinewidth\":0,\"ticks\":\"\"}}],\"scatter\":[{\"fillpattern\":{\"fillmode\":\"overlay\",\"size\":10,\"solidity\":0.2},\"type\":\"scatter\"}],\"parcoords\":[{\"type\":\"parcoords\",\"line\":{\"colorbar\":{\"outlinewidth\":0,\"ticks\":\"\"}}}],\"scatterpolargl\":[{\"type\":\"scatterpolargl\",\"marker\":{\"colorbar\":{\"outlinewidth\":0,\"ticks\":\"\"}}}],\"bar\":[{\"error_x\":{\"color\":\"#2a3f5f\"},\"error_y\":{\"color\":\"#2a3f5f\"},\"marker\":{\"line\":{\"color\":\"#E5ECF6\",\"width\":0.5},\"pattern\":{\"fillmode\":\"overlay\",\"size\":10,\"solidity\":0.2}},\"type\":\"bar\"}],\"scattergeo\":[{\"type\":\"scattergeo\",\"marker\":{\"colorbar\":{\"outlinewidth\":0,\"ticks\":\"\"}}}],\"scatterpolar\":[{\"type\":\"scatterpolar\",\"marker\":{\"colorbar\":{\"outlinewidth\":0,\"ticks\":\"\"}}}],\"histogram\":[{\"marker\":{\"pattern\":{\"fillmode\":\"overlay\",\"size\":10,\"solidity\":0.2}},\"type\":\"histogram\"}],\"scattergl\":[{\"type\":\"scattergl\",\"marker\":{\"colorbar\":{\"outlinewidth\":0,\"ticks\":\"\"}}}],\"scatter3d\":[{\"type\":\"scatter3d\",\"line\":{\"colorbar\":{\"outlinewidth\":0,\"ticks\":\"\"}},\"marker\":{\"colorbar\":{\"outlinewidth\":0,\"ticks\":\"\"}}}],\"scattermapbox\":[{\"type\":\"scattermapbox\",\"marker\":{\"colorbar\":{\"outlinewidth\":0,\"ticks\":\"\"}}}],\"scatterternary\":[{\"type\":\"scatterternary\",\"marker\":{\"colorbar\":{\"outlinewidth\":0,\"ticks\":\"\"}}}],\"scattercarpet\":[{\"type\":\"scattercarpet\",\"marker\":{\"colorbar\":{\"outlinewidth\":0,\"ticks\":\"\"}}}],\"carpet\":[{\"aaxis\":{\"endlinecolor\":\"#2a3f5f\",\"gridcolor\":\"white\",\"linecolor\":\"white\",\"minorgridcolor\":\"white\",\"startlinecolor\":\"#2a3f5f\"},\"baxis\":{\"endlinecolor\":\"#2a3f5f\",\"gridcolor\":\"white\",\"linecolor\":\"white\",\"minorgridcolor\":\"white\",\"startlinecolor\":\"#2a3f5f\"},\"type\":\"carpet\"}],\"table\":[{\"cells\":{\"fill\":{\"color\":\"#EBF0F8\"},\"line\":{\"color\":\"white\"}},\"header\":{\"fill\":{\"color\":\"#C8D4E3\"},\"line\":{\"color\":\"white\"}},\"type\":\"table\"}],\"barpolar\":[{\"marker\":{\"line\":{\"color\":\"#E5ECF6\",\"width\":0.5},\"pattern\":{\"fillmode\":\"overlay\",\"size\":10,\"solidity\":0.2}},\"type\":\"barpolar\"}],\"pie\":[{\"automargin\":true,\"type\":\"pie\"}]},\"layout\":{\"autotypenumbers\":\"strict\",\"colorway\":[\"#636efa\",\"#EF553B\",\"#00cc96\",\"#ab63fa\",\"#FFA15A\",\"#19d3f3\",\"#FF6692\",\"#B6E880\",\"#FF97FF\",\"#FECB52\"],\"font\":{\"color\":\"#2a3f5f\"},\"hovermode\":\"closest\",\"hoverlabel\":{\"align\":\"left\"},\"paper_bgcolor\":\"white\",\"plot_bgcolor\":\"#E5ECF6\",\"polar\":{\"bgcolor\":\"#E5ECF6\",\"angularaxis\":{\"gridcolor\":\"white\",\"linecolor\":\"white\",\"ticks\":\"\"},\"radialaxis\":{\"gridcolor\":\"white\",\"linecolor\":\"white\",\"ticks\":\"\"}},\"ternary\":{\"bgcolor\":\"#E5ECF6\",\"aaxis\":{\"gridcolor\":\"white\",\"linecolor\":\"white\",\"ticks\":\"\"},\"baxis\":{\"gridcolor\":\"white\",\"linecolor\":\"white\",\"ticks\":\"\"},\"caxis\":{\"gridcolor\":\"white\",\"linecolor\":\"white\",\"ticks\":\"\"}},\"coloraxis\":{\"colorbar\":{\"outlinewidth\":0,\"ticks\":\"\"}},\"colorscale\":{\"sequential\":[[0.0,\"#0d0887\"],[0.1111111111111111,\"#46039f\"],[0.2222222222222222,\"#7201a8\"],[0.3333333333333333,\"#9c179e\"],[0.4444444444444444,\"#bd3786\"],[0.5555555555555556,\"#d8576b\"],[0.6666666666666666,\"#ed7953\"],[0.7777777777777778,\"#fb9f3a\"],[0.8888888888888888,\"#fdca26\"],[1.0,\"#f0f921\"]],\"sequentialminus\":[[0.0,\"#0d0887\"],[0.1111111111111111,\"#46039f\"],[0.2222222222222222,\"#7201a8\"],[0.3333333333333333,\"#9c179e\"],[0.4444444444444444,\"#bd3786\"],[0.5555555555555556,\"#d8576b\"],[0.6666666666666666,\"#ed7953\"],[0.7777777777777778,\"#fb9f3a\"],[0.8888888888888888,\"#fdca26\"],[1.0,\"#f0f921\"]],\"diverging\":[[0,\"#8e0152\"],[0.1,\"#c51b7d\"],[0.2,\"#de77ae\"],[0.3,\"#f1b6da\"],[0.4,\"#fde0ef\"],[0.5,\"#f7f7f7\"],[0.6,\"#e6f5d0\"],[0.7,\"#b8e186\"],[0.8,\"#7fbc41\"],[0.9,\"#4d9221\"],[1,\"#276419\"]]},\"xaxis\":{\"gridcolor\":\"white\",\"linecolor\":\"white\",\"ticks\":\"\",\"title\":{\"standoff\":15},\"zerolinecolor\":\"white\",\"automargin\":true,\"zerolinewidth\":2},\"yaxis\":{\"gridcolor\":\"white\",\"linecolor\":\"white\",\"ticks\":\"\",\"title\":{\"standoff\":15},\"zerolinecolor\":\"white\",\"automargin\":true,\"zerolinewidth\":2},\"scene\":{\"xaxis\":{\"backgroundcolor\":\"#E5ECF6\",\"gridcolor\":\"white\",\"linecolor\":\"white\",\"showbackground\":true,\"ticks\":\"\",\"zerolinecolor\":\"white\",\"gridwidth\":2},\"yaxis\":{\"backgroundcolor\":\"#E5ECF6\",\"gridcolor\":\"white\",\"linecolor\":\"white\",\"showbackground\":true,\"ticks\":\"\",\"zerolinecolor\":\"white\",\"gridwidth\":2},\"zaxis\":{\"backgroundcolor\":\"#E5ECF6\",\"gridcolor\":\"white\",\"linecolor\":\"white\",\"showbackground\":true,\"ticks\":\"\",\"zerolinecolor\":\"white\",\"gridwidth\":2}},\"shapedefaults\":{\"line\":{\"color\":\"#2a3f5f\"}},\"annotationdefaults\":{\"arrowcolor\":\"#2a3f5f\",\"arrowhead\":0,\"arrowwidth\":1},\"geo\":{\"bgcolor\":\"white\",\"landcolor\":\"#E5ECF6\",\"subunitcolor\":\"white\",\"showland\":true,\"showlakes\":true,\"lakecolor\":\"white\"},\"title\":{\"x\":0.05},\"mapbox\":{\"style\":\"light\"}}},\"legend\":{\"x\":0,\"y\":1},\"title\":{\"text\":\"Sea Level Change Prediction (1946-2050)\"},\"xaxis\":{\"title\":{\"text\":\"Year\"}},\"yaxis\":{\"title\":{\"text\":\"CSIRO Adjusted Sea Level\"}},\"hovermode\":\"closest\"},                        {\"responsive\": true}                    ).then(function(){\n",
       "                            \n",
       "var gd = document.getElementById('14202dd2-344b-4799-8def-851e76be4b10');\n",
       "var x = new MutationObserver(function (mutations, observer) {{\n",
       "        var display = window.getComputedStyle(gd).display;\n",
       "        if (!display || display === 'none') {{\n",
       "            console.log([gd, 'removed!']);\n",
       "            Plotly.purge(gd);\n",
       "            observer.disconnect();\n",
       "        }}\n",
       "}});\n",
       "\n",
       "// Listen for the removal of the full notebook cells\n",
       "var notebookContainer = gd.closest('#notebook-container');\n",
       "if (notebookContainer) {{\n",
       "    x.observe(notebookContainer, {childList: true});\n",
       "}}\n",
       "\n",
       "// Listen for the clearing of the current output cell\n",
       "var outputEl = gd.closest('.output');\n",
       "if (outputEl) {{\n",
       "    x.observe(outputEl, {childList: true});\n",
       "}}\n",
       "\n",
       "                        })                };                });            </script>        </div>"
      ]
     },
     "metadata": {},
     "output_type": "display_data"
    }
   ],
   "source": [
    "import plotly.graph_objs as go\n",
    "\n",
    "# Create historical data trace\n",
    "historical_trace = go.Scatter(\n",
    "    x=data.index,\n",
    "    y=data[target],\n",
    "    mode='markers',\n",
    "    marker=dict(\n",
    "        size=8,\n",
    "        symbol='circle-open'\n",
    "    ),\n",
    "    name='Historical Data'\n",
    ")\n",
    "\n",
    "# Create predicted data trace\n",
    "predicted_trace = go.Scatter(\n",
    "    x=future_data.index,\n",
    "    y=future_data[target],\n",
    "    mode='markers',\n",
    "    marker=dict(\n",
    "        size=8,\n",
    "        symbol='circle'\n",
    "    ),\n",
    "    name='Predicted Data'\n",
    ")\n",
    "\n",
    "# Create layout\n",
    "layout = go.Layout(\n",
    "    title='Sea Level Change Prediction (1946-2050)',\n",
    "    xaxis=dict(title='Year'),\n",
    "    yaxis=dict(title='CSIRO Adjusted Sea Level'),\n",
    "    legend=dict(x=0, y=1),\n",
    "    hovermode='closest'\n",
    ")\n",
    "\n",
    "# Create figure and add traces\n",
    "fig = go.Figure()\n",
    "fig.add_trace(historical_trace)\n",
    "fig.add_trace(predicted_trace)\n",
    "\n",
    "# Add layout to figure\n",
    "fig.update_layout(layout)\n",
    "\n",
    "# Show figure\n",
    "fig.show()\n"
   ]
  },
  {
   "cell_type": "code",
   "execution_count": 70,
   "id": "f51836c2-bfba-4df6-9211-7b46434f7740",
   "metadata": {},
   "outputs": [
    {
     "data": {
      "application/vnd.plotly.v1+json": {
       "config": {
        "plotlyServerURL": "https://plot.ly"
       },
       "data": [
        {
         "mode": "markers",
         "name": "Historical Data",
         "type": "scatter",
         "x": [
          "1946-01-01T00:00:00",
          "1947-01-01T00:00:00",
          "1948-01-01T00:00:00",
          "1949-01-01T00:00:00",
          "1950-01-01T00:00:00",
          "1951-01-01T00:00:00",
          "1952-01-01T00:00:00",
          "1953-01-01T00:00:00",
          "1954-01-01T00:00:00",
          "1955-01-01T00:00:00",
          "1956-01-01T00:00:00",
          "1957-01-01T00:00:00",
          "1958-01-01T00:00:00",
          "1959-01-01T00:00:00",
          "1960-01-01T00:00:00",
          "1961-01-01T00:00:00",
          "1962-01-01T00:00:00",
          "1963-01-01T00:00:00",
          "1964-01-01T00:00:00",
          "1965-01-01T00:00:00",
          "1966-01-01T00:00:00",
          "1967-01-01T00:00:00",
          "1968-01-01T00:00:00",
          "1969-01-01T00:00:00",
          "1970-01-01T00:00:00",
          "1971-01-01T00:00:00",
          "1972-01-01T00:00:00",
          "1973-01-01T00:00:00",
          "1974-01-01T00:00:00",
          "1975-01-01T00:00:00",
          "1976-01-01T00:00:00",
          "1977-01-01T00:00:00",
          "1978-01-01T00:00:00",
          "1979-01-01T00:00:00",
          "1980-01-01T00:00:00",
          "1981-01-01T00:00:00",
          "1982-01-01T00:00:00",
          "1983-01-01T00:00:00",
          "1984-01-01T00:00:00",
          "1985-01-01T00:00:00",
          "1986-01-01T00:00:00",
          "1987-01-01T00:00:00",
          "1988-01-01T00:00:00",
          "1989-01-01T00:00:00",
          "1990-01-01T00:00:00",
          "1991-01-01T00:00:00",
          "1992-01-01T00:00:00",
          "1993-01-01T00:00:00",
          "1994-01-01T00:00:00",
          "1995-01-01T00:00:00",
          "1996-01-01T00:00:00",
          "1997-01-01T00:00:00",
          "1998-01-01T00:00:00",
          "1999-01-01T00:00:00",
          "2000-01-01T00:00:00",
          "2001-01-01T00:00:00",
          "2002-01-01T00:00:00",
          "2003-01-01T00:00:00",
          "2004-01-01T00:00:00",
          "2005-01-01T00:00:00",
          "2006-01-01T00:00:00",
          "2007-01-01T00:00:00",
          "2008-01-01T00:00:00",
          "2009-01-01T00:00:00",
          "2010-01-01T00:00:00",
          "2011-01-01T00:00:00",
          "2012-01-01T00:00:00",
          "2013-01-01T00:00:00"
         ],
         "y": [
          3.251968501,
          3.374015745,
          3.562992122,
          3.51181102,
          3.598425193,
          3.972440941,
          3.870078736,
          4.043307082,
          3.929133854,
          3.964566925,
          3.763779524,
          4.291338578,
          4.346456688,
          4.358267712,
          4.503937003,
          4.748031491,
          4.543307082,
          4.480314956,
          4.169291334,
          4.610236216,
          4.397637791,
          4.452755901,
          4.484251964,
          4.751968499,
          4.67716535,
          4.881889759,
          5.240157475,
          5.003937003,
          5.472440939,
          5.409448813,
          5.370078735,
          5.303149601,
          5.555118105,
          5.362204719,
          5.598425191,
          6.086614167,
          5.858267711,
          6.188976372,
          6.153543301,
          5.74803149,
          5.771653537,
          5.795275585,
          5.980314955,
          6.157480309,
          6.232283458,
          6.334645663,
          6.35826771,
          6.291338576,
          6.499999993,
          6.618110229,
          6.787401568,
          7.066929127,
          6.665354324,
          7.011811016,
          7.062992119,
          7.287401567,
          7.381889756,
          7.759842512,
          7.740157472,
          7.74409448,
          7.917322827,
          7.996062984,
          8.350393692,
          8.586614164,
          8.901574794,
          8.96456692,
          9.326771644,
          8.980314951
         ]
        },
        {
         "name": "Predicted Data",
         "type": "scatter",
         "x": [
          "2014-01-01T00:00:00",
          "2015-01-01T00:00:00",
          "2016-01-01T00:00:00",
          "2017-01-01T00:00:00",
          "2018-01-01T00:00:00",
          "2019-01-01T00:00:00",
          "2020-01-01T00:00:00",
          "2021-01-01T00:00:00",
          "2022-01-01T00:00:00",
          "2023-01-01T00:00:00",
          "2024-01-01T00:00:00",
          "2025-01-01T00:00:00",
          "2026-01-01T00:00:00",
          "2027-01-01T00:00:00",
          "2028-01-01T00:00:00",
          "2029-01-01T00:00:00",
          "2030-01-01T00:00:00",
          "2031-01-01T00:00:00",
          "2032-01-01T00:00:00",
          "2033-01-01T00:00:00",
          "2034-01-01T00:00:00",
          "2035-01-01T00:00:00",
          "2036-01-01T00:00:00",
          "2037-01-01T00:00:00",
          "2038-01-01T00:00:00",
          "2039-01-01T00:00:00",
          "2040-01-01T00:00:00",
          "2041-01-01T00:00:00",
          "2042-01-01T00:00:00",
          "2043-01-01T00:00:00",
          "2044-01-01T00:00:00",
          "2045-01-01T00:00:00",
          "2046-01-01T00:00:00",
          "2047-01-01T00:00:00",
          "2048-01-01T00:00:00",
          "2049-01-01T00:00:00",
          "2050-01-01T00:00:00"
         ],
         "y": [
          8.364787101745605,
          8.439334869384766,
          8.513882637023926,
          8.588431358337402,
          8.662979125976562,
          8.737526893615723,
          8.812074661254883,
          8.886622428894043,
          8.961170196533203,
          9.03571891784668,
          9.11026668548584,
          9.184814453125,
          9.25936222076416,
          9.33390998840332,
          9.40845775604248,
          9.483006477355957,
          9.557554244995117,
          9.632101058959961,
          9.706648826599121,
          9.781195640563965,
          9.855743408203125,
          9.930291175842285,
          10.004837989807129,
          10.079385757446289,
          10.153932571411133,
          10.228480339050293,
          10.303028106689453,
          10.377574920654297,
          10.45212173461914,
          10.526670455932617,
          10.601217269897461,
          10.675765037536621,
          10.750312805175781,
          10.824860572814941,
          10.899529457092285,
          10.974237442016602,
          11.048945426940918
         ]
        }
       ],
       "layout": {
        "autosize": true,
        "hovermode": "x unified",
        "template": {
         "data": {
          "bar": [
           {
            "error_x": {
             "color": "#2a3f5f"
            },
            "error_y": {
             "color": "#2a3f5f"
            },
            "marker": {
             "line": {
              "color": "#E5ECF6",
              "width": 0.5
             },
             "pattern": {
              "fillmode": "overlay",
              "size": 10,
              "solidity": 0.2
             }
            },
            "type": "bar"
           }
          ],
          "barpolar": [
           {
            "marker": {
             "line": {
              "color": "#E5ECF6",
              "width": 0.5
             },
             "pattern": {
              "fillmode": "overlay",
              "size": 10,
              "solidity": 0.2
             }
            },
            "type": "barpolar"
           }
          ],
          "carpet": [
           {
            "aaxis": {
             "endlinecolor": "#2a3f5f",
             "gridcolor": "white",
             "linecolor": "white",
             "minorgridcolor": "white",
             "startlinecolor": "#2a3f5f"
            },
            "baxis": {
             "endlinecolor": "#2a3f5f",
             "gridcolor": "white",
             "linecolor": "white",
             "minorgridcolor": "white",
             "startlinecolor": "#2a3f5f"
            },
            "type": "carpet"
           }
          ],
          "choropleth": [
           {
            "colorbar": {
             "outlinewidth": 0,
             "ticks": ""
            },
            "type": "choropleth"
           }
          ],
          "contour": [
           {
            "colorbar": {
             "outlinewidth": 0,
             "ticks": ""
            },
            "colorscale": [
             [
              0,
              "#0d0887"
             ],
             [
              0.1111111111111111,
              "#46039f"
             ],
             [
              0.2222222222222222,
              "#7201a8"
             ],
             [
              0.3333333333333333,
              "#9c179e"
             ],
             [
              0.4444444444444444,
              "#bd3786"
             ],
             [
              0.5555555555555556,
              "#d8576b"
             ],
             [
              0.6666666666666666,
              "#ed7953"
             ],
             [
              0.7777777777777778,
              "#fb9f3a"
             ],
             [
              0.8888888888888888,
              "#fdca26"
             ],
             [
              1,
              "#f0f921"
             ]
            ],
            "type": "contour"
           }
          ],
          "contourcarpet": [
           {
            "colorbar": {
             "outlinewidth": 0,
             "ticks": ""
            },
            "type": "contourcarpet"
           }
          ],
          "heatmap": [
           {
            "colorbar": {
             "outlinewidth": 0,
             "ticks": ""
            },
            "colorscale": [
             [
              0,
              "#0d0887"
             ],
             [
              0.1111111111111111,
              "#46039f"
             ],
             [
              0.2222222222222222,
              "#7201a8"
             ],
             [
              0.3333333333333333,
              "#9c179e"
             ],
             [
              0.4444444444444444,
              "#bd3786"
             ],
             [
              0.5555555555555556,
              "#d8576b"
             ],
             [
              0.6666666666666666,
              "#ed7953"
             ],
             [
              0.7777777777777778,
              "#fb9f3a"
             ],
             [
              0.8888888888888888,
              "#fdca26"
             ],
             [
              1,
              "#f0f921"
             ]
            ],
            "type": "heatmap"
           }
          ],
          "heatmapgl": [
           {
            "colorbar": {
             "outlinewidth": 0,
             "ticks": ""
            },
            "colorscale": [
             [
              0,
              "#0d0887"
             ],
             [
              0.1111111111111111,
              "#46039f"
             ],
             [
              0.2222222222222222,
              "#7201a8"
             ],
             [
              0.3333333333333333,
              "#9c179e"
             ],
             [
              0.4444444444444444,
              "#bd3786"
             ],
             [
              0.5555555555555556,
              "#d8576b"
             ],
             [
              0.6666666666666666,
              "#ed7953"
             ],
             [
              0.7777777777777778,
              "#fb9f3a"
             ],
             [
              0.8888888888888888,
              "#fdca26"
             ],
             [
              1,
              "#f0f921"
             ]
            ],
            "type": "heatmapgl"
           }
          ],
          "histogram": [
           {
            "marker": {
             "pattern": {
              "fillmode": "overlay",
              "size": 10,
              "solidity": 0.2
             }
            },
            "type": "histogram"
           }
          ],
          "histogram2d": [
           {
            "colorbar": {
             "outlinewidth": 0,
             "ticks": ""
            },
            "colorscale": [
             [
              0,
              "#0d0887"
             ],
             [
              0.1111111111111111,
              "#46039f"
             ],
             [
              0.2222222222222222,
              "#7201a8"
             ],
             [
              0.3333333333333333,
              "#9c179e"
             ],
             [
              0.4444444444444444,
              "#bd3786"
             ],
             [
              0.5555555555555556,
              "#d8576b"
             ],
             [
              0.6666666666666666,
              "#ed7953"
             ],
             [
              0.7777777777777778,
              "#fb9f3a"
             ],
             [
              0.8888888888888888,
              "#fdca26"
             ],
             [
              1,
              "#f0f921"
             ]
            ],
            "type": "histogram2d"
           }
          ],
          "histogram2dcontour": [
           {
            "colorbar": {
             "outlinewidth": 0,
             "ticks": ""
            },
            "colorscale": [
             [
              0,
              "#0d0887"
             ],
             [
              0.1111111111111111,
              "#46039f"
             ],
             [
              0.2222222222222222,
              "#7201a8"
             ],
             [
              0.3333333333333333,
              "#9c179e"
             ],
             [
              0.4444444444444444,
              "#bd3786"
             ],
             [
              0.5555555555555556,
              "#d8576b"
             ],
             [
              0.6666666666666666,
              "#ed7953"
             ],
             [
              0.7777777777777778,
              "#fb9f3a"
             ],
             [
              0.8888888888888888,
              "#fdca26"
             ],
             [
              1,
              "#f0f921"
             ]
            ],
            "type": "histogram2dcontour"
           }
          ],
          "mesh3d": [
           {
            "colorbar": {
             "outlinewidth": 0,
             "ticks": ""
            },
            "type": "mesh3d"
           }
          ],
          "parcoords": [
           {
            "line": {
             "colorbar": {
              "outlinewidth": 0,
              "ticks": ""
             }
            },
            "type": "parcoords"
           }
          ],
          "pie": [
           {
            "automargin": true,
            "type": "pie"
           }
          ],
          "scatter": [
           {
            "fillpattern": {
             "fillmode": "overlay",
             "size": 10,
             "solidity": 0.2
            },
            "type": "scatter"
           }
          ],
          "scatter3d": [
           {
            "line": {
             "colorbar": {
              "outlinewidth": 0,
              "ticks": ""
             }
            },
            "marker": {
             "colorbar": {
              "outlinewidth": 0,
              "ticks": ""
             }
            },
            "type": "scatter3d"
           }
          ],
          "scattercarpet": [
           {
            "marker": {
             "colorbar": {
              "outlinewidth": 0,
              "ticks": ""
             }
            },
            "type": "scattercarpet"
           }
          ],
          "scattergeo": [
           {
            "marker": {
             "colorbar": {
              "outlinewidth": 0,
              "ticks": ""
             }
            },
            "type": "scattergeo"
           }
          ],
          "scattergl": [
           {
            "marker": {
             "colorbar": {
              "outlinewidth": 0,
              "ticks": ""
             }
            },
            "type": "scattergl"
           }
          ],
          "scattermapbox": [
           {
            "marker": {
             "colorbar": {
              "outlinewidth": 0,
              "ticks": ""
             }
            },
            "type": "scattermapbox"
           }
          ],
          "scatterpolar": [
           {
            "marker": {
             "colorbar": {
              "outlinewidth": 0,
              "ticks": ""
             }
            },
            "type": "scatterpolar"
           }
          ],
          "scatterpolargl": [
           {
            "marker": {
             "colorbar": {
              "outlinewidth": 0,
              "ticks": ""
             }
            },
            "type": "scatterpolargl"
           }
          ],
          "scatterternary": [
           {
            "marker": {
             "colorbar": {
              "outlinewidth": 0,
              "ticks": ""
             }
            },
            "type": "scatterternary"
           }
          ],
          "surface": [
           {
            "colorbar": {
             "outlinewidth": 0,
             "ticks": ""
            },
            "colorscale": [
             [
              0,
              "#0d0887"
             ],
             [
              0.1111111111111111,
              "#46039f"
             ],
             [
              0.2222222222222222,
              "#7201a8"
             ],
             [
              0.3333333333333333,
              "#9c179e"
             ],
             [
              0.4444444444444444,
              "#bd3786"
             ],
             [
              0.5555555555555556,
              "#d8576b"
             ],
             [
              0.6666666666666666,
              "#ed7953"
             ],
             [
              0.7777777777777778,
              "#fb9f3a"
             ],
             [
              0.8888888888888888,
              "#fdca26"
             ],
             [
              1,
              "#f0f921"
             ]
            ],
            "type": "surface"
           }
          ],
          "table": [
           {
            "cells": {
             "fill": {
              "color": "#EBF0F8"
             },
             "line": {
              "color": "white"
             }
            },
            "header": {
             "fill": {
              "color": "#C8D4E3"
             },
             "line": {
              "color": "white"
             }
            },
            "type": "table"
           }
          ]
         },
         "layout": {
          "annotationdefaults": {
           "arrowcolor": "#2a3f5f",
           "arrowhead": 0,
           "arrowwidth": 1
          },
          "autotypenumbers": "strict",
          "coloraxis": {
           "colorbar": {
            "outlinewidth": 0,
            "ticks": ""
           }
          },
          "colorscale": {
           "diverging": [
            [
             0,
             "#8e0152"
            ],
            [
             0.1,
             "#c51b7d"
            ],
            [
             0.2,
             "#de77ae"
            ],
            [
             0.3,
             "#f1b6da"
            ],
            [
             0.4,
             "#fde0ef"
            ],
            [
             0.5,
             "#f7f7f7"
            ],
            [
             0.6,
             "#e6f5d0"
            ],
            [
             0.7,
             "#b8e186"
            ],
            [
             0.8,
             "#7fbc41"
            ],
            [
             0.9,
             "#4d9221"
            ],
            [
             1,
             "#276419"
            ]
           ],
           "sequential": [
            [
             0,
             "#0d0887"
            ],
            [
             0.1111111111111111,
             "#46039f"
            ],
            [
             0.2222222222222222,
             "#7201a8"
            ],
            [
             0.3333333333333333,
             "#9c179e"
            ],
            [
             0.4444444444444444,
             "#bd3786"
            ],
            [
             0.5555555555555556,
             "#d8576b"
            ],
            [
             0.6666666666666666,
             "#ed7953"
            ],
            [
             0.7777777777777778,
             "#fb9f3a"
            ],
            [
             0.8888888888888888,
             "#fdca26"
            ],
            [
             1,
             "#f0f921"
            ]
           ],
           "sequentialminus": [
            [
             0,
             "#0d0887"
            ],
            [
             0.1111111111111111,
             "#46039f"
            ],
            [
             0.2222222222222222,
             "#7201a8"
            ],
            [
             0.3333333333333333,
             "#9c179e"
            ],
            [
             0.4444444444444444,
             "#bd3786"
            ],
            [
             0.5555555555555556,
             "#d8576b"
            ],
            [
             0.6666666666666666,
             "#ed7953"
            ],
            [
             0.7777777777777778,
             "#fb9f3a"
            ],
            [
             0.8888888888888888,
             "#fdca26"
            ],
            [
             1,
             "#f0f921"
            ]
           ]
          },
          "colorway": [
           "#636efa",
           "#EF553B",
           "#00cc96",
           "#ab63fa",
           "#FFA15A",
           "#19d3f3",
           "#FF6692",
           "#B6E880",
           "#FF97FF",
           "#FECB52"
          ],
          "font": {
           "color": "#2a3f5f"
          },
          "geo": {
           "bgcolor": "white",
           "lakecolor": "white",
           "landcolor": "#E5ECF6",
           "showlakes": true,
           "showland": true,
           "subunitcolor": "white"
          },
          "hoverlabel": {
           "align": "left"
          },
          "hovermode": "closest",
          "mapbox": {
           "style": "light"
          },
          "paper_bgcolor": "white",
          "plot_bgcolor": "#E5ECF6",
          "polar": {
           "angularaxis": {
            "gridcolor": "white",
            "linecolor": "white",
            "ticks": ""
           },
           "bgcolor": "#E5ECF6",
           "radialaxis": {
            "gridcolor": "white",
            "linecolor": "white",
            "ticks": ""
           }
          },
          "scene": {
           "xaxis": {
            "backgroundcolor": "#E5ECF6",
            "gridcolor": "white",
            "gridwidth": 2,
            "linecolor": "white",
            "showbackground": true,
            "ticks": "",
            "zerolinecolor": "white"
           },
           "yaxis": {
            "backgroundcolor": "#E5ECF6",
            "gridcolor": "white",
            "gridwidth": 2,
            "linecolor": "white",
            "showbackground": true,
            "ticks": "",
            "zerolinecolor": "white"
           },
           "zaxis": {
            "backgroundcolor": "#E5ECF6",
            "gridcolor": "white",
            "gridwidth": 2,
            "linecolor": "white",
            "showbackground": true,
            "ticks": "",
            "zerolinecolor": "white"
           }
          },
          "shapedefaults": {
           "line": {
            "color": "#2a3f5f"
           }
          },
          "ternary": {
           "aaxis": {
            "gridcolor": "white",
            "linecolor": "white",
            "ticks": ""
           },
           "baxis": {
            "gridcolor": "white",
            "linecolor": "white",
            "ticks": ""
           },
           "bgcolor": "#E5ECF6",
           "caxis": {
            "gridcolor": "white",
            "linecolor": "white",
            "ticks": ""
           }
          },
          "title": {
           "x": 0.05
          },
          "xaxis": {
           "automargin": true,
           "gridcolor": "white",
           "linecolor": "white",
           "ticks": "",
           "title": {
            "standoff": 15
           },
           "zerolinecolor": "white",
           "zerolinewidth": 2
          },
          "yaxis": {
           "automargin": true,
           "gridcolor": "white",
           "linecolor": "white",
           "ticks": "",
           "title": {
            "standoff": 15
           },
           "zerolinecolor": "white",
           "zerolinewidth": 2
          }
         }
        },
        "title": {
         "text": "Sea Level Change Prediction (1946-2050)"
        },
        "xaxis": {
         "autorange": true,
         "range": [
          "1940-02-06 15:01:01.8428",
          "2050-01-01"
         ],
         "title": {
          "text": "Year"
         },
         "type": "date"
        },
        "yaxis": {
         "autorange": true,
         "range": [
          2.6237760472512055,
          11.492375394293008
         ],
         "title": {
          "text": "CSIRO Adjusted Sea Level"
         },
         "type": "linear"
        }
       }
      },
      "image/png": "[encoded data removed]",
      "text/html": [
       "<div>                            <div id=\"699be41d-d076-4b17-94ce-bf54ec6ca08d\" class=\"plotly-graph-div\" style=\"height:525px; width:100%;\"></div>            <script type=\"text/javascript\">                require([\"plotly\"], function(Plotly) {                    window.PLOTLYENV=window.PLOTLYENV || {};                                    if (document.getElementById(\"699be41d-d076-4b17-94ce-bf54ec6ca08d\")) {                    Plotly.newPlot(                        \"699be41d-d076-4b17-94ce-bf54ec6ca08d\",                        [{\"mode\":\"markers\",\"name\":\"Historical Data\",\"x\":[\"1946-01-01T00:00:00\",\"1947-01-01T00:00:00\",\"1948-01-01T00:00:00\",\"1949-01-01T00:00:00\",\"1950-01-01T00:00:00\",\"1951-01-01T00:00:00\",\"1952-01-01T00:00:00\",\"1953-01-01T00:00:00\",\"1954-01-01T00:00:00\",\"1955-01-01T00:00:00\",\"1956-01-01T00:00:00\",\"1957-01-01T00:00:00\",\"1958-01-01T00:00:00\",\"1959-01-01T00:00:00\",\"1960-01-01T00:00:00\",\"1961-01-01T00:00:00\",\"1962-01-01T00:00:00\",\"1963-01-01T00:00:00\",\"1964-01-01T00:00:00\",\"1965-01-01T00:00:00\",\"1966-01-01T00:00:00\",\"1967-01-01T00:00:00\",\"1968-01-01T00:00:00\",\"1969-01-01T00:00:00\",\"1970-01-01T00:00:00\",\"1971-01-01T00:00:00\",\"1972-01-01T00:00:00\",\"1973-01-01T00:00:00\",\"1974-01-01T00:00:00\",\"1975-01-01T00:00:00\",\"1976-01-01T00:00:00\",\"1977-01-01T00:00:00\",\"1978-01-01T00:00:00\",\"1979-01-01T00:00:00\",\"1980-01-01T00:00:00\",\"1981-01-01T00:00:00\",\"1982-01-01T00:00:00\",\"1983-01-01T00:00:00\",\"1984-01-01T00:00:00\",\"1985-01-01T00:00:00\",\"1986-01-01T00:00:00\",\"1987-01-01T00:00:00\",\"1988-01-01T00:00:00\",\"1989-01-01T00:00:00\",\"1990-01-01T00:00:00\",\"1991-01-01T00:00:00\",\"1992-01-01T00:00:00\",\"1993-01-01T00:00:00\",\"1994-01-01T00:00:00\",\"1995-01-01T00:00:00\",\"1996-01-01T00:00:00\",\"1997-01-01T00:00:00\",\"1998-01-01T00:00:00\",\"1999-01-01T00:00:00\",\"2000-01-01T00:00:00\",\"2001-01-01T00:00:00\",\"2002-01-01T00:00:00\",\"2003-01-01T00:00:00\",\"2004-01-01T00:00:00\",\"2005-01-01T00:00:00\",\"2006-01-01T00:00:00\",\"2007-01-01T00:00:00\",\"2008-01-01T00:00:00\",\"2009-01-01T00:00:00\",\"2010-01-01T00:00:00\",\"2011-01-01T00:00:00\",\"2012-01-01T00:00:00\",\"2013-01-01T00:00:00\"],\"y\":[3.251968501,3.374015745,3.562992122,3.51181102,3.598425193,3.972440941,3.870078736,4.043307082,3.929133854,3.964566925,3.763779524,4.291338578,4.346456688,4.358267712,4.503937003,4.748031491,4.543307082,4.480314956,4.169291334,4.610236216,4.397637791,4.452755901,4.484251964,4.751968499,4.67716535,4.881889759,5.240157475,5.003937003,5.472440939,5.409448813,5.370078735,5.303149601,5.555118105,5.362204719,5.598425191,6.086614167,5.858267711,6.188976372,6.153543301,5.74803149,5.771653537,5.795275585,5.980314955,6.157480309,6.232283458,6.334645663,6.35826771,6.291338576,6.499999993,6.618110229,6.787401568,7.066929127,6.665354324,7.011811016,7.062992119,7.287401567,7.381889756,7.759842512,7.740157472,7.74409448,7.917322827,7.996062984,8.350393692,8.586614164,8.901574794,8.96456692,9.326771644,8.980314951],\"type\":\"scatter\"},{\"name\":\"Predicted Data\",\"x\":[\"2014-01-01T00:00:00\",\"2015-01-01T00:00:00\",\"2016-01-01T00:00:00\",\"2017-01-01T00:00:00\",\"2018-01-01T00:00:00\",\"2019-01-01T00:00:00\",\"2020-01-01T00:00:00\",\"2021-01-01T00:00:00\",\"2022-01-01T00:00:00\",\"2023-01-01T00:00:00\",\"2024-01-01T00:00:00\",\"2025-01-01T00:00:00\",\"2026-01-01T00:00:00\",\"2027-01-01T00:00:00\",\"2028-01-01T00:00:00\",\"2029-01-01T00:00:00\",\"2030-01-01T00:00:00\",\"2031-01-01T00:00:00\",\"2032-01-01T00:00:00\",\"2033-01-01T00:00:00\",\"2034-01-01T00:00:00\",\"2035-01-01T00:00:00\",\"2036-01-01T00:00:00\",\"2037-01-01T00:00:00\",\"2038-01-01T00:00:00\",\"2039-01-01T00:00:00\",\"2040-01-01T00:00:00\",\"2041-01-01T00:00:00\",\"2042-01-01T00:00:00\",\"2043-01-01T00:00:00\",\"2044-01-01T00:00:00\",\"2045-01-01T00:00:00\",\"2046-01-01T00:00:00\",\"2047-01-01T00:00:00\",\"2048-01-01T00:00:00\",\"2049-01-01T00:00:00\",\"2050-01-01T00:00:00\"],\"y\":[8.364787101745605,8.439334869384766,8.513882637023926,8.588431358337402,8.662979125976562,8.737526893615723,8.812074661254883,8.886622428894043,8.961170196533203,9.03571891784668,9.11026668548584,9.184814453125,9.25936222076416,9.33390998840332,9.40845775604248,9.483006477355957,9.557554244995117,9.632101058959961,9.706648826599121,9.781195640563965,9.855743408203125,9.930291175842285,10.004837989807129,10.079385757446289,10.153932571411133,10.228480339050293,10.303028106689453,10.377574920654297,10.45212173461914,10.526670455932617,10.601217269897461,10.675765037536621,10.750312805175781,10.824860572814941,10.899529457092285,10.974237442016602,11.048945426940918],\"type\":\"scatter\"}],                        {\"hovermode\":\"x unified\",\"title\":{\"text\":\"Sea Level Change Prediction (1946-2050)\"},\"xaxis\":{\"title\":{\"text\":\"Year\"}},\"yaxis\":{\"title\":{\"text\":\"CSIRO Adjusted Sea Level\"}},\"template\":{\"data\":{\"histogram2dcontour\":[{\"type\":\"histogram2dcontour\",\"colorbar\":{\"outlinewidth\":0,\"ticks\":\"\"},\"colorscale\":[[0.0,\"#0d0887\"],[0.1111111111111111,\"#46039f\"],[0.2222222222222222,\"#7201a8\"],[0.3333333333333333,\"#9c179e\"],[0.4444444444444444,\"#bd3786\"],[0.5555555555555556,\"#d8576b\"],[0.6666666666666666,\"#ed7953\"],[0.7777777777777778,\"#fb9f3a\"],[0.8888888888888888,\"#fdca26\"],[1.0,\"#f0f921\"]]}],\"choropleth\":[{\"type\":\"choropleth\",\"colorbar\":{\"outlinewidth\":0,\"ticks\":\"\"}}],\"histogram2d\":[{\"type\":\"histogram2d\",\"colorbar\":{\"outlinewidth\":0,\"ticks\":\"\"},\"colorscale\":[[0.0,\"#0d0887\"],[0.1111111111111111,\"#46039f\"],[0.2222222222222222,\"#7201a8\"],[0.3333333333333333,\"#9c179e\"],[0.4444444444444444,\"#bd3786\"],[0.5555555555555556,\"#d8576b\"],[0.6666666666666666,\"#ed7953\"],[0.7777777777777778,\"#fb9f3a\"],[0.8888888888888888,\"#fdca26\"],[1.0,\"#f0f921\"]]}],\"heatmap\":[{\"type\":\"heatmap\",\"colorbar\":{\"outlinewidth\":0,\"ticks\":\"\"},\"colorscale\":[[0.0,\"#0d0887\"],[0.1111111111111111,\"#46039f\"],[0.2222222222222222,\"#7201a8\"],[0.3333333333333333,\"#9c179e\"],[0.4444444444444444,\"#bd3786\"],[0.5555555555555556,\"#d8576b\"],[0.6666666666666666,\"#ed7953\"],[0.7777777777777778,\"#fb9f3a\"],[0.8888888888888888,\"#fdca26\"],[1.0,\"#f0f921\"]]}],\"heatmapgl\":[{\"type\":\"heatmapgl\",\"colorbar\":{\"outlinewidth\":0,\"ticks\":\"\"},\"colorscale\":[[0.0,\"#0d0887\"],[0.1111111111111111,\"#46039f\"],[0.2222222222222222,\"#7201a8\"],[0.3333333333333333,\"#9c179e\"],[0.4444444444444444,\"#bd3786\"],[0.5555555555555556,\"#d8576b\"],[0.6666666666666666,\"#ed7953\"],[0.7777777777777778,\"#fb9f3a\"],[0.8888888888888888,\"#fdca26\"],[1.0,\"#f0f921\"]]}],\"contourcarpet\":[{\"type\":\"contourcarpet\",\"colorbar\":{\"outlinewidth\":0,\"ticks\":\"\"}}],\"contour\":[{\"type\":\"contour\",\"colorbar\":{\"outlinewidth\":0,\"ticks\":\"\"},\"colorscale\":[[0.0,\"#0d0887\"],[0.1111111111111111,\"#46039f\"],[0.2222222222222222,\"#7201a8\"],[0.3333333333333333,\"#9c179e\"],[0.4444444444444444,\"#bd3786\"],[0.5555555555555556,\"#d8576b\"],[0.6666666666666666,\"#ed7953\"],[0.7777777777777778,\"#fb9f3a\"],[0.8888888888888888,\"#fdca26\"],[1.0,\"#f0f921\"]]}],\"surface\":[{\"type\":\"surface\",\"colorbar\":{\"outlinewidth\":0,\"ticks\":\"\"},\"colorscale\":[[0.0,\"#0d0887\"],[0.1111111111111111,\"#46039f\"],[0.2222222222222222,\"#7201a8\"],[0.3333333333333333,\"#9c179e\"],[0.4444444444444444,\"#bd3786\"],[0.5555555555555556,\"#d8576b\"],[0.6666666666666666,\"#ed7953\"],[0.7777777777777778,\"#fb9f3a\"],[0.8888888888888888,\"#fdca26\"],[1.0,\"#f0f921\"]]}],\"mesh3d\":[{\"type\":\"mesh3d\",\"colorbar\":{\"outlinewidth\":0,\"ticks\":\"\"}}],\"scatter\":[{\"fillpattern\":{\"fillmode\":\"overlay\",\"size\":10,\"solidity\":0.2},\"type\":\"scatter\"}],\"parcoords\":[{\"type\":\"parcoords\",\"line\":{\"colorbar\":{\"outlinewidth\":0,\"ticks\":\"\"}}}],\"scatterpolargl\":[{\"type\":\"scatterpolargl\",\"marker\":{\"colorbar\":{\"outlinewidth\":0,\"ticks\":\"\"}}}],\"bar\":[{\"error_x\":{\"color\":\"#2a3f5f\"},\"error_y\":{\"color\":\"#2a3f5f\"},\"marker\":{\"line\":{\"color\":\"#E5ECF6\",\"width\":0.5},\"pattern\":{\"fillmode\":\"overlay\",\"size\":10,\"solidity\":0.2}},\"type\":\"bar\"}],\"scattergeo\":[{\"type\":\"scattergeo\",\"marker\":{\"colorbar\":{\"outlinewidth\":0,\"ticks\":\"\"}}}],\"scatterpolar\":[{\"type\":\"scatterpolar\",\"marker\":{\"colorbar\":{\"outlinewidth\":0,\"ticks\":\"\"}}}],\"histogram\":[{\"marker\":{\"pattern\":{\"fillmode\":\"overlay\",\"size\":10,\"solidity\":0.2}},\"type\":\"histogram\"}],\"scattergl\":[{\"type\":\"scattergl\",\"marker\":{\"colorbar\":{\"outlinewidth\":0,\"ticks\":\"\"}}}],\"scatter3d\":[{\"type\":\"scatter3d\",\"line\":{\"colorbar\":{\"outlinewidth\":0,\"ticks\":\"\"}},\"marker\":{\"colorbar\":{\"outlinewidth\":0,\"ticks\":\"\"}}}],\"scattermapbox\":[{\"type\":\"scattermapbox\",\"marker\":{\"colorbar\":{\"outlinewidth\":0,\"ticks\":\"\"}}}],\"scatterternary\":[{\"type\":\"scatterternary\",\"marker\":{\"colorbar\":{\"outlinewidth\":0,\"ticks\":\"\"}}}],\"scattercarpet\":[{\"type\":\"scattercarpet\",\"marker\":{\"colorbar\":{\"outlinewidth\":0,\"ticks\":\"\"}}}],\"carpet\":[{\"aaxis\":{\"endlinecolor\":\"#2a3f5f\",\"gridcolor\":\"white\",\"linecolor\":\"white\",\"minorgridcolor\":\"white\",\"startlinecolor\":\"#2a3f5f\"},\"baxis\":{\"endlinecolor\":\"#2a3f5f\",\"gridcolor\":\"white\",\"linecolor\":\"white\",\"minorgridcolor\":\"white\",\"startlinecolor\":\"#2a3f5f\"},\"type\":\"carpet\"}],\"table\":[{\"cells\":{\"fill\":{\"color\":\"#EBF0F8\"},\"line\":{\"color\":\"white\"}},\"header\":{\"fill\":{\"color\":\"#C8D4E3\"},\"line\":{\"color\":\"white\"}},\"type\":\"table\"}],\"barpolar\":[{\"marker\":{\"line\":{\"color\":\"#E5ECF6\",\"width\":0.5},\"pattern\":{\"fillmode\":\"overlay\",\"size\":10,\"solidity\":0.2}},\"type\":\"barpolar\"}],\"pie\":[{\"automargin\":true,\"type\":\"pie\"}]},\"layout\":{\"autotypenumbers\":\"strict\",\"colorway\":[\"#636efa\",\"#EF553B\",\"#00cc96\",\"#ab63fa\",\"#FFA15A\",\"#19d3f3\",\"#FF6692\",\"#B6E880\",\"#FF97FF\",\"#FECB52\"],\"font\":{\"color\":\"#2a3f5f\"},\"hovermode\":\"closest\",\"hoverlabel\":{\"align\":\"left\"},\"paper_bgcolor\":\"white\",\"plot_bgcolor\":\"#E5ECF6\",\"polar\":{\"bgcolor\":\"#E5ECF6\",\"angularaxis\":{\"gridcolor\":\"white\",\"linecolor\":\"white\",\"ticks\":\"\"},\"radialaxis\":{\"gridcolor\":\"white\",\"linecolor\":\"white\",\"ticks\":\"\"}},\"ternary\":{\"bgcolor\":\"#E5ECF6\",\"aaxis\":{\"gridcolor\":\"white\",\"linecolor\":\"white\",\"ticks\":\"\"},\"baxis\":{\"gridcolor\":\"white\",\"linecolor\":\"white\",\"ticks\":\"\"},\"caxis\":{\"gridcolor\":\"white\",\"linecolor\":\"white\",\"ticks\":\"\"}},\"coloraxis\":{\"colorbar\":{\"outlinewidth\":0,\"ticks\":\"\"}},\"colorscale\":{\"sequential\":[[0.0,\"#0d0887\"],[0.1111111111111111,\"#46039f\"],[0.2222222222222222,\"#7201a8\"],[0.3333333333333333,\"#9c179e\"],[0.4444444444444444,\"#bd3786\"],[0.5555555555555556,\"#d8576b\"],[0.6666666666666666,\"#ed7953\"],[0.7777777777777778,\"#fb9f3a\"],[0.8888888888888888,\"#fdca26\"],[1.0,\"#f0f921\"]],\"sequentialminus\":[[0.0,\"#0d0887\"],[0.1111111111111111,\"#46039f\"],[0.2222222222222222,\"#7201a8\"],[0.3333333333333333,\"#9c179e\"],[0.4444444444444444,\"#bd3786\"],[0.5555555555555556,\"#d8576b\"],[0.6666666666666666,\"#ed7953\"],[0.7777777777777778,\"#fb9f3a\"],[0.8888888888888888,\"#fdca26\"],[1.0,\"#f0f921\"]],\"diverging\":[[0,\"#8e0152\"],[0.1,\"#c51b7d\"],[0.2,\"#de77ae\"],[0.3,\"#f1b6da\"],[0.4,\"#fde0ef\"],[0.5,\"#f7f7f7\"],[0.6,\"#e6f5d0\"],[0.7,\"#b8e186\"],[0.8,\"#7fbc41\"],[0.9,\"#4d9221\"],[1,\"#276419\"]]},\"xaxis\":{\"gridcolor\":\"white\",\"linecolor\":\"white\",\"ticks\":\"\",\"title\":{\"standoff\":15},\"zerolinecolor\":\"white\",\"automargin\":true,\"zerolinewidth\":2},\"yaxis\":{\"gridcolor\":\"white\",\"linecolor\":\"white\",\"ticks\":\"\",\"title\":{\"standoff\":15},\"zerolinecolor\":\"white\",\"automargin\":true,\"zerolinewidth\":2},\"scene\":{\"xaxis\":{\"backgroundcolor\":\"#E5ECF6\",\"gridcolor\":\"white\",\"linecolor\":\"white\",\"showbackground\":true,\"ticks\":\"\",\"zerolinecolor\":\"white\",\"gridwidth\":2},\"yaxis\":{\"backgroundcolor\":\"#E5ECF6\",\"gridcolor\":\"white\",\"linecolor\":\"white\",\"showbackground\":true,\"ticks\":\"\",\"zerolinecolor\":\"white\",\"gridwidth\":2},\"zaxis\":{\"backgroundcolor\":\"#E5ECF6\",\"gridcolor\":\"white\",\"linecolor\":\"white\",\"showbackground\":true,\"ticks\":\"\",\"zerolinecolor\":\"white\",\"gridwidth\":2}},\"shapedefaults\":{\"line\":{\"color\":\"#2a3f5f\"}},\"annotationdefaults\":{\"arrowcolor\":\"#2a3f5f\",\"arrowhead\":0,\"arrowwidth\":1},\"geo\":{\"bgcolor\":\"white\",\"landcolor\":\"#E5ECF6\",\"subunitcolor\":\"white\",\"showland\":true,\"showlakes\":true,\"lakecolor\":\"white\"},\"title\":{\"x\":0.05},\"mapbox\":{\"style\":\"light\"}}}},                        {\"responsive\": true}                    ).then(function(){\n",
       "                            \n",
       "var gd = document.getElementById('699be41d-d076-4b17-94ce-bf54ec6ca08d');\n",
       "var x = new MutationObserver(function (mutations, observer) {{\n",
       "        var display = window.getComputedStyle(gd).display;\n",
       "        if (!display || display === 'none') {{\n",
       "            console.log([gd, 'removed!']);\n",
       "            Plotly.purge(gd);\n",
       "            observer.disconnect();\n",
       "        }}\n",
       "}});\n",
       "\n",
       "// Listen for the removal of the full notebook cells\n",
       "var notebookContainer = gd.closest('#notebook-container');\n",
       "if (notebookContainer) {{\n",
       "    x.observe(notebookContainer, {childList: true});\n",
       "}}\n",
       "\n",
       "// Listen for the clearing of the current output cell\n",
       "var outputEl = gd.closest('.output');\n",
       "if (outputEl) {{\n",
       "    x.observe(outputEl, {childList: true});\n",
       "}}\n",
       "\n",
       "                        })                };                });            </script>        </div>"
      ]
     },
     "metadata": {},
     "output_type": "display_data"
    }
   ],
   "source": [
    "import plotly.graph_objects as go\n",
    "\n",
    "# Create a trace for historical data\n",
    "trace1 = go.Scatter(x=data.index, y=data[target], name='Historical Data', mode='markers')\n",
    "\n",
    "# Create a trace for predicted data\n",
    "trace2 = go.Scatter(x=future_data.index, y=future_data[target], name='Predicted Data')\n",
    "\n",
    "# Create layout\n",
    "layout = go.Layout(title='Sea Level Change Prediction (1946-2050)',\n",
    "                   xaxis=dict(title='Year'),\n",
    "                   yaxis=dict(title='CSIRO Adjusted Sea Level'),\n",
    "                   hovermode='x unified')\n",
    "\n",
    "# Combine traces and layout into a figure\n",
    "fig = go.Figure(data=[trace1, trace2], layout=layout)\n",
    "\n",
    "# Show the figure\n",
    "fig.show()\n"
   ]
  },
  {
   "cell_type": "code",
   "execution_count": 66,
   "id": "96a9815a-f9fe-4beb-9b35-2157f376ddd0",
   "metadata": {},
   "outputs": [
    {
     "data": {
      "text/html": [
       "<div>\n",
       "<style scoped>\n",
       "    .dataframe tbody tr th:only-of-type {\n",
       "        vertical-align: middle;\n",
       "    }\n",
       "\n",
       "    .dataframe tbody tr th {\n",
       "        vertical-align: top;\n",
       "    }\n",
       "\n",
       "    .dataframe thead th {\n",
       "        text-align: right;\n",
       "    }\n",
       "</style>\n",
       "<table border=\"1\" class=\"dataframe\">\n",
       "  <thead>\n",
       "    <tr style=\"text-align: right;\">\n",
       "      <th></th>\n",
       "      <th>Mean cumulative mass balance</th>\n",
       "      <th>Number of observations</th>\n",
       "      <th>Lower Error Bound</th>\n",
       "      <th>Upper Error Bound</th>\n",
       "      <th>Temperature</th>\n",
       "      <th>Emissions</th>\n",
       "      <th>CSIRO Adjusted Sea Level</th>\n",
       "    </tr>\n",
       "    <tr>\n",
       "      <th>Year</th>\n",
       "      <th></th>\n",
       "      <th></th>\n",
       "      <th></th>\n",
       "      <th></th>\n",
       "      <th></th>\n",
       "      <th></th>\n",
       "      <th></th>\n",
       "    </tr>\n",
       "  </thead>\n",
       "  <tbody>\n",
       "    <tr>\n",
       "      <th>2014-01-01</th>\n",
       "      <td>23.146403</td>\n",
       "      <td>46.764267</td>\n",
       "      <td>8.166706</td>\n",
       "      <td>8.692177</td>\n",
       "      <td>0.642059</td>\n",
       "      <td>3.330029e+10</td>\n",
       "      <td>8.364787</td>\n",
       "    </tr>\n",
       "    <tr>\n",
       "      <th>2015-01-01</th>\n",
       "      <td>23.446342</td>\n",
       "      <td>47.313700</td>\n",
       "      <td>8.245000</td>\n",
       "      <td>8.769673</td>\n",
       "      <td>0.654668</td>\n",
       "      <td>3.373542e+10</td>\n",
       "      <td>8.439335</td>\n",
       "    </tr>\n",
       "    <tr>\n",
       "      <th>2016-01-01</th>\n",
       "      <td>23.746281</td>\n",
       "      <td>47.863133</td>\n",
       "      <td>8.323295</td>\n",
       "      <td>8.847168</td>\n",
       "      <td>0.667276</td>\n",
       "      <td>3.417056e+10</td>\n",
       "      <td>8.513883</td>\n",
       "    </tr>\n",
       "    <tr>\n",
       "      <th>2017-01-01</th>\n",
       "      <td>24.046219</td>\n",
       "      <td>48.412566</td>\n",
       "      <td>8.401589</td>\n",
       "      <td>8.924663</td>\n",
       "      <td>0.679885</td>\n",
       "      <td>3.460569e+10</td>\n",
       "      <td>8.588431</td>\n",
       "    </tr>\n",
       "    <tr>\n",
       "      <th>2018-01-01</th>\n",
       "      <td>24.346158</td>\n",
       "      <td>48.961999</td>\n",
       "      <td>8.479883</td>\n",
       "      <td>9.002159</td>\n",
       "      <td>0.692494</td>\n",
       "      <td>3.504082e+10</td>\n",
       "      <td>8.662979</td>\n",
       "    </tr>\n",
       "    <tr>\n",
       "      <th>2019-01-01</th>\n",
       "      <td>24.646097</td>\n",
       "      <td>49.511433</td>\n",
       "      <td>8.558178</td>\n",
       "      <td>9.079654</td>\n",
       "      <td>0.705102</td>\n",
       "      <td>3.547595e+10</td>\n",
       "      <td>8.737527</td>\n",
       "    </tr>\n",
       "    <tr>\n",
       "      <th>2020-01-01</th>\n",
       "      <td>24.946036</td>\n",
       "      <td>50.060866</td>\n",
       "      <td>8.636472</td>\n",
       "      <td>9.157150</td>\n",
       "      <td>0.717711</td>\n",
       "      <td>3.591108e+10</td>\n",
       "      <td>8.812075</td>\n",
       "    </tr>\n",
       "    <tr>\n",
       "      <th>2021-01-01</th>\n",
       "      <td>25.245975</td>\n",
       "      <td>50.610299</td>\n",
       "      <td>8.714766</td>\n",
       "      <td>9.234645</td>\n",
       "      <td>0.730320</td>\n",
       "      <td>3.634622e+10</td>\n",
       "      <td>8.886622</td>\n",
       "    </tr>\n",
       "    <tr>\n",
       "      <th>2022-01-01</th>\n",
       "      <td>25.545913</td>\n",
       "      <td>51.159732</td>\n",
       "      <td>8.793061</td>\n",
       "      <td>9.312141</td>\n",
       "      <td>0.742928</td>\n",
       "      <td>3.678135e+10</td>\n",
       "      <td>8.961170</td>\n",
       "    </tr>\n",
       "    <tr>\n",
       "      <th>2023-01-01</th>\n",
       "      <td>25.845852</td>\n",
       "      <td>51.709165</td>\n",
       "      <td>8.871355</td>\n",
       "      <td>9.389636</td>\n",
       "      <td>0.755537</td>\n",
       "      <td>3.721648e+10</td>\n",
       "      <td>9.035719</td>\n",
       "    </tr>\n",
       "    <tr>\n",
       "      <th>2024-01-01</th>\n",
       "      <td>26.145791</td>\n",
       "      <td>52.258598</td>\n",
       "      <td>8.949649</td>\n",
       "      <td>9.467131</td>\n",
       "      <td>0.768146</td>\n",
       "      <td>3.765161e+10</td>\n",
       "      <td>9.110267</td>\n",
       "    </tr>\n",
       "    <tr>\n",
       "      <th>2025-01-01</th>\n",
       "      <td>26.445730</td>\n",
       "      <td>52.808031</td>\n",
       "      <td>9.027944</td>\n",
       "      <td>9.544627</td>\n",
       "      <td>0.780754</td>\n",
       "      <td>3.808674e+10</td>\n",
       "      <td>9.184814</td>\n",
       "    </tr>\n",
       "    <tr>\n",
       "      <th>2026-01-01</th>\n",
       "      <td>26.745668</td>\n",
       "      <td>53.357465</td>\n",
       "      <td>9.106238</td>\n",
       "      <td>9.622122</td>\n",
       "      <td>0.793363</td>\n",
       "      <td>3.852188e+10</td>\n",
       "      <td>9.259362</td>\n",
       "    </tr>\n",
       "    <tr>\n",
       "      <th>2027-01-01</th>\n",
       "      <td>27.045607</td>\n",
       "      <td>53.906898</td>\n",
       "      <td>9.184532</td>\n",
       "      <td>9.699618</td>\n",
       "      <td>0.805972</td>\n",
       "      <td>3.895701e+10</td>\n",
       "      <td>9.333910</td>\n",
       "    </tr>\n",
       "    <tr>\n",
       "      <th>2028-01-01</th>\n",
       "      <td>27.345546</td>\n",
       "      <td>54.456331</td>\n",
       "      <td>9.262827</td>\n",
       "      <td>9.777113</td>\n",
       "      <td>0.818581</td>\n",
       "      <td>3.939214e+10</td>\n",
       "      <td>9.408458</td>\n",
       "    </tr>\n",
       "    <tr>\n",
       "      <th>2029-01-01</th>\n",
       "      <td>27.645485</td>\n",
       "      <td>55.005764</td>\n",
       "      <td>9.341121</td>\n",
       "      <td>9.854608</td>\n",
       "      <td>0.831189</td>\n",
       "      <td>3.982727e+10</td>\n",
       "      <td>9.483006</td>\n",
       "    </tr>\n",
       "    <tr>\n",
       "      <th>2030-01-01</th>\n",
       "      <td>27.945424</td>\n",
       "      <td>55.555197</td>\n",
       "      <td>9.419415</td>\n",
       "      <td>9.932104</td>\n",
       "      <td>0.843798</td>\n",
       "      <td>4.026240e+10</td>\n",
       "      <td>9.557554</td>\n",
       "    </tr>\n",
       "    <tr>\n",
       "      <th>2031-01-01</th>\n",
       "      <td>28.245362</td>\n",
       "      <td>56.104630</td>\n",
       "      <td>9.497710</td>\n",
       "      <td>10.009599</td>\n",
       "      <td>0.856407</td>\n",
       "      <td>4.069754e+10</td>\n",
       "      <td>9.632101</td>\n",
       "    </tr>\n",
       "    <tr>\n",
       "      <th>2032-01-01</th>\n",
       "      <td>28.545301</td>\n",
       "      <td>56.654063</td>\n",
       "      <td>9.576004</td>\n",
       "      <td>10.087095</td>\n",
       "      <td>0.869015</td>\n",
       "      <td>4.113267e+10</td>\n",
       "      <td>9.706649</td>\n",
       "    </tr>\n",
       "    <tr>\n",
       "      <th>2033-01-01</th>\n",
       "      <td>28.845240</td>\n",
       "      <td>57.203497</td>\n",
       "      <td>9.654298</td>\n",
       "      <td>10.164590</td>\n",
       "      <td>0.881624</td>\n",
       "      <td>4.156780e+10</td>\n",
       "      <td>9.781196</td>\n",
       "    </tr>\n",
       "    <tr>\n",
       "      <th>2034-01-01</th>\n",
       "      <td>29.145179</td>\n",
       "      <td>57.752930</td>\n",
       "      <td>9.732593</td>\n",
       "      <td>10.242086</td>\n",
       "      <td>0.894233</td>\n",
       "      <td>4.200293e+10</td>\n",
       "      <td>9.855743</td>\n",
       "    </tr>\n",
       "    <tr>\n",
       "      <th>2035-01-01</th>\n",
       "      <td>29.445118</td>\n",
       "      <td>58.302363</td>\n",
       "      <td>9.810887</td>\n",
       "      <td>10.319581</td>\n",
       "      <td>0.906841</td>\n",
       "      <td>4.243807e+10</td>\n",
       "      <td>9.930291</td>\n",
       "    </tr>\n",
       "    <tr>\n",
       "      <th>2036-01-01</th>\n",
       "      <td>29.745056</td>\n",
       "      <td>58.851796</td>\n",
       "      <td>9.889181</td>\n",
       "      <td>10.397076</td>\n",
       "      <td>0.919450</td>\n",
       "      <td>4.287320e+10</td>\n",
       "      <td>10.004838</td>\n",
       "    </tr>\n",
       "    <tr>\n",
       "      <th>2037-01-01</th>\n",
       "      <td>30.044995</td>\n",
       "      <td>59.401229</td>\n",
       "      <td>9.967476</td>\n",
       "      <td>10.474572</td>\n",
       "      <td>0.932059</td>\n",
       "      <td>4.330833e+10</td>\n",
       "      <td>10.079386</td>\n",
       "    </tr>\n",
       "    <tr>\n",
       "      <th>2038-01-01</th>\n",
       "      <td>30.344934</td>\n",
       "      <td>59.950662</td>\n",
       "      <td>10.045770</td>\n",
       "      <td>10.552067</td>\n",
       "      <td>0.944668</td>\n",
       "      <td>4.374346e+10</td>\n",
       "      <td>10.153933</td>\n",
       "    </tr>\n",
       "    <tr>\n",
       "      <th>2039-01-01</th>\n",
       "      <td>30.644873</td>\n",
       "      <td>60.500095</td>\n",
       "      <td>10.124064</td>\n",
       "      <td>10.629563</td>\n",
       "      <td>0.957276</td>\n",
       "      <td>4.417859e+10</td>\n",
       "      <td>10.228480</td>\n",
       "    </tr>\n",
       "    <tr>\n",
       "      <th>2040-01-01</th>\n",
       "      <td>30.944812</td>\n",
       "      <td>61.049529</td>\n",
       "      <td>10.202359</td>\n",
       "      <td>10.707058</td>\n",
       "      <td>0.969885</td>\n",
       "      <td>4.461373e+10</td>\n",
       "      <td>10.303028</td>\n",
       "    </tr>\n",
       "    <tr>\n",
       "      <th>2041-01-01</th>\n",
       "      <td>31.244750</td>\n",
       "      <td>61.598962</td>\n",
       "      <td>10.280653</td>\n",
       "      <td>10.784554</td>\n",
       "      <td>0.982494</td>\n",
       "      <td>4.504886e+10</td>\n",
       "      <td>10.377575</td>\n",
       "    </tr>\n",
       "    <tr>\n",
       "      <th>2042-01-01</th>\n",
       "      <td>31.544689</td>\n",
       "      <td>62.148395</td>\n",
       "      <td>10.358947</td>\n",
       "      <td>10.862049</td>\n",
       "      <td>0.995102</td>\n",
       "      <td>4.548399e+10</td>\n",
       "      <td>10.452122</td>\n",
       "    </tr>\n",
       "    <tr>\n",
       "      <th>2043-01-01</th>\n",
       "      <td>31.844628</td>\n",
       "      <td>62.697828</td>\n",
       "      <td>10.437242</td>\n",
       "      <td>10.939544</td>\n",
       "      <td>1.007711</td>\n",
       "      <td>4.591912e+10</td>\n",
       "      <td>10.526670</td>\n",
       "    </tr>\n",
       "    <tr>\n",
       "      <th>2044-01-01</th>\n",
       "      <td>32.144567</td>\n",
       "      <td>63.247261</td>\n",
       "      <td>10.515536</td>\n",
       "      <td>11.017040</td>\n",
       "      <td>1.020320</td>\n",
       "      <td>4.635425e+10</td>\n",
       "      <td>10.601217</td>\n",
       "    </tr>\n",
       "    <tr>\n",
       "      <th>2045-01-01</th>\n",
       "      <td>32.444505</td>\n",
       "      <td>63.796694</td>\n",
       "      <td>10.593830</td>\n",
       "      <td>11.094535</td>\n",
       "      <td>1.032928</td>\n",
       "      <td>4.678939e+10</td>\n",
       "      <td>10.675765</td>\n",
       "    </tr>\n",
       "    <tr>\n",
       "      <th>2046-01-01</th>\n",
       "      <td>32.744444</td>\n",
       "      <td>64.346127</td>\n",
       "      <td>10.672125</td>\n",
       "      <td>11.172031</td>\n",
       "      <td>1.045537</td>\n",
       "      <td>4.722452e+10</td>\n",
       "      <td>10.750313</td>\n",
       "    </tr>\n",
       "    <tr>\n",
       "      <th>2047-01-01</th>\n",
       "      <td>33.044383</td>\n",
       "      <td>64.895561</td>\n",
       "      <td>10.750419</td>\n",
       "      <td>11.249526</td>\n",
       "      <td>1.058146</td>\n",
       "      <td>4.765965e+10</td>\n",
       "      <td>10.824861</td>\n",
       "    </tr>\n",
       "    <tr>\n",
       "      <th>2048-01-01</th>\n",
       "      <td>33.344322</td>\n",
       "      <td>65.444994</td>\n",
       "      <td>10.828713</td>\n",
       "      <td>11.327022</td>\n",
       "      <td>1.070754</td>\n",
       "      <td>4.809478e+10</td>\n",
       "      <td>10.899529</td>\n",
       "    </tr>\n",
       "    <tr>\n",
       "      <th>2049-01-01</th>\n",
       "      <td>33.644261</td>\n",
       "      <td>65.994427</td>\n",
       "      <td>10.907008</td>\n",
       "      <td>11.404517</td>\n",
       "      <td>1.083363</td>\n",
       "      <td>4.852991e+10</td>\n",
       "      <td>10.974237</td>\n",
       "    </tr>\n",
       "    <tr>\n",
       "      <th>2050-01-01</th>\n",
       "      <td>33.944199</td>\n",
       "      <td>66.543860</td>\n",
       "      <td>10.985302</td>\n",
       "      <td>11.482012</td>\n",
       "      <td>1.095972</td>\n",
       "      <td>4.896505e+10</td>\n",
       "      <td>11.048945</td>\n",
       "    </tr>\n",
       "  </tbody>\n",
       "</table>\n",
       "</div>"
      ],
      "text/plain": [
       "            Mean cumulative mass balance  Number of observations  \\\n",
       "Year                                                               \n",
       "2014-01-01                     23.146403               46.764267   \n",
       "2015-01-01                     23.446342               47.313700   \n",
       "2016-01-01                     23.746281               47.863133   \n",
       "2017-01-01                     24.046219               48.412566   \n",
       "2018-01-01                     24.346158               48.961999   \n",
       "2019-01-01                     24.646097               49.511433   \n",
       "2020-01-01                     24.946036               50.060866   \n",
       "2021-01-01                     25.245975               50.610299   \n",
       "2022-01-01                     25.545913               51.159732   \n",
       "2023-01-01                     25.845852               51.709165   \n",
       "2024-01-01                     26.145791               52.258598   \n",
       "2025-01-01                     26.445730               52.808031   \n",
       "2026-01-01                     26.745668               53.357465   \n",
       "2027-01-01                     27.045607               53.906898   \n",
       "2028-01-01                     27.345546               54.456331   \n",
       "2029-01-01                     27.645485               55.005764   \n",
       "2030-01-01                     27.945424               55.555197   \n",
       "2031-01-01                     28.245362               56.104630   \n",
       "2032-01-01                     28.545301               56.654063   \n",
       "2033-01-01                     28.845240               57.203497   \n",
       "2034-01-01                     29.145179               57.752930   \n",
       "2035-01-01                     29.445118               58.302363   \n",
       "2036-01-01                     29.745056               58.851796   \n",
       "2037-01-01                     30.044995               59.401229   \n",
       "2038-01-01                     30.344934               59.950662   \n",
       "2039-01-01                     30.644873               60.500095   \n",
       "2040-01-01                     30.944812               61.049529   \n",
       "2041-01-01                     31.244750               61.598962   \n",
       "2042-01-01                     31.544689               62.148395   \n",
       "2043-01-01                     31.844628               62.697828   \n",
       "2044-01-01                     32.144567               63.247261   \n",
       "2045-01-01                     32.444505               63.796694   \n",
       "2046-01-01                     32.744444               64.346127   \n",
       "2047-01-01                     33.044383               64.895561   \n",
       "2048-01-01                     33.344322               65.444994   \n",
       "2049-01-01                     33.644261               65.994427   \n",
       "2050-01-01                     33.944199               66.543860   \n",
       "\n",
       "            Lower Error Bound  Upper Error Bound  Temperature     Emissions  \\\n",
       "Year                                                                          \n",
       "2014-01-01           8.166706           8.692177     0.642059  3.330029e+10   \n",
       "2015-01-01           8.245000           8.769673     0.654668  3.373542e+10   \n",
       "2016-01-01           8.323295           8.847168     0.667276  3.417056e+10   \n",
       "2017-01-01           8.401589           8.924663     0.679885  3.460569e+10   \n",
       "2018-01-01           8.479883           9.002159     0.692494  3.504082e+10   \n",
       "2019-01-01           8.558178           9.079654     0.705102  3.547595e+10   \n",
       "2020-01-01           8.636472           9.157150     0.717711  3.591108e+10   \n",
       "2021-01-01           8.714766           9.234645     0.730320  3.634622e+10   \n",
       "2022-01-01           8.793061           9.312141     0.742928  3.678135e+10   \n",
       "2023-01-01           8.871355           9.389636     0.755537  3.721648e+10   \n",
       "2024-01-01           8.949649           9.467131     0.768146  3.765161e+10   \n",
       "2025-01-01           9.027944           9.544627     0.780754  3.808674e+10   \n",
       "2026-01-01           9.106238           9.622122     0.793363  3.852188e+10   \n",
       "2027-01-01           9.184532           9.699618     0.805972  3.895701e+10   \n",
       "2028-01-01           9.262827           9.777113     0.818581  3.939214e+10   \n",
       "2029-01-01           9.341121           9.854608     0.831189  3.982727e+10   \n",
       "2030-01-01           9.419415           9.932104     0.843798  4.026240e+10   \n",
       "2031-01-01           9.497710          10.009599     0.856407  4.069754e+10   \n",
       "2032-01-01           9.576004          10.087095     0.869015  4.113267e+10   \n",
       "2033-01-01           9.654298          10.164590     0.881624  4.156780e+10   \n",
       "2034-01-01           9.732593          10.242086     0.894233  4.200293e+10   \n",
       "2035-01-01           9.810887          10.319581     0.906841  4.243807e+10   \n",
       "2036-01-01           9.889181          10.397076     0.919450  4.287320e+10   \n",
       "2037-01-01           9.967476          10.474572     0.932059  4.330833e+10   \n",
       "2038-01-01          10.045770          10.552067     0.944668  4.374346e+10   \n",
       "2039-01-01          10.124064          10.629563     0.957276  4.417859e+10   \n",
       "2040-01-01          10.202359          10.707058     0.969885  4.461373e+10   \n",
       "2041-01-01          10.280653          10.784554     0.982494  4.504886e+10   \n",
       "2042-01-01          10.358947          10.862049     0.995102  4.548399e+10   \n",
       "2043-01-01          10.437242          10.939544     1.007711  4.591912e+10   \n",
       "2044-01-01          10.515536          11.017040     1.020320  4.635425e+10   \n",
       "2045-01-01          10.593830          11.094535     1.032928  4.678939e+10   \n",
       "2046-01-01          10.672125          11.172031     1.045537  4.722452e+10   \n",
       "2047-01-01          10.750419          11.249526     1.058146  4.765965e+10   \n",
       "2048-01-01          10.828713          11.327022     1.070754  4.809478e+10   \n",
       "2049-01-01          10.907008          11.404517     1.083363  4.852991e+10   \n",
       "2050-01-01          10.985302          11.482012     1.095972  4.896505e+10   \n",
       "\n",
       "            CSIRO Adjusted Sea Level  \n",
       "Year                                  \n",
       "2014-01-01                  8.364787  \n",
       "2015-01-01                  8.439335  \n",
       "2016-01-01                  8.513883  \n",
       "2017-01-01                  8.588431  \n",
       "2018-01-01                  8.662979  \n",
       "2019-01-01                  8.737527  \n",
       "2020-01-01                  8.812075  \n",
       "2021-01-01                  8.886622  \n",
       "2022-01-01                  8.961170  \n",
       "2023-01-01                  9.035719  \n",
       "2024-01-01                  9.110267  \n",
       "2025-01-01                  9.184814  \n",
       "2026-01-01                  9.259362  \n",
       "2027-01-01                  9.333910  \n",
       "2028-01-01                  9.408458  \n",
       "2029-01-01                  9.483006  \n",
       "2030-01-01                  9.557554  \n",
       "2031-01-01                  9.632101  \n",
       "2032-01-01                  9.706649  \n",
       "2033-01-01                  9.781196  \n",
       "2034-01-01                  9.855743  \n",
       "2035-01-01                  9.930291  \n",
       "2036-01-01                 10.004838  \n",
       "2037-01-01                 10.079386  \n",
       "2038-01-01                 10.153933  \n",
       "2039-01-01                 10.228480  \n",
       "2040-01-01                 10.303028  \n",
       "2041-01-01                 10.377575  \n",
       "2042-01-01                 10.452122  \n",
       "2043-01-01                 10.526670  \n",
       "2044-01-01                 10.601217  \n",
       "2045-01-01                 10.675765  \n",
       "2046-01-01                 10.750313  \n",
       "2047-01-01                 10.824861  \n",
       "2048-01-01                 10.899529  \n",
       "2049-01-01                 10.974237  \n",
       "2050-01-01                 11.048945  "
      ]
     },
     "execution_count": 66,
     "metadata": {},
     "output_type": "execute_result"
    }
   ],
   "source": [
    "future_data"
   ]
  },
  {
   "cell_type": "code",
   "execution_count": null,
   "id": "9423511d-11ab-4f96-8bc5-b5bf71edbd41",
   "metadata": {},
   "outputs": [],
   "source": []
  }
 ],
 "metadata": {
  "kernelspec": {
   "display_name": "Python 3 (ipykernel)",
   "language": "python",
   "name": "python3"
  },
  "language_info": {
   "codemirror_mode": {
    "name": "ipython",
    "version": 3
   },
   "file_extension": ".py",
   "mimetype": "text/x-python",
   "name": "python",
   "nbconvert_exporter": "python",
   "pygments_lexer": "ipython3",
   "version": "3.7.15"
  }
 },
 "nbformat": 4,
 "nbformat_minor": 5
}
